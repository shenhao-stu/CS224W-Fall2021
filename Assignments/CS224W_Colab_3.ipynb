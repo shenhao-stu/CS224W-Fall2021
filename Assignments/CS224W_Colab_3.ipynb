{
  "nbformat": 4,
  "nbformat_minor": 2,
  "metadata": {
    "accelerator": "GPU",
    "colab": {
      "name": "CS224W - Colab 3.ipynb",
      "provenance": [],
      "collapsed_sections": [],
      "toc_visible": true,
      "machine_shape": "hm"
    },
    "kernelspec": {
      "display_name": "Python 3",
      "language": "python",
      "name": "python3"
    },
    "language_info": {
      "codemirror_mode": {
        "name": "ipython",
        "version": 3
      },
      "file_extension": ".py",
      "mimetype": "text/x-python",
      "name": "python",
      "nbconvert_exporter": "python",
      "pygments_lexer": "ipython3",
      "version": "3.7.3"
    }
  },
  "cells": [
    {
      "cell_type": "markdown",
      "source": [
        "# **CS224W - Colab 3**"
      ],
      "metadata": {
        "id": "XuXWJLEm2UWS"
      }
    },
    {
      "cell_type": "markdown",
      "source": [
        "In Colab 2 we constructed GNN models by using PyTorch Geometric built in GCN layer, the `GCNConv`. In this Colab we will implement the **GraphSAGE** ([Hamilton et al. (2017)](https://arxiv.org/abs/1706.02216)) and **GAT** ([Veličković et al. (2018)](https://arxiv.org/abs/1710.10903)) layers directly. Then we will run our models on the CORA dataset, which is a standard citation network benchmark dataset.\n",
        "\n",
        "We will then use [DeepSNAP](https://snap.stanford.edu/deepsnap/), a Python library assisting efficient deep learning on graphs, to split the graphs in different settings and apply dataset transformations.\n",
        "\n",
        "At last, using DeepSNAP transductive link prediction split functionality, we will construct a simple GNN model on the edge property predition (link prediction) task.\n",
        "\n",
        "**Note**: Make sure to **sequentially run all the cells in each section**, so that the intermediate variables / packages will carry over to the next cell\n",
        "\n",
        "Have fun on Colab 3 :)"
      ],
      "metadata": {
        "id": "8gzsP50bF6Gb"
      }
    },
    {
      "cell_type": "markdown",
      "source": [
        "# Device\n",
        "You might need to use GPU for this Colab.\n",
        "\n",
        "Please click `Runtime` and then `Change runtime type`. Then set the `hardware accelerator` to **GPU**."
      ],
      "metadata": {
        "id": "MSaetj53YnT6"
      }
    },
    {
      "cell_type": "markdown",
      "source": [
        "## Installation"
      ],
      "metadata": {
        "id": "67gOQITlCNQi"
      }
    },
    {
      "cell_type": "code",
      "execution_count": 1,
      "source": [
        "import torch\r\n",
        "print(torch.version.cuda)"
      ],
      "outputs": [
        {
          "output_type": "stream",
          "name": "stdout",
          "text": [
            "None\n"
          ]
        }
      ],
      "metadata": {
        "colab": {
          "base_uri": "https://localhost:8080/"
        },
        "id": "I8U7EVUSInXj",
        "outputId": "65f72633-8ef9-4c92-ede4-9cb090a2d8ba"
      }
    },
    {
      "cell_type": "code",
      "execution_count": 2,
      "source": [
        "import torch_geometric\r\n",
        "torch_geometric.__version__"
      ],
      "outputs": [
        {
          "output_type": "execute_result",
          "data": {
            "text/plain": [
              "'1.7.2'"
            ]
          },
          "metadata": {},
          "execution_count": 2
        }
      ],
      "metadata": {
        "id": "PRfgbfTjCRD_",
        "colab": {
          "base_uri": "https://localhost:8080/",
          "height": 350
        },
        "outputId": "f1b8acf7-51f5-4945-ced9-b74f81bbf6f2"
      }
    },
    {
      "cell_type": "markdown",
      "source": [
        "# 1 GNN Layers"
      ],
      "metadata": {
        "id": "ZoXlf4MtYrbz"
      }
    },
    {
      "cell_type": "markdown",
      "source": [
        "## Implementing Layer Modules\n",
        "\n",
        "In colab 2, we implemented a network using GCN in node and graph classification tasks. However, the GCN module we used in colab 2 is from the official library. For this problem, we will provide you with a general Graph Neural Network Stack, where you'll be able to plugin your own modules of GraphSAGE and GATs. We will use our implementations to complete node classification on CORA, which is a standard citation network benchmark dataset. In this dataset, nodes correspond to documents and edges correspond to undirected citations. Each node has a class label. The node features are elements of a bag-or-words representation of a document. For the Cora dataset, there are 2708 nodes, 5429 edges, 7 prediction classes for nodes, and 1433 features per node. "
      ],
      "metadata": {
        "id": "TQy2RBfgYut4"
      }
    },
    {
      "cell_type": "markdown",
      "source": [
        "## GNN Stack Module\n",
        "\n",
        "Below is the implementation for a general GNN Module that could plugin any layers, including **GraphSage**, **GAT**, etc. This module is provided for you, and you own **GraphSage** and **GAT** layers will function as components in the GNNStack Module."
      ],
      "metadata": {
        "id": "H4ne6Gw-CT5G"
      }
    },
    {
      "cell_type": "code",
      "execution_count": 3,
      "source": [
        "import torch\r\n",
        "import torch_scatter\r\n",
        "import torch.nn as nn\r\n",
        "import torch.nn.functional as F\r\n",
        "\r\n",
        "import torch_geometric.nn as pyg_nn\r\n",
        "import torch_geometric.utils as pyg_utils\r\n",
        "\r\n",
        "from torch import Tensor\r\n",
        "from typing import Union, Tuple, Optional\r\n",
        "from torch_geometric.typing import (OptPairTensor, Adj, Size, NoneType,\r\n",
        "                                    OptTensor)\r\n",
        "\r\n",
        "from torch.nn import Parameter, Linear\r\n",
        "from torch_sparse import SparseTensor, set_diag\r\n",
        "from torch_geometric.nn.conv import MessagePassing\r\n",
        "from torch_geometric.utils import remove_self_loops, add_self_loops, softmax\r\n",
        "\r\n",
        "class GNNStack(torch.nn.Module):\r\n",
        "    def __init__(self, input_dim, hidden_dim, output_dim, args, emb=False):\r\n",
        "        super(GNNStack, self).__init__()\r\n",
        "        conv_model = self.build_conv_model(args.model_type)\r\n",
        "        self.convs = nn.ModuleList()\r\n",
        "        self.convs.append(conv_model(input_dim, hidden_dim))\r\n",
        "        assert (args.num_layers >= 1), 'Number of layers is not >=1'\r\n",
        "        for l in range(args.num_layers-1):\r\n",
        "            self.convs.append(conv_model(args.heads * hidden_dim, hidden_dim))\r\n",
        "\r\n",
        "        # post-message-passing\r\n",
        "        self.post_mp = nn.Sequential(\r\n",
        "            nn.Linear(args.heads * hidden_dim, hidden_dim), nn.Dropout(args.dropout), \r\n",
        "            nn.Linear(hidden_dim, output_dim))\r\n",
        "\r\n",
        "        self.dropout = args.dropout\r\n",
        "        self.num_layers = args.num_layers\r\n",
        "\r\n",
        "        self.emb = emb\r\n",
        "\r\n",
        "    def build_conv_model(self, model_type):\r\n",
        "        if model_type == 'GraphSage':\r\n",
        "            return GraphSage\r\n",
        "        elif model_type == 'GAT':\r\n",
        "            # When applying GAT with num heads > 1, one needs to modify the \r\n",
        "            # input and output dimension of the conv layers (self.convs),\r\n",
        "            # to ensure that the input dim of the next layer is num heads\r\n",
        "            # multiplied by the output dim of the previous layer.\r\n",
        "            # HINT: In case you want to play with multiheads, you need to change the for-loop when builds up self.convs to be\r\n",
        "            # self.convs.append(conv_model(hidden_dim * num_heads, hidden_dim)), \r\n",
        "            # and also the first nn.Linear(hidden_dim * num_heads, hidden_dim) in post-message-passing.\r\n",
        "            return GAT\r\n",
        "\r\n",
        "    def forward(self, data):\r\n",
        "        x, edge_index, batch = data.x, data.edge_index, data.batch\r\n",
        "          \r\n",
        "        for i in range(self.num_layers):\r\n",
        "            x = self.convs[i](x, edge_index)\r\n",
        "            x = F.relu(x)\r\n",
        "            x = F.dropout(x, p=self.dropout)\r\n",
        "\r\n",
        "        x = self.post_mp(x)\r\n",
        "\r\n",
        "        if self.emb == True:\r\n",
        "            return x\r\n",
        "\r\n",
        "        return F.log_softmax(x, dim=1)\r\n",
        "\r\n",
        "    def loss(self, pred, label):\r\n",
        "        return F.nll_loss(pred, label)"
      ],
      "outputs": [],
      "metadata": {
        "id": "Ys8vZAFPCWWe"
      }
    },
    {
      "cell_type": "markdown",
      "source": [
        "## GraphSage Implementation\r\n",
        "\r\n",
        "Now let's start working on our own implementation of layers! This part is to get you familiar with how to implement Pytorch layer based on Message Passing. You will be implementing the **forward**, **message** and **aggregate** functions.\r\n",
        "\r\n",
        "Generally, the **forward** function is where the actual message passing is conducted. All logic in each iteration happens in **forward**, where we'll call **propagate** function to propagate information from neighbor nodes to central nodes.  So the general paradigm will be pre-processing -> propagate -> post-processing.\r\n",
        "\r\n",
        "Recall the process of message passing we introduced in homework 1. **propagate** further calls **message** which transforms information of neighbor nodes into messages, **aggregate** which aggregates all messages from neighbor nodes into one, and **update** which further generates the embedding for nodes in the next iteration.\r\n",
        "\r\n",
        "Our implementation is slightly variant from this, where we'll not explicitly implement **update**, but put the logic for updating nodes in **forward** function. To be more specific, after information is propagated, we can further conduct some operations on the output of **propagate**. The output of **forward** is exactly the embeddings after the current iteration.\r\n",
        "\r\n",
        "In addition, tensors passed to **propagate()** can be mapped to the respective nodes $i$ and $j$ by appending _i or _j to the variable name, .e.g. x_i and x_j. Note that we generally refer to $i$ as the central nodes that aggregates information, and refer to $j$ as the neighboring nodes, since this is the most common notation.\r\n",
        "\r\n",
        "Please find more details in the comments. One thing to note is that we're adding **skip connections** to our GraphSage. Formally, the update rule for our model is described as below:\r\n",
        "\r\n",
        "\\begin{equation}\r\n",
        "h_v^{(l)} = W_l\\cdot h_v^{(l-1)} + W_r \\cdot AGG(\\{h_u^{(l-1)}, \\forall u \\in N(v) \\})\r\n",
        "\\end{equation}\r\n",
        "\r\n",
        "For simplicity, we use mean aggregations where:\r\n",
        "\r\n",
        "\\begin{equation}\r\n",
        "AGG(\\{h_u^{(l-1)}, \\forall u \\in N(v) \\}) = \\frac{1}{|N(v)|} \\sum_{u\\in N(v)} h_u^{(l-1)}\r\n",
        "\\end{equation}\r\n",
        "\r\n",
        "Additionally, $\\ell$-2 normalization is applied after each iteration.\r\n",
        "\r\n",
        "In order to complete the work correctly, we have to understand how the different functions interact with each other. In **propagate** we can pass in any parameters we want. For example, we pass in $x$ as an parameter:\r\n",
        "\r\n",
        "... = propagate(..., $x$=($x_{central}$, $x_{neighbor}$), ...)\r\n",
        "\r\n",
        "Here $x_{central}$ and $x_{neighbor}$ represent the features from **central** nodes and from **neighbor** nodes. If we're using the same representations from central and neighbor, then $x_{central}$ and $x_{neighbor}$ could be identical.\r\n",
        "\r\n",
        "Suppose $x_{central}$ and $x_{neighbor}$ are both of shape N * d, where N is number of nodes, and d is dimension of features.\r\n",
        "\r\n",
        "Then in message function, we can take parameters called $x\\_i$ and $x\\_j$. Usually $x\\_i$ represents \"central nodes\", and $x\\_j$ represents \"neighbor nodes\". Pay attention to the shape here: $x\\_i$ and $x\\_j$ are both of shape E * d (**not N!**). $x\\_i$ is obtained by concatenating the embeddings of central nodes of all edges through lookups from $x_{central}$ we passed in propagate. Similarly, $x\\_j$ is obtained by concatenating the embeddings of neighbor nodes of all edges through lookups from $x_{neighbor}$ we passed in propagate.\r\n",
        "\r\n",
        "Let's look at an example. Suppose we have 4 nodes, so $x_{central}$ and $x_{neighbor}$ are of shape 4 * d. We have two edges (1, 2) and (3, 0). Thus, $x\\_i$ is obtained by $[x_{central}[1]^T; x_{central}[3]^T]^T$, and $x\\_j$ is obtained by $[x_{neighbor}[2]^T; x_{neighbor}[0]^T]^T$\r\n",
        "\r\n",
        "<font color='red'>For the following questions, DON'T refer to any existing implementations online.</font>"
      ],
      "metadata": {}
    },
    {
      "cell_type": "code",
      "execution_count": 4,
      "source": [
        "class GraphSage(MessagePassing):\r\n",
        "    \r\n",
        "    def __init__(self, in_channels, out_channels, normalize = True,\r\n",
        "                 bias = False, **kwargs):  \r\n",
        "        super(GraphSage, self).__init__(**kwargs)\r\n",
        "\r\n",
        "        self.in_channels = in_channels\r\n",
        "        self.out_channels = out_channels\r\n",
        "        self.normalize = normalize\r\n",
        "\r\n",
        "        self.lin_l = None\r\n",
        "        self.lin_r = None\r\n",
        "\r\n",
        "        ############################################################################\r\n",
        "        # TODO: Your code here! \r\n",
        "        # Define the layers needed for the message and update functions below.\r\n",
        "        # self.lin_l is the linear transformation that you apply to embedding \r\n",
        "        #            for central node.\r\n",
        "        # self.lin_r is the linear transformation that you apply to aggregated \r\n",
        "        #            message from neighbors.\r\n",
        "        # Our implementation is ~2 lines, but don't worry if you deviate from this.\r\n",
        "        self.lin_l = nn.Linear(self.in_channels, self.out_channels)\r\n",
        "        self.lin_r = nn.Linear(self.in_channels, self.out_channels)\r\n",
        "        ############################################################################\r\n",
        "\r\n",
        "        self.reset_parameters()\r\n",
        "\r\n",
        "    def reset_parameters(self):\r\n",
        "        self.lin_l.reset_parameters()\r\n",
        "        self.lin_r.reset_parameters()\r\n",
        "\r\n",
        "    def forward(self, x, edge_index, size = None):\r\n",
        "        \"\"\"\"\"\"\r\n",
        "\r\n",
        "        out = None\r\n",
        "\r\n",
        "        ############################################################################\r\n",
        "        # TODO: Your code here! \r\n",
        "        # Implement message passing, as well as any post-processing (our update rule).\r\n",
        "        # 1. First call propagate function to conduct the message passing.\r\n",
        "        #    1.1 See there for more information: \r\n",
        "        #        https://pytorch-geometric.readthedocs.io/en/latest/notes/create_gnn.html\r\n",
        "        #    1.2 We use the same representations for central (x_central) and \r\n",
        "        #        neighbor (x_neighbor) nodes, which means you'll pass x=(x, x) \r\n",
        "        #        to propagate.\r\n",
        "        # 2. Update our node embedding with skip connection.\r\n",
        "        # 3. If normalize is set, do L-2 normalization (defined in \r\n",
        "        #    torch.nn.functional)\r\n",
        "        # Our implementation is ~5 lines, but don't worry if you deviate from this.\r\n",
        "        x_agg = self.propagate(edge_index, x=(x, x), size=size)\r\n",
        "        out = self.lin_l(x) + x_agg\r\n",
        "        if self.normalize == True:\r\n",
        "            out = F.normalize(out)\r\n",
        "        ############################################################################\r\n",
        "\r\n",
        "        return out\r\n",
        "\r\n",
        "    def message(self, x_j):\r\n",
        "\r\n",
        "        out = None\r\n",
        "\r\n",
        "        ############################################################################\r\n",
        "        # TODO: Your code here! \r\n",
        "        # Implement your message function here.\r\n",
        "        # Our implementation is ~1 lines, but don't worry if you deviate from this.\r\n",
        "\r\n",
        "        out = self.lin_r(x_j)\r\n",
        "        ############################################################################\r\n",
        "\r\n",
        "        return out\r\n",
        "\r\n",
        "    def aggregate(self, inputs, index, dim_size = None):\r\n",
        "\r\n",
        "        out = None\r\n",
        "\r\n",
        "        # The axis along which to index number of nodes.\r\n",
        "        node_dim = self.node_dim\r\n",
        "\r\n",
        "        ############################################################################\r\n",
        "        # TODO: Your code here! \r\n",
        "        # Implement your aggregate function here.\r\n",
        "        # See here as how to use torch_scatter.scatter: \r\n",
        "        # https://pytorch-scatter.readthedocs.io/en/latest/functions/scatter.html#torch_scatter.scatter\r\n",
        "        # Our implementation is ~1 lines, but don't worry if you deviate from this.\r\n",
        "\r\n",
        "        out = torch_scatter.scatter(inputs, index, dim=node_dim, reduce=\"mean\")\r\n",
        "\r\n",
        "        ############################################################################\r\n",
        "\r\n",
        "        return out\r\n"
      ],
      "outputs": [],
      "metadata": {
        "colab": {
          "background_save": true
        },
        "id": "RwG4HqCFCaOD"
      }
    },
    {
      "cell_type": "markdown",
      "source": [
        "## GAT Implementation\n",
        "\n",
        "Attention mechanisms have become the state-of-the-art in many sequence-based tasks such as machine translation and learning sentence representations. One of the major benefits of attention-based mechanisms is their ability to focus on the most relevant parts of the input to make decisions. In this problem, we will see how attention mechanisms can be used to perform node classification of graph-structured data through the usage of Graph Attention Networks (GATs).\n",
        "\n",
        "The building block of the Graph Attention Network is the graph attention layer, which is a variant of the aggregation function . Let $N$ be the number of nodes and $F$ be the dimension of the feature vector for each node. The input to each graph attentional layer is a set of node features: $\\mathbf{h} = \\{\\overrightarrow{h_1}, \\overrightarrow{h_2}, \\dots, \\overrightarrow{h_N}$\\}, $\\overrightarrow{h_i} \\in R^F$. The output of each graph attentional layer is a new set of node features, which may have a new dimension $F'$: $\\mathbf{h'} = \\{\\overrightarrow{h_1'}, \\overrightarrow{h_2'}, \\dots, \\overrightarrow{h_N'}\\}$, with $\\overrightarrow{h_i'} \\in \\mathbb{R}^{F'}$.\n",
        "\n",
        "We will now describe this transformation of the input features into higher-level features performed by each graph attention layer. First, a shared linear transformation parametrized by the weight matrix $\\mathbf{W} \\in \\mathbb{R}^{F' \\times F}$ is applied to every node. Next, we perform self-attention on the nodes. We use a shared attentional mechanism:\n",
        "\\begin{equation} \n",
        "a : \\mathbb{R}^{F'} \\times \\mathbb{R}^{F'} \\rightarrow \\mathbb{R}.\n",
        "\\end{equation}\n",
        "\n",
        "This mechanism computes the attention coefficients that capture the importance of node $j$'s features to node $i$:\n",
        "\\begin{equation}\n",
        "e_{ij} = a(\\mathbf{W_l}\\overrightarrow{h_i}, \\mathbf{W_r} \\overrightarrow{h_j})\n",
        "\\end{equation}\n",
        "The most general formulation of self-attention allows every node to attend to all other nodes which drops all structural information. To utilize graph structure in the attention mechanisms, we can use masked attention. In masked attention, we only compute $e_{ij}$ for nodes $j \\in \\mathcal{N}_i$ where $\\mathcal{N}_i$ is some neighborhood of node $i$ in the graph.\n",
        "\n",
        "To easily compare coefficients across different nodes, we normalize the coefficients across $j$ using a softmax function:\n",
        "\\begin{equation}\n",
        "\\alpha_{ij} = \\text{softmax}_j(e_{ij}) = \\frac{\\exp(e_{ij})}{\\sum_{k \\in \\mathcal{N}_i} \\exp(e_{ik})}\n",
        "\\end{equation}\n",
        "\n",
        "For this problem, our attention mechanism $a$ will be a single-layer feedforward neural network parametrized by a weight vector $\\overrightarrow{a} \\in \\mathbb{R}^{F'}$, followed by a LeakyReLU nonlinearity (with negative input slope 0.2). Let $\\cdot^T$ represent transposition and $||$ represent concatenation. The coefficients computed by our attention mechanism may be expressed as:\n",
        "\n",
        "\\begin{equation}\n",
        "\\alpha_{ij} = \\frac{\\exp\\Big(\\text{LeakyReLU}\\Big(\\overrightarrow{a_l}^T \\mathbf{W_l} \\overrightarrow{h_i} + \\overrightarrow{a_r}^T\\mathbf{W_r}\\overrightarrow{h_j}\\Big)\\Big)}{\\sum_{k\\in \\mathcal{N}_i} \\exp\\Big(\\text{LeakyReLU}\\Big(\\overrightarrow{a_l}^T \\mathbf{W_l} \\overrightarrow{h_i} + \\overrightarrow{a_r}^T\\mathbf{W_r}\\overrightarrow{h_k}\\Big)\\Big)}\n",
        "\\end{equation}\n",
        "\n",
        "For the following questions, we denote $\\alpha_l = [...,\\overrightarrow{a_l}^T \\mathbf{W_l} \\overrightarrow{h_i},...]$ and $\\alpha_r = [..., \\overrightarrow{a_r}^T \\mathbf{W_r} \\overrightarrow{h_j}, ...]$.\n",
        "\n",
        "\n",
        "At every layer of GAT, after the attention coefficients are computed for that layer, the aggregation function can be computed by a weighted sum of neighborhood messages, where weights are specified by $\\alpha_{ij}$.\n",
        "\n",
        "Now, we use the normalized attention coefficients to compute a linear combination of the features corresponding to them. These aggregated features will serve as the final output features for every node.\n",
        "\n",
        "\\begin{equation}\n",
        "h_i' = \\sum_{j \\in \\mathcal{N}_i} \\alpha_{ij} \\mathbf{W_r} \\overrightarrow{h_j}.\n",
        "\\end{equation}\n",
        "\n",
        "To stabilize the learning process of self-attention, we use multi-head attention. To do this we use $K$ independent attention mechanisms, or ``heads'' compute output features as in the above equations. Then, we concatenate these output feature representations:\n",
        "\n",
        "\\begin{equation}\n",
        "    \\overrightarrow{h_i}' = ||_{k=1}^K \\Big(\\sum_{j \\in \\mathcal{N}_i} \\alpha_{ij}^{(k)} \\mathbf{W_r}^{(k)} \\overrightarrow{h_j}\\Big)\n",
        "\\end{equation}\n",
        "\n",
        "where $||$ is concentation, $\\alpha_{ij}^{(k)}$ are the normalized attention coefficients computed by the $k$-th attention mechanism $(a^k)$, and $\\mathbf{W}^{(k)}$ is the corresponding input linear transformation's weight matrix. Note that for this setting, $\\mathbf{h'} \\in \\mathbb{R}^{KF'}$."
      ],
      "metadata": {
        "id": "qjcfF3RACdLD"
      }
    },
    {
      "cell_type": "code",
      "execution_count": 5,
      "source": [
        "class GAT(MessagePassing):\r\n",
        "\r\n",
        "    def __init__(self, in_channels, out_channels, heads = 2,\r\n",
        "                 negative_slope = 0.2, dropout = 0., **kwargs):\r\n",
        "        super(GAT, self).__init__(node_dim=0, **kwargs)\r\n",
        "\r\n",
        "        self.in_channels = in_channels\r\n",
        "        self.out_channels = out_channels\r\n",
        "        self.heads = heads\r\n",
        "        self.negative_slope = negative_slope\r\n",
        "        self.dropout = dropout\r\n",
        "\r\n",
        "        self.lin_l = None\r\n",
        "        self.lin_r = None\r\n",
        "        self.att_l = None\r\n",
        "        self.att_r = None\r\n",
        "\r\n",
        "        ############################################################################\r\n",
        "        # TODO: Your code here! \r\n",
        "        # Define the layers needed for the message functions below.\r\n",
        "        # self.lin_l is the linear transformation that you apply to embeddings \r\n",
        "        # BEFORE message passing.\r\n",
        "        # Pay attention to dimensions of the linear layers, since we're using \r\n",
        "        # multi-head attention.\r\n",
        "        # Our implementation is ~1 lines, but don't worry if you deviate from this.\r\n",
        "        self.lin_l = nn.Linear(in_channels, self.heads * out_channels)\r\n",
        "\r\n",
        "        ############################################################################\r\n",
        "\r\n",
        "        self.lin_r = self.lin_l\r\n",
        "\r\n",
        "        ############################################################################\r\n",
        "        # TODO: Your code here! \r\n",
        "        # Define the attention parameters \\overrightarrow{a_l/r}^T in the above intro.\r\n",
        "        # You have to deal with multi-head scenarios.\r\n",
        "        # Use nn.Parameter instead of nn.Linear\r\n",
        "        # Our implementation is ~2 lines, but don't worry if you deviate from this.\r\n",
        "        self.att_l = nn.Parameter(torch.randn(heads, self.out_channels))\r\n",
        "        self.att_r = nn.Parameter(torch.randn(heads, self.out_channels))\r\n",
        "\r\n",
        "\r\n",
        "        ############################################################################\r\n",
        "\r\n",
        "        self.reset_parameters()\r\n",
        "\r\n",
        "    def reset_parameters(self):\r\n",
        "        nn.init.xavier_uniform_(self.lin_l.weight)\r\n",
        "        nn.init.xavier_uniform_(self.lin_r.weight)\r\n",
        "        nn.init.xavier_uniform_(self.att_l)\r\n",
        "        nn.init.xavier_uniform_(self.att_r)\r\n",
        "\r\n",
        "    def forward(self, x, edge_index, size = None):\r\n",
        "        \r\n",
        "        H, C = self.heads, self.out_channels\r\n",
        "\r\n",
        "        ############################################################################\r\n",
        "        # TODO: Your code here! \r\n",
        "        # Implement message passing, as well as any pre- and post-processing (our update rule).\r\n",
        "        # 1. First apply linear transformation to node embeddings, and split that \r\n",
        "        #    into multiple heads. We use the same representations for source and\r\n",
        "        #    target nodes, but apply different linear weights (W_l and W_r)\r\n",
        "        # 2. Calculate alpha vectors for central nodes (alpha_l) and neighbor nodes (alpha_r).\r\n",
        "        # 3. Call propagate function to conduct the message passing. \r\n",
        "        #    3.1 Remember to pass alpha = (alpha_l, alpha_r) as a parameter.\r\n",
        "        #    3.2 See there for more information: https://pytorch-geometric.readthedocs.io/en/latest/notes/create_gnn.html\r\n",
        "        # 4. Transform the output back to the shape of N * d.\r\n",
        "        # Our implementation is ~5 lines, but don't worry if you deviate from this.\r\n",
        "        x_l = self.lin_l(x).view(-1, H, C) #N x H x C\r\n",
        "        x_r = self.lin_r(x).view(-1, H, C) #N x H x C        \r\n",
        "        alpha_l = self.att_l.unsqueeze(0) * x_l #1 x H x C * N x H x C \r\n",
        "        alpha_r = self.att_r.unsqueeze(0)*x_r #1 x H x C * N x H x C\r\n",
        "        out = self.propagate(edge_index, x=(x_l, x_r), alpha=(alpha_l, alpha_r))\r\n",
        "        out = out.view(-1, H * C)\r\n",
        "\r\n",
        "        ############################################################################\r\n",
        "\r\n",
        "        return out\r\n",
        "\r\n",
        "\r\n",
        "    def message(self, x_j, alpha_j, alpha_i, index, ptr, size_i):\r\n",
        "\r\n",
        "        ############################################################################\r\n",
        "        # TODO: Your code here! \r\n",
        "        # Implement your message function. Putting the attention in message \r\n",
        "        # instead of in update is a little tricky.\r\n",
        "        # 1. Calculate the final attention weights using alpha_i and alpha_j,\r\n",
        "        #    and apply leaky Relu.\r\n",
        "        # 2. Calculate softmax over the neighbor nodes for all the nodes. Use \r\n",
        "        #    torch_geometric.utils.softmax instead of the one in Pytorch.\r\n",
        "        # 3. Apply dropout to attention weights (alpha).\r\n",
        "        # 4. Multiply embeddings and attention weights. As a sanity check, the output\r\n",
        "        #    should be of shape E * H * d.\r\n",
        "        # 5. ptr (LongTensor, optional): If given, computes the softmax based on\r\n",
        "        #    sorted inputs in CSR representation. You can simply pass it to softmax.\r\n",
        "        # Our implementation is ~5 lines, but don't worry if you deviate from this.\r\n",
        "        alpha_ij = F.leaky_relu(alpha_i + alpha_j, negative_slope=self.negative_slope)\r\n",
        "        if ptr is not None:\r\n",
        "            alpha_ij = softmax(alpha_ij, ptr)\r\n",
        "        else:\r\n",
        "            alpha_ij = softmax(alpha_ij, index)\r\n",
        "        alpha_ij = F.dropout(alpha_ij, p=self.dropout)\r\n",
        "        out = x_j * alpha_ij\r\n",
        "        ############################################################################\r\n",
        "\r\n",
        "        return out\r\n",
        "\r\n",
        "\r\n",
        "    def aggregate(self, inputs, index, dim_size = None):\r\n",
        "\r\n",
        "        ############################################################################\r\n",
        "        # TODO: Your code here! \r\n",
        "        # Implement your aggregate function here.\r\n",
        "        # See here as how to use torch_scatter.scatter: https://pytorch-scatter.readthedocs.io/en/latest/_modules/torch_scatter/scatter.html\r\n",
        "        # Pay attention to \"reduce\" parameter is different from that in GraphSage.\r\n",
        "        # Our implementation is ~1 lines, but don't worry if you deviate from this.\r\n",
        "        node_dim = self.node_dim\r\n",
        "        out = torch_scatter.scatter(inputs, index, dim=node_dim, reduce=\"sum\")\r\n",
        "\r\n",
        "        ############################################################################\r\n",
        "    \r\n",
        "        return out"
      ],
      "outputs": [],
      "metadata": {
        "colab": {
          "background_save": true
        },
        "id": "w4j45gTpCeXO"
      }
    },
    {
      "cell_type": "markdown",
      "source": [
        "## Building Optimizers\n",
        "\n",
        "This function has been implemented for you. **For grading purposes please use the default Adam optimizer**, but feel free to play with other types of optimizers on your own."
      ],
      "metadata": {
        "id": "V2dkgSuWCheU"
      }
    },
    {
      "cell_type": "code",
      "execution_count": 6,
      "source": [
        "import torch.optim as optim\r\n",
        "\r\n",
        "def build_optimizer(args, params):\r\n",
        "    weight_decay = args.weight_decay\r\n",
        "    filter_fn = filter(lambda p : p.requires_grad, params)\r\n",
        "    if args.opt == 'adam':\r\n",
        "        optimizer = optim.Adam(filter_fn, lr=args.lr, weight_decay=weight_decay)\r\n",
        "    elif args.opt == 'sgd':\r\n",
        "        optimizer = optim.SGD(filter_fn, lr=args.lr, momentum=0.95, weight_decay=weight_decay)\r\n",
        "    elif args.opt == 'rmsprop':\r\n",
        "        optimizer = optim.RMSprop(filter_fn, lr=args.lr, weight_decay=weight_decay)\r\n",
        "    elif args.opt == 'adagrad':\r\n",
        "        optimizer = optim.Adagrad(filter_fn, lr=args.lr, weight_decay=weight_decay)\r\n",
        "    if args.opt_scheduler == 'none':\r\n",
        "        return None, optimizer\r\n",
        "    elif args.opt_scheduler == 'step':\r\n",
        "        scheduler = optim.lr_scheduler.StepLR(optimizer, step_size=args.opt_decay_step, gamma=args.opt_decay_rate)\r\n",
        "    elif args.opt_scheduler == 'cos':\r\n",
        "        scheduler = optim.lr_scheduler.CosineAnnealingLR(optimizer, T_max=args.opt_restart)\r\n",
        "    return scheduler, optimizer"
      ],
      "outputs": [],
      "metadata": {
        "id": "f_TIQ8NPCjBP"
      }
    },
    {
      "cell_type": "markdown",
      "source": [
        "## Training and Testing\n",
        "\n",
        "Here we provide you with the functions to train and test. **Please do not modify this part for grading purposes.**"
      ],
      "metadata": {
        "id": "hBYdWFwYCkwY"
      }
    },
    {
      "cell_type": "code",
      "execution_count": 7,
      "source": [
        "import time\r\n",
        "\r\n",
        "import networkx as nx\r\n",
        "import numpy as np\r\n",
        "import torch\r\n",
        "import torch.optim as optim\r\n",
        "\r\n",
        "from torch_geometric.datasets import TUDataset\r\n",
        "from torch_geometric.datasets import Planetoid\r\n",
        "from torch_geometric.data import DataLoader\r\n",
        "\r\n",
        "import torch_geometric.nn as pyg_nn\r\n",
        "\r\n",
        "import matplotlib.pyplot as plt\r\n",
        "\r\n",
        "\r\n",
        "def train(dataset, args):\r\n",
        "    \r\n",
        "    print(\"Node task. test set size:\", np.sum(dataset[0]['train_mask'].numpy()))\r\n",
        "    test_loader = loader = DataLoader(dataset, batch_size=args.batch_size, shuffle=True)\r\n",
        "\r\n",
        "    # build model\r\n",
        "    model = GNNStack(dataset.num_node_features, args.hidden_dim, dataset.num_classes, \r\n",
        "                            args)\r\n",
        "    scheduler, opt = build_optimizer(args, model.parameters())\r\n",
        "\r\n",
        "    # train\r\n",
        "    losses = []\r\n",
        "    test_accs = []\r\n",
        "    for epoch in range(args.epochs):\r\n",
        "        total_loss = 0\r\n",
        "        model.train()\r\n",
        "        for batch in loader:\r\n",
        "            opt.zero_grad()\r\n",
        "            pred = model(batch)\r\n",
        "            label = batch.y\r\n",
        "            pred = pred[batch.train_mask]\r\n",
        "            label = label[batch.train_mask]\r\n",
        "            loss = model.loss(pred, label)\r\n",
        "            loss.backward()\r\n",
        "            opt.step()\r\n",
        "            total_loss += loss.item() * batch.num_graphs\r\n",
        "        total_loss /= len(loader.dataset)\r\n",
        "        losses.append(total_loss)\r\n",
        "\r\n",
        "        if epoch % 10 == 0:\r\n",
        "          test_acc = test(test_loader, model)\r\n",
        "          test_accs.append(test_acc)\r\n",
        "        else:\r\n",
        "          test_accs.append(test_accs[-1])\r\n",
        "    return test_accs, losses\r\n",
        "\r\n",
        "def test(loader, model, is_validation=True):\r\n",
        "    model.eval()\r\n",
        "\r\n",
        "    correct = 0\r\n",
        "    for data in loader:\r\n",
        "        with torch.no_grad():\r\n",
        "            # max(dim=1) returns values, indices tuple; only need indices\r\n",
        "            pred = model(data).max(dim=1)[1]\r\n",
        "            label = data.y\r\n",
        "\r\n",
        "        mask = data.val_mask if is_validation else data.test_mask\r\n",
        "        # node classification: only evaluate on nodes in test set\r\n",
        "        pred = pred[mask]\r\n",
        "        label = data.y[mask]\r\n",
        "            \r\n",
        "        correct += pred.eq(label).sum().item()\r\n",
        "\r\n",
        "    total = 0\r\n",
        "    for data in loader.dataset:\r\n",
        "        total += torch.sum(data.val_mask if is_validation else data.test_mask).item()\r\n",
        "    return correct / total\r\n",
        "  \r\n",
        "class objectview(object):\r\n",
        "    def __init__(self, d):\r\n",
        "        self.__dict__ = d\r\n"
      ],
      "outputs": [],
      "metadata": {
        "id": "_tZMWRc8CmGg"
      }
    },
    {
      "cell_type": "markdown",
      "source": [
        "## Let's Start the Training!\n",
        "\n",
        "We will be working on the CORA dataset on node-level classification.\n",
        "\n",
        "This part is implemented for you. **For grading purposes, please do not modify the default parameters.** However, feel free to play with different configurations just for fun!\n",
        "\n",
        "**Submit your best accuracy and loss on Gradescope.**"
      ],
      "metadata": {
        "id": "L7-h7jIsCns4"
      }
    },
    {
      "cell_type": "code",
      "execution_count": 8,
      "source": [
        "def main():\r\n",
        "    for args in [\r\n",
        "        {'model_type': 'GraphSage', \r\n",
        "        'dataset': 'cora', 'num_layers': 2, \r\n",
        "        'heads': 1, 'batch_size': 64, \r\n",
        "        'hidden_dim': 32, 'dropout': 0.5, \r\n",
        "        'epochs': 500, 'opt': 'adam', \r\n",
        "        'opt_scheduler': 'none', \r\n",
        "        'opt_restart': 0, \r\n",
        "        'weight_decay': 5e-3, 'lr': 0.01},\r\n",
        "    ]:\r\n",
        "        args = objectview(args)\r\n",
        "        for model in ['GraphSage', 'GAT']:\r\n",
        "            args.model_type = model\r\n",
        "\r\n",
        "            # Match the dimension.\r\n",
        "            if model == 'GAT':\r\n",
        "              args.heads = 2\r\n",
        "            else:\r\n",
        "              args.heads = 1\r\n",
        "\r\n",
        "            if args.dataset == 'cora':\r\n",
        "                dataset = Planetoid(root='/tmp/cora', name='Cora')\r\n",
        "            else:\r\n",
        "                raise NotImplementedError(\"Unknown dataset\") \r\n",
        "            test_accs, losses = train(dataset, args) \r\n",
        "\r\n",
        "            print(\"Maximum accuracy: {0}\".format(max(test_accs)))\r\n",
        "            print(\"Minimum loss: {0}\".format(min(losses)))\r\n",
        "\r\n",
        "            plt.title(dataset.name)\r\n",
        "            plt.plot(losses, label=\"training loss\" + \" - \" + args.model_type)\r\n",
        "            plt.plot(test_accs, label=\"test accuracy\" + \" - \" + args.model_type)\r\n",
        "        plt.legend()\r\n",
        "        plt.show()\r\n",
        "\r\n",
        "if __name__ == '__main__':\r\n",
        "    main()"
      ],
      "outputs": [
        {
          "output_type": "stream",
          "name": "stdout",
          "text": [
            "Node task. test set size: 140\n",
            "Maximum accuracy: 0.738\n",
            "Minimum loss: 0.10618329793214798\n",
            "Node task. test set size: 140\n",
            "Maximum accuracy: 0.756\n",
            "Minimum loss: 0.029076995328068733\n"
          ]
        },
        {
          "output_type": "display_data",
          "data": {
            "text/plain": [
              "<Figure size 432x288 with 1 Axes>"
            ],
            "image/png": "[encoded data removed]"
          },
          "metadata": {
            "needs_background": "light"
          }
        }
      ],
      "metadata": {
        "id": "qe9B45l9Cpz2"
      }
    },
    {
      "cell_type": "markdown",
      "source": [
        "# 2 DeepSNAP Basics\n",
        "\n",
        "In previous Colabs we used both of graph class (NetworkX) and tensor (PyG) representations of graphs separately. The graph class `nx.Graph` provides rich analysis and manipulation functionalities, such as the clustering coefficient and PageRank. To feed the graph into the model, we need to transform the graph into tensor representations including edge tensor `edge_index` and node attributes tensors `x` and `y`. But only using tensors (as the graphs formatted in PyG `datasets` and `data`) will make many graph manipulations and analysis less efficient and harder. So, in this Colab we will use DeepSNAP which combines both representations and offers a full pipeline for GNN training / validation / testing.\n"
      ],
      "metadata": {
        "id": "Nwwq0nSdmsOL"
      }
    },
    {
      "cell_type": "markdown",
      "source": [
        "In general, [DeepSNAP](https://github.com/snap-stanford/deepsnap) is a Python library to assist efficient deep learning on graphs. DeepSNAP features in its support for flexible graph manipulation, standard pipeline, heterogeneous graphs and simple API.\n",
        "\n",
        "1. DeepSNAP is easy to be used for the sophisticated graph manipulations, such as feature computation, pretraining, subgraph extraction etc. during/before the training.\n",
        "2. In most frameworks, standard pipelines for node, edge, link, graph-level tasks under inductive or transductive settings are left to the user to code. In practice, there are additional design choices involved (such as how to split dataset for link prediction). DeepSNAP provides such a standard pipeline that greatly saves repetitive coding efforts, and enables fair comparision for models.\n",
        "3. Many real-world graphs are heterogeneous graphs. But packages support for heterogeneous graphs, including data storage and flexible message passing, is lacking. DeepSNAP provides an efficient and flexible heterogeneous graph that supports both the node and edge heterogeneity.\n",
        "\n",
        "[DeepSNAP](https://github.com/snap-stanford/deepsnap) is a newly released project and it is still under development. If you find any bugs or have any improvement ideas, feel free to raise issues or create pull requests on the GitHub directly :)\n",
        "\n",
        "In this Colab, we will focus on DeepSNAP graph manipulations and splitting settings."
      ],
      "metadata": {
        "id": "Sf7vUmdNKCjA"
      }
    },
    {
      "cell_type": "markdown",
      "source": [
        "## Setup"
      ],
      "metadata": {
        "id": "20SvvngpQmmQ"
      }
    },
    {
      "cell_type": "code",
      "execution_count": 9,
      "source": [
        "import torch\r\n",
        "import networkx as nx\r\n",
        "import matplotlib.pyplot as plt\r\n",
        "\r\n",
        "from deepsnap.graph import Graph\r\n",
        "from deepsnap.batch import Batch\r\n",
        "from deepsnap.dataset import GraphDataset\r\n",
        "from torch_geometric.datasets import Planetoid, TUDataset\r\n",
        "\r\n",
        "from torch.utils.data import DataLoader\r\n",
        "\r\n",
        "def visualize(G, color_map=None, seed=123):\r\n",
        "    if color_map is None:\r\n",
        "       color_map = '#c92506'\r\n",
        "    plt.figure(figsize=(8, 8))\r\n",
        "    nodes = nx.draw_networkx_nodes(G, pos=nx.spring_layout(G, seed=seed), \\\r\n",
        "                                   label=None, node_color=color_map, node_shape='o', node_size=150)\r\n",
        "    edges = nx.draw_networkx_edges(G, pos=nx.spring_layout(G, seed=seed), alpha=0.5)\r\n",
        "    if color_map is not None:\r\n",
        "      plt.scatter([],[], c='#c92506', label='Nodes with label 0', edgecolors=\"black\", s=140)\r\n",
        "      plt.scatter([],[], c='#fcec00', label='Nodes with label 1', edgecolors=\"black\", s=140)\r\n",
        "      plt.legend(prop={'size': 13}, handletextpad=0)\r\n",
        "    nodes.set_edgecolor('black')\r\n",
        "    plt.show()"
      ],
      "outputs": [],
      "metadata": {
        "id": "zfbBVFmAQlwz"
      }
    },
    {
      "cell_type": "markdown",
      "source": [
        "## DeepSNAP Graph\n",
        "\n",
        "The `deepsnap.graph.Graph` class is the core class of DeepSNAP. It not only represents a graph in tensor format but also references to a graph object from graph manipulation package.\n",
        "\n",
        "Currently DeepSNAP supports [NetworkX](https://networkx.org/) and [Snap.py](https://snap.stanford.edu/snappy/doc/index.html) as the back end graph manipulation package.\n",
        "\n",
        "In this Colab, we will use the NetworkX as the back end graph manipulation package."
      ],
      "metadata": {
        "id": "ic-o1P3r6hr2"
      }
    },
    {
      "cell_type": "markdown",
      "source": [
        "Lets first try to convert a simple random NetworkX graph to a DeepSNAP graph."
      ],
      "metadata": {
        "id": "Ispq_lIoJl_z"
      }
    },
    {
      "cell_type": "code",
      "execution_count": 10,
      "source": [
        "num_nodes = 100\r\n",
        "p = 0.05\r\n",
        "seed = 100\r\n",
        "\r\n",
        "# Generate a networkx random graph\r\n",
        "G = nx.gnp_random_graph(num_nodes, p, seed=seed)\r\n",
        "\r\n",
        "# Generate some random node features and labels\r\n",
        "node_feature = {node : torch.rand([5, ]) for node in G.nodes()}\r\n",
        "node_label = {node : torch.randint(0, 2, ()) for node in G.nodes()}\r\n",
        "\r\n",
        "# Set the random features and labels to G\r\n",
        "nx.set_node_attributes(G, node_feature, name='node_feature')\r\n",
        "nx.set_node_attributes(G, node_label, name='node_label')\r\n",
        "\r\n",
        "# Print one node example\r\n",
        "for node in G.nodes(data=True):\r\n",
        "    print(node)\r\n",
        "    break\r\n",
        "\r\n",
        "color_map = ['#c92506' if node[1]['node_label'].item() == 0 else '#fcec00' for node in G.nodes(data=True)]\r\n",
        "\r\n",
        "# Visualize the graph\r\n",
        "visualize(G, color_map=color_map)\r\n",
        "\r\n",
        "# Transform the networkx graph into the deepsnap graph\r\n",
        "graph = Graph(G)\r\n",
        "\r\n",
        "# Print out the general deepsnap graph information\r\n",
        "print(graph)\r\n",
        "\r\n",
        "# DeepSNAP will convert node attributes to tensors\r\n",
        "# Notice the type of tensors\r\n",
        "print(\"Node feature (node_feature) has shape {} and type {}\".format(graph.node_feature.shape, graph.node_feature.dtype))\r\n",
        "print(\"Node label (node_label) has shape {} and type {}\".format(graph.node_label.shape, graph.node_label.dtype))\r\n",
        "\r\n",
        "# DeepSNAP will also generate the edge_index tensor\r\n",
        "print(\"Edge index (edge_index) has shape {} and type {}\".format(graph.edge_index.shape, graph.edge_index.dtype))\r\n",
        "\r\n",
        "# Different from only storing tensors, deepsnap graph also references to the networkx graph\r\n",
        "# We will discuss why the reference will be helpful later\r\n",
        "print(\"The DeepSNAP graph has {} as the internal manupulation graph\".format(type(graph.G)))"
      ],
      "outputs": [
        {
          "output_type": "stream",
          "name": "stdout",
          "text": [
            "(0, {'node_feature': tensor([0.8175, 0.5950, 0.8035, 0.4782, 0.6403]), 'node_label': tensor(0)})\n"
          ]
        },
        {
          "output_type": "display_data",
          "data": {
            "text/plain": [
              "<Figure size 576x576 with 1 Axes>"
            ],
            "image/png": "[encoded data removed]"
          },
          "metadata": {}
        },
        {
          "output_type": "stream",
          "name": "stdout",
          "text": [
            "Graph(G=[], edge_index=[2, 524], edge_label_index=[2, 524], node_feature=[100, 5], node_label=[100], node_label_index=[100])\n",
            "Node feature (node_feature) has shape torch.Size([100, 5]) and type torch.float32\n",
            "Node label (node_label) has shape torch.Size([100]) and type torch.int64\n",
            "Edge index (edge_index) has shape torch.Size([2, 524]) and type torch.int64\n",
            "The DeepSNAP graph has <class 'networkx.classes.graph.Graph'> as the internal manupulation graph\n"
          ]
        }
      ],
      "metadata": {
        "id": "zT5qca3x6XpG"
      }
    },
    {
      "cell_type": "markdown",
      "source": [
        "In DeepSNAP we have three levels of attributes. In this example, we have the **node level** attributes including `node_feature` and `node_label`. The other two levels of attributes are graph and edge attributes. The usage is similar to the node level one except that the feature becomes `edge_feature` or `graph_feature` and label becomes `edge_label` or `graph_label` etc."
      ],
      "metadata": {
        "id": "PNMbc307KOQD"
      }
    },
    {
      "cell_type": "markdown",
      "source": [
        "Similar to the NetworkX graph, we can easily get some basic information of the graph through class properties directly."
      ],
      "metadata": {
        "id": "G8Xz58_Da0qL"
      }
    },
    {
      "cell_type": "code",
      "execution_count": 11,
      "source": [
        "# Number of nodes\r\n",
        "print(\"The random graph has {} nodes\".format(graph.num_nodes))\r\n",
        "\r\n",
        "# Number of edges\r\n",
        "print(\"The random graph has {} edges\".format(graph.num_edges))"
      ],
      "outputs": [
        {
          "output_type": "stream",
          "name": "stdout",
          "text": [
            "The random graph has 100 nodes\n",
            "The random graph has 262 edges\n"
          ]
        }
      ],
      "metadata": {
        "id": "dLo4zWAoeg6S"
      }
    },
    {
      "cell_type": "markdown",
      "source": [
        "DeepSNAP also provides functions that can automatically transform the PyG datasets into a list of DeepSNAP graphs.\n",
        "\n",
        "Here we transform the CORA dataset into a list of DeepSNAP graphs."
      ],
      "metadata": {
        "id": "Po7IaRmwblI5"
      }
    },
    {
      "cell_type": "code",
      "execution_count": 15,
      "source": [
        "root = './tmp/cora'\r\n",
        "name = 'Cora'\r\n",
        "\r\n",
        "# The Cora dataset\r\n",
        "pyg_dataset= Planetoid(root, name)\r\n",
        "\r\n",
        "# PyG dataset to a list of deepsnap graphs\r\n",
        "graphs = GraphDataset.pyg_to_graphs(pyg_dataset)\r\n",
        "\r\n",
        "# Get the first deepsnap graph (CORA only has one graph)\r\n",
        "graph = graphs[0]\r\n",
        "print(graph)"
      ],
      "outputs": [
        {
          "output_type": "stream",
          "name": "stdout",
          "text": [
            "Graph(G=[], edge_index=[2, 10556], edge_label_index=[2, 10556], node_feature=[2708, 1433], node_label=[2708], node_label_index=[2708])\n"
          ]
        }
      ],
      "metadata": {
        "id": "ZFkg2kCgcFwR"
      }
    },
    {
      "cell_type": "markdown",
      "source": [
        "## Question 2.1: What is the number of classes and number of features in the CORA graph? (5 points)\n",
        "\n",
        "Submit your answers on Gradescope."
      ],
      "metadata": {
        "id": "NLm5vVYMAP2x"
      }
    },
    {
      "cell_type": "code",
      "execution_count": 17,
      "source": [
        "def get_num_node_classes(graph):\r\n",
        "  # TODO: Implement this function that takes a deepsnap graph object\r\n",
        "  # and return the number of node classes of that graph.\r\n",
        "\r\n",
        "\r\n",
        "  ############# Your code here #############\r\n",
        "  ## (~1 line of code)\r\n",
        "  ## Note\r\n",
        "  ## 1. Colab autocomplete functionality might be useful\r\n",
        "  ## 2. DeepSNAP documentation might be useful https://snap.stanford.edu/deepsnap/modules/graph.html\r\n",
        "  num_node_classes = graph.num_node_labels\r\n",
        "  ##########################################\r\n",
        "\r\n",
        "  return num_node_classes\r\n",
        "\r\n",
        "def get_num_node_features(graph):\r\n",
        "  # TODO: Implement this function that takes a deepsnap graph object\r\n",
        "  # and return the number of node features of that graph.\r\n",
        "\r\n",
        "  num_node_features = 0\r\n",
        "\r\n",
        "  ############# Your code here #############\r\n",
        "  ## (~1 line of code)\r\n",
        "  ## Note\r\n",
        "  ## 1. Colab autocomplete functionality might be useful\r\n",
        "  ## 2. DeepSNAP documentation might be useful https://snap.stanford.edu/deepsnap/modules/graph.html\r\n",
        "  num_node_features = graph.num_node_features\r\n",
        "\r\n",
        "  ##########################################\r\n",
        "\r\n",
        "  return num_node_features\r\n",
        "\r\n",
        "num_node_classes = get_num_node_classes(graph)\r\n",
        "num_node_features = get_num_node_features(graph)\r\n",
        "print(\"{} has {} classes\".format(name, num_node_classes))\r\n",
        "print(\"{} has {} features\".format(name, num_node_features))"
      ],
      "outputs": [
        {
          "output_type": "stream",
          "name": "stdout",
          "text": [
            "Cora has 7 classes\n",
            "Cora has 1433 features\n"
          ]
        }
      ],
      "metadata": {
        "id": "8iF_Kyqr_JbY"
      }
    },
    {
      "cell_type": "markdown",
      "source": [
        "## DeepSNAP Dataset\n",
        "\n",
        "Now, lets talk about DeepSNAP dataset. A `deepsnap.dataset.GraphDataset` contains a list of `deepsnap.graph.Graph` objects. In addition to list of graphs, you can also specify what task the dataset will be used on, such as node level task (`task=node`), edge level task (`task=link_pred`) and graph level task (`task=graph`).\n",
        "\n",
        "It also contains many other useful parameters during initialization and other functinoalities. If you are interested, you can take a look at the [documentation](https://snap.stanford.edu/deepsnap/modules/dataset.html#deepsnap-graphdataset)."
      ],
      "metadata": {
        "id": "rwKbzhHUAckZ"
      }
    },
    {
      "cell_type": "markdown",
      "source": [
        "Lets now use COX2 dataset which contains a list of graphs and specify the task to `graph` when we initialize the DeepSNAP dataset."
      ],
      "metadata": {
        "id": "HSidf9E0hn2s"
      }
    },
    {
      "cell_type": "code",
      "execution_count": 18,
      "source": [
        "root = './tmp/cox2'\r\n",
        "name = 'COX2'\r\n",
        "\r\n",
        "# Load the dataset through PyG\r\n",
        "pyg_dataset = TUDataset(root, name)\r\n",
        "\r\n",
        "# Convert to a list of deepsnap graphs\r\n",
        "graphs = GraphDataset.pyg_to_graphs(pyg_dataset)\r\n",
        "\r\n",
        "# Convert list of deepsnap graphs to deepsnap dataset with specified task=graph\r\n",
        "dataset = GraphDataset(graphs, task='graph')\r\n",
        "print(dataset)"
      ],
      "outputs": [
        {
          "output_type": "stream",
          "name": "stdout",
          "text": [
            "Downloading https://www.chrsmrrs.com/graphkerneldatasets/COX2.zip\n",
            "Extracting tmp\\cox2\\COX2\\COX2.zip\n",
            "Processing...\n",
            "Done!\n",
            "GraphDataset(467)\n"
          ]
        }
      ],
      "metadata": {
        "id": "l4kqUldyoaS_"
      }
    },
    {
      "cell_type": "markdown",
      "source": [
        "## Question 2.2: What is the label of the graph (index 100 in the COX2 dataset)? (5 points)\n",
        "\n",
        "Submit your answers on Gradescope."
      ],
      "metadata": {
        "id": "7sCV3xJWCddX"
      }
    },
    {
      "cell_type": "code",
      "execution_count": 19,
      "source": [
        "def get_graph_class(dataset, idx):\r\n",
        "  # TODO: Implement this function that takes a deepsnap dataset object,\r\n",
        "  # the index of the graph in the dataset, and returns the class/label \r\n",
        "  # of the graph (in integer).\r\n",
        "\r\n",
        "  label = -1\r\n",
        "\r\n",
        "  ############# Your code here ############\r\n",
        "  ## (~1 line of code)\r\n",
        "  ## Note\r\n",
        "  ## 1. The label refers to the graph-level attribute\r\n",
        "  label = dataset[idx].graph_label\r\n",
        "\r\n",
        "  #########################################\r\n",
        "\r\n",
        "  return label\r\n",
        "\r\n",
        "graph_0 = dataset[0]\r\n",
        "print(graph_0)\r\n",
        "idx = 100\r\n",
        "label = get_graph_class(dataset, idx)\r\n",
        "print('Graph with index {} has label {}'.format(idx, label))"
      ],
      "outputs": [
        {
          "output_type": "stream",
          "name": "stdout",
          "text": [
            "Graph(G=[], edge_index=[2, 82], edge_label_index=[2, 82], graph_label=[1], node_feature=[39, 35], node_label_index=[39], task=[])\n",
            "Graph with index 100 has label tensor([0])\n"
          ]
        }
      ],
      "metadata": {
        "id": "LIis9oTZAfs3"
      }
    },
    {
      "cell_type": "markdown",
      "source": [
        "## Question 2.3: What is the number of edges for the graph (index 200 in the COX2 dataset)? (5 points)\n",
        "\n",
        "Submit your answers on Gradescope."
      ],
      "metadata": {
        "id": "fKhcVeAhCwoY"
      }
    },
    {
      "cell_type": "code",
      "execution_count": 20,
      "source": [
        "def get_graph_num_edges(dataset, idx):\r\n",
        "  # TODO: Implement this function that takes a deepsnap dataset object,\r\n",
        "  # the index of the graph in dataset, and returns the number of \r\n",
        "  # edges in the graph (in integer).\r\n",
        "\r\n",
        "  num_edges = 0\r\n",
        "\r\n",
        "  ############# Your code here ############\r\n",
        "  ## (~1 lines of code)\r\n",
        "  ## Note\r\n",
        "  ## 1. You can use the class property directly\r\n",
        "  num_edges = dataset[idx].num_edges\r\n",
        "\r\n",
        "  #########################################\r\n",
        "\r\n",
        "  return num_edges\r\n",
        "\r\n",
        "idx = 200\r\n",
        "num_edges = get_graph_num_edges(dataset, idx)\r\n",
        "print('Graph with index {} has {} edges'.format(idx, num_edges))"
      ],
      "outputs": [
        {
          "output_type": "stream",
          "name": "stdout",
          "text": [
            "Graph with index 200 has 49 edges\n"
          ]
        }
      ],
      "metadata": {
        "id": "f5m2DOfhBtWv"
      }
    },
    {
      "cell_type": "markdown",
      "source": [
        "# 3 DeepSNAP Advanced\n",
        "\n",
        "We have learned the basic use of DeepSNAP graph and dataset :)\n",
        "\n",
        "Lets move on to some more advanced functionalities.\n",
        "\n",
        "In this section we will use DeepSNAP for faeture computation and transductive/inductive splittings."
      ],
      "metadata": {
        "id": "AXa7yIG4E0Fp"
      }
    },
    {
      "cell_type": "markdown",
      "source": [
        "## Setup"
      ],
      "metadata": {
        "id": "Y5fsGBLY8cxa"
      }
    },
    {
      "cell_type": "code",
      "execution_count": null,
      "source": [
        "import torch\r\n",
        "import networkx as nx\r\n",
        "import matplotlib.pyplot as plt\r\n",
        "\r\n",
        "from deepsnap.graph import Graph\r\n",
        "from deepsnap.batch import Batch\r\n",
        "from deepsnap.dataset import GraphDataset\r\n",
        "from torch_geometric.datasets import Planetoid, TUDataset\r\n",
        "\r\n",
        "from torch.utils.data import DataLoader"
      ],
      "outputs": [],
      "metadata": {
        "id": "g-jgRLiQ8cSj"
      }
    },
    {
      "cell_type": "markdown",
      "source": [
        "## Data Split in Graphs\n",
        "\n",
        "Data splitting in graphs can be much harder than that in CV or NLP.\n",
        "\n",
        "In general, the data splitting in graphs can be divided into two settings, **inductive** and **transductive**."
      ],
      "metadata": {
        "id": "HnazPGGAJAZN"
      }
    },
    {
      "cell_type": "markdown",
      "source": [
        "## Inductive Split\n",
        "\n",
        "As what we have learned in the lecture, inductive setting will split multiple graphs into each training/valiation and test sets.\n",
        "\n",
        "Here is an example of DeepSNAP inductive splitting for a list of graphs in the graph level task (graph classification etc.)"
      ],
      "metadata": {
        "id": "l9KG_MhqsWBp"
      }
    },
    {
      "cell_type": "code",
      "execution_count": 21,
      "source": [
        "root = './tmp/cox2'\r\n",
        "name = 'COX2'\r\n",
        "\r\n",
        "pyg_dataset = TUDataset(root, name)\r\n",
        "\r\n",
        "graphs = GraphDataset.pyg_to_graphs(pyg_dataset)\r\n",
        "\r\n",
        "# Here we specify the task as graph-level task such as graph classification\r\n",
        "task = 'graph'\r\n",
        "dataset = GraphDataset(graphs, task=task)\r\n",
        "\r\n",
        "# Specify transductive=False (inductive)\r\n",
        "dataset_train, dataset_val, dataset_test = dataset.split(transductive=False, split_ratio=[0.8, 0.1, 0.1])\r\n",
        "\r\n",
        "print(\"COX2 train dataset: {}\".format(dataset_train))\r\n",
        "print(\"COX2 validation dataset: {}\".format(dataset_val))\r\n",
        "print(\"COX2 test dataset: {}\".format(dataset_test))"
      ],
      "outputs": [
        {
          "output_type": "stream",
          "name": "stdout",
          "text": [
            "COX2 train dataset: GraphDataset(373)\n",
            "COX2 validation dataset: GraphDataset(46)\n",
            "COX2 test dataset: GraphDataset(48)\n"
          ]
        }
      ],
      "metadata": {
        "id": "Gpc6bTm3GF02"
      }
    },
    {
      "cell_type": "markdown",
      "source": [
        "## Transductive Split\n",
        "\n",
        "In transductive setting, the training /validation / test sets are on the same graph.\n",
        "\n",
        "Here we transductively split the CORA graph in the node level task. \n",
        "\n",
        "(Notice that in DeepSNAP default setting the split is random, but you can also make a fixed split by specifying `fixed_split=True` when loading the dataset from PyG or changing the `node_label_index` directly)."
      ],
      "metadata": {
        "id": "yWKQwa4WsgQp"
      }
    },
    {
      "cell_type": "code",
      "execution_count": 22,
      "source": [
        "root = './tmp/cora'\r\n",
        "name = 'Cora'\r\n",
        "\r\n",
        "pyg_dataset = Planetoid(root, name)\r\n",
        "\r\n",
        "graphs = GraphDataset.pyg_to_graphs(pyg_dataset)\r\n",
        "\r\n",
        "# Here we specify the task as node-level task such as node classification\r\n",
        "task = 'node'\r\n",
        "\r\n",
        "dataset = GraphDataset(graphs, task=task)\r\n",
        "\r\n",
        "# Specify we want the transductive splitting\r\n",
        "dataset_train, dataset_val, dataset_test = dataset.split(transductive=True, split_ratio=[0.8, 0.1, 0.1])\r\n",
        "\r\n",
        "print(\"Cora train dataset: {}\".format(dataset_train))\r\n",
        "print(\"Cora validation dataset: {}\".format(dataset_val))\r\n",
        "print(\"Cora test dataset: {}\".format(dataset_test))\r\n",
        "\r\n",
        "print(\"Original Cora has {} nodes\".format(dataset.num_nodes[0]))\r\n",
        "\r\n",
        "# The nodes in each set can be find in node_label_index\r\n",
        "print(\"After the split, Cora has {} training nodes\".format(dataset_train[0].node_label_index.shape[0]))\r\n",
        "print(\"After the split, Cora has {} validation nodes\".format(dataset_val[0].node_label_index.shape[0]))\r\n",
        "print(\"After the split, Cora has {} test nodes\".format(dataset_test[0].node_label_index.shape[0]))"
      ],
      "outputs": [
        {
          "output_type": "stream",
          "name": "stdout",
          "text": [
            "Cora train dataset: GraphDataset(1)\n",
            "Cora validation dataset: GraphDataset(1)\n",
            "Cora test dataset: GraphDataset(1)\n",
            "Original Cora has 2708 nodes\n",
            "After the split, Cora has 2166 training nodes\n",
            "After the split, Cora has 270 validation nodes\n",
            "After the split, Cora has 272 test nodes\n"
          ]
        }
      ],
      "metadata": {
        "id": "b5OdxSg4sfyR"
      }
    },
    {
      "cell_type": "markdown",
      "source": [
        "## Edge Level Split\n",
        "\n",
        "Compared to the node and graph level splitting, edge level splitting is a little bit tricky ;)\n",
        "\n",
        "Usually in edge level splitting, we need to sample negative edges, split positive edges into different datasets, split training edges into message passing edges and supervision edges, and resample the negative edges during the training etc."
      ],
      "metadata": {
        "id": "d7ePKgM00lGE"
      }
    },
    {
      "cell_type": "markdown",
      "source": [
        "### All Mode\n",
        "\n",
        "Now lets start with a simpler edge level splitting mode, the `edge_train_mode=\"all\"` mode in DeepSNAP."
      ],
      "metadata": {
        "id": "SnzISX5RoiR6"
      }
    },
    {
      "cell_type": "code",
      "execution_count": 23,
      "source": [
        "root = './tmp/cora'\r\n",
        "name = 'Cora'\r\n",
        "\r\n",
        "pyg_dataset = Planetoid(root, name)\r\n",
        "\r\n",
        "graphs = GraphDataset.pyg_to_graphs(pyg_dataset)\r\n",
        "\r\n",
        "# Specify task as link_pred for edge-level task\r\n",
        "task = 'link_pred'\r\n",
        "\r\n",
        "# Specify the train mode, \"all\" mode is default for deepsnap dataset\r\n",
        "edge_train_mode = \"all\"\r\n",
        "\r\n",
        "dataset = GraphDataset(graphs, task=task, edge_train_mode=edge_train_mode)\r\n",
        "\r\n",
        "# Transductive link prediction split\r\n",
        "dataset_train, dataset_val, dataset_test = dataset.split(transductive=True, split_ratio=[0.8, 0.1, 0.1])\r\n",
        "\r\n",
        "print(\"Cora train dataset: {}\".format(dataset_train))\r\n",
        "print(\"Cora validation dataset: {}\".format(dataset_val))\r\n",
        "print(\"Cora test dataset: {}\".format(dataset_test))"
      ],
      "outputs": [
        {
          "output_type": "stream",
          "name": "stdout",
          "text": [
            "Cora train dataset: GraphDataset(1)\n",
            "Cora validation dataset: GraphDataset(1)\n",
            "Cora test dataset: GraphDataset(1)\n"
          ]
        }
      ],
      "metadata": {
        "id": "_D104xO6137n"
      }
    },
    {
      "cell_type": "markdown",
      "source": [
        "In DeepSNAP, the indices of supervision edges are stored in `edge_label_index` tensor and the corresponding edge labels are stored in `edge_label` tensor."
      ],
      "metadata": {
        "id": "GscopwOXC_Y7"
      }
    },
    {
      "cell_type": "code",
      "execution_count": 24,
      "source": [
        "print(\"Original Cora graph has {} edges\".format(dataset[0].num_edges))\r\n",
        "print(\"Because Cora graph is undirected, the original edge_index has shape {}\".format(dataset[0].edge_index.shape))\r\n",
        "\r\n",
        "print(\"The training set has message passing edge index shape {}\".format(dataset_train[0].edge_index.shape))\r\n",
        "print(\"The training set has supervision edge index shape {}\".format(dataset_train[0].edge_label_index.shape))\r\n",
        "\r\n",
        "print(\"The validation set has message passing edge index shape {}\".format(dataset_val[0].edge_index.shape))\r\n",
        "print(\"The validation set has supervision edge index shape {}\".format(dataset_val[0].edge_label_index.shape))\r\n",
        "\r\n",
        "print(\"The test set has message passing edge index shape {}\".format(dataset_test[0].edge_index.shape))\r\n",
        "print(\"The test set has supervision edge index shape {}\".format(dataset_test[0].edge_label_index.shape))"
      ],
      "outputs": [
        {
          "output_type": "stream",
          "name": "stdout",
          "text": [
            "Original Cora graph has 5278 edges\n",
            "Because Cora graph is undirected, the original edge_index has shape torch.Size([2, 10556])\n",
            "The training set has message passing edge index shape torch.Size([2, 8444])\n",
            "The training set has supervision edge index shape torch.Size([2, 16888])\n",
            "The validation set has message passing edge index shape torch.Size([2, 8444])\n",
            "The validation set has supervision edge index shape torch.Size([2, 2108])\n",
            "The test set has message passing edge index shape torch.Size([2, 9498])\n",
            "The test set has supervision edge index shape torch.Size([2, 2116])\n"
          ]
        }
      ],
      "metadata": {
        "id": "XJF8fZnA2eLR"
      }
    },
    {
      "cell_type": "markdown",
      "source": [
        "We can see that both training and validation sets have the same message passing edges (`edge_index`) in the `all` mode. Also, in training set, the postive supervision edges (`edge_label_index`) are same with the message passing edges. However, in the test set the message passing edges are the combination of message passing edges from training and validation sets.\n",
        "\n",
        "Notice that the `edge_label` and `edge_label_index` have included the negative edges (default number of negative edges is same with the number of positive edges).\n",
        "\n",
        "Now, lets implement a function that checks whether two edge index tensors are disjoint and explore more edge splitting properties by using that function."
      ],
      "metadata": {
        "id": "s6BX-I_oEKQX"
      }
    },
    {
      "cell_type": "markdown",
      "source": [
        "## Question 3.1 - 3.5: Implement the function that checks whether two edge_index tensors are disjoint. Then answer the True/False questions below. (5 points)\n",
        "\n",
        "Submit your answers on Gradescope."
      ],
      "metadata": {
        "id": "YOZHDskbAKN6"
      }
    },
    {
      "cell_type": "code",
      "execution_count": 36,
      "source": [
        "def edge_indices_disjoint(edge_index_1, edge_index_2):\r\n",
        "  # TODO: Implement this function that takes two edge index tensors,\r\n",
        "  # and returns whether these two edge index tensors are disjoint.\r\n",
        "\r\n",
        "  ############# Your code here ############\r\n",
        "  ## (~5 lines of code)\r\n",
        "  ## Note\r\n",
        "  ## 1. Here disjoint means that there is no single edge belongs to either edge index tensors\r\n",
        "  ## 2. You do not need to consider the undirected case. For example, if edge_index_1 contains\r\n",
        "  ## edge (a, b) and edge_index_2 contains edge (b, a). We will treat them as disjoint in this\r\n",
        "  ## function.\r\n",
        "  edge_index_1_np = edge_index_1.T.detach().cpu().numpy()\r\n",
        "  edge_index_2_np = edge_index_2.T.detach().cpu().numpy()\r\n",
        "  edge_set = {}\r\n",
        "  for x in edge_index_1_np:\r\n",
        "    edge_set[tuple(x)] = 1\r\n",
        "  for x in edge_index_2_np:\r\n",
        "    if tuple(x) in edge_set.keys():\r\n",
        "      return False\r\n",
        "  #########################################\r\n",
        "\r\n",
        "  return True"
      ],
      "outputs": [],
      "metadata": {
        "id": "wgRYdyPp8EmO"
      }
    },
    {
      "cell_type": "code",
      "execution_count": 37,
      "source": [
        "num_train_edges = dataset_train[0].edge_label_index.shape[1] // 2\r\n",
        "train_pos_edge_index = dataset_train[0].edge_label_index[:, :num_train_edges]\r\n",
        "train_neg_edge_index = dataset_train[0].edge_label_index[:, num_train_edges:]\r\n",
        "print(\"3.1 Training (supervision) positve and negative edges are disjoint = {}\"\\\r\n",
        "        .format(edge_indices_disjoint(train_pos_edge_index, train_neg_edge_index)))\r\n",
        "\r\n",
        "num_val_edges = dataset_val[0].edge_label_index.shape[1] // 2\r\n",
        "val_pos_edge_index = dataset_val[0].edge_label_index[:, :num_val_edges]\r\n",
        "val_neg_edge_index = dataset_val[0].edge_label_index[:, num_val_edges:]\r\n",
        "print(\"3.2 Validation (supervision) positve and negative edges are disjoint = {}\"\\\r\n",
        "        .format(edge_indices_disjoint(val_pos_edge_index, val_neg_edge_index)))\r\n",
        "\r\n",
        "num_test_edges = dataset_test[0].edge_label_index.shape[1] // 2\r\n",
        "test_pos_edge_index = dataset_test[0].edge_label_index[:, :num_test_edges]\r\n",
        "test_neg_edge_index = dataset_test[0].edge_label_index[:, num_test_edges:]\r\n",
        "print(\"3.3 Test (supervision) positve and negative edges are disjoint = {}\"\\\r\n",
        "        .format(edge_indices_disjoint(test_pos_edge_index, test_neg_edge_index)))\r\n",
        "\r\n",
        "print(\"3.4 Test (supervision) positve and validation (supervision) positve edges are disjoint = {}\"\\\r\n",
        "        .format(edge_indices_disjoint(test_pos_edge_index, val_pos_edge_index)))\r\n",
        "print(\"3.5 Validation (supervision) positve and training (supervision) positve edges are disjoint = {}\"\\\r\n",
        "        .format(edge_indices_disjoint(val_pos_edge_index, train_pos_edge_index)))"
      ],
      "outputs": [
        {
          "output_type": "stream",
          "name": "stdout",
          "text": [
            "3.1 Training (supervision) positve and negative edges are disjoint = True\n",
            "3.2 Validation (supervision) positve and negative edges are disjoint = True\n",
            "3.3 Test (supervision) positve and negative edges are disjoint = True\n",
            "3.4 Test (supervision) positve and validation (supervision) positve edges are disjoint = True\n",
            "3.5 Validation (supervision) positve and training (supervision) positve edges are disjoint = True\n"
          ]
        }
      ],
      "metadata": {
        "id": "EL4ASIDDEIUf"
      }
    },
    {
      "cell_type": "markdown",
      "source": [
        "### Disjoint Mode\n",
        "\n",
        "Now lets look at a relatively more complex transductive edge split setting, which is the `edge_train_mode=\"disjoint\"` mode in DeepSNAP (also the transductive link prediction splitting talked in the lecture)"
      ],
      "metadata": {
        "id": "8jLoVN5ZBTuA"
      }
    },
    {
      "cell_type": "code",
      "execution_count": 38,
      "source": [
        "edge_train_mode = \"disjoint\"\r\n",
        "\r\n",
        "dataset = GraphDataset(graphs, task='link_pred', edge_train_mode=edge_train_mode)\r\n",
        "orig_edge_index = dataset[0].edge_index\r\n",
        "dataset_train, dataset_val, dataset_test = dataset.split(\r\n",
        "    transductive=True, split_ratio=[0.8, 0.1, 0.1])\r\n",
        "\r\n",
        "train_message_edge_index = dataset_train[0].edge_index\r\n",
        "train_sup_edge_index = dataset_train[0].edge_label_index\r\n",
        "val_sup_edge_index = dataset_val[0].edge_label_index\r\n",
        "test_sup_edge_index = dataset_test[0].edge_label_index\r\n",
        "\r\n",
        "print(\"The edge index of original graph has shape: {}\".format(orig_edge_index.shape))\r\n",
        "print(\"The edge index of training message edges has shape: {}\".format(train_message_edge_index.shape))\r\n",
        "print(\"The edge index of training supervision edges has shape: {}\".format(train_sup_edge_index.shape))\r\n",
        "print(\"The edge index of validation message edges has shape: {}\".format(dataset_val[0].edge_index.shape))\r\n",
        "print(\"The edge index of validation supervision edges has shape: {}\".format(val_sup_edge_index.shape))\r\n",
        "print(\"The edge index of test message edges has shape: {}\".format(dataset_test[0].edge_index.shape))\r\n",
        "print(\"The edge index of test supervision edges has shape: {}\".format(test_sup_edge_index.shape))"
      ],
      "outputs": [
        {
          "output_type": "stream",
          "name": "stdout",
          "text": [
            "The edge index of original graph has shape: torch.Size([2, 10556])\n",
            "The edge index of training message edges has shape: torch.Size([2, 6754])\n",
            "The edge index of training supervision edges has shape: torch.Size([2, 3380])\n",
            "The edge index of validation message edges has shape: torch.Size([2, 8444])\n",
            "The edge index of validation supervision edges has shape: torch.Size([2, 2108])\n",
            "The edge index of test message edges has shape: torch.Size([2, 9498])\n",
            "The edge index of test supervision edges has shape: torch.Size([2, 2116])\n"
          ]
        }
      ],
      "metadata": {
        "id": "3Rqzfb-0BTBm"
      }
    },
    {
      "cell_type": "markdown",
      "source": [
        "You can see that the training / validation message passing edges and training supervision edges are splitted differently in those two modes!"
      ],
      "metadata": {
        "id": "TUkBhiJNciol"
      }
    },
    {
      "cell_type": "markdown",
      "source": [
        "### Resample Negative Edges\n",
        "\n",
        "During each training iteration, we usually need to resample the negative edges.\n",
        "\n",
        "Below we print the training and validation sets negative edges in two training iterations.\n",
        "\n",
        "You should find that the negative edges in training set will be resampled."
      ],
      "metadata": {
        "id": "2WKfRjqAJHtK"
      }
    },
    {
      "cell_type": "code",
      "execution_count": 39,
      "source": [
        "dataset = GraphDataset(graphs, task='link_pred', edge_train_mode=\"disjoint\")\r\n",
        "datasets = {}\r\n",
        "follow_batch = []\r\n",
        "datasets['train'], datasets['val'], datasets['test'] = dataset.split(\r\n",
        "    transductive=True, split_ratio=[0.8, 0.1, 0.1])\r\n",
        "dataloaders = {\r\n",
        "  split: DataLoader(\r\n",
        "    ds, collate_fn=Batch.collate(follow_batch),\r\n",
        "    batch_size=1, shuffle=(split=='train')\r\n",
        "  )\r\n",
        "  for split, ds in datasets.items()\r\n",
        "}\r\n",
        "neg_edges_1 = None\r\n",
        "for batch in dataloaders['train']:\r\n",
        "  num_edges = batch.edge_label_index.shape[1] // 2\r\n",
        "  neg_edges_1 = batch.edge_label_index[:, num_edges:]\r\n",
        "  print(\"First iteration training negative edges:\")\r\n",
        "  print(neg_edges_1)\r\n",
        "  break\r\n",
        "neg_edges_2 = None\r\n",
        "for batch in dataloaders['train']:\r\n",
        "  num_edges = batch.edge_label_index.shape[1] // 2\r\n",
        "  neg_edges_2 = batch.edge_label_index[:, num_edges:]\r\n",
        "  print(\"Second iteration training negative edges:\")\r\n",
        "  print(neg_edges_2)\r\n",
        "  break\r\n",
        "\r\n",
        "neg_edges_1 = None\r\n",
        "for batch in dataloaders['val']:\r\n",
        "  num_edges = batch.edge_label_index.shape[1] // 2\r\n",
        "  neg_edges_1 = batch.edge_label_index[:, num_edges:]\r\n",
        "  print(\"First iteration validation negative edges:\")\r\n",
        "  print(neg_edges_1)\r\n",
        "  break\r\n",
        "neg_edges_2 = None\r\n",
        "for batch in dataloaders['val']:\r\n",
        "  num_edges = batch.edge_label_index.shape[1] // 2\r\n",
        "  neg_edges_2 = batch.edge_label_index[:, num_edges:]\r\n",
        "  print(\"Second iteration validation negative edges:\")\r\n",
        "  print(neg_edges_2)\r\n",
        "  break"
      ],
      "outputs": [
        {
          "output_type": "stream",
          "name": "stdout",
          "text": [
            "First iteration training negative edges:\n",
            "tensor([[1667, 2195,  404,  ..., 2167, 1905, 1785],\n",
            "        [2326, 1637, 1153,  ...,  447, 2567, 2343]])\n",
            "Second iteration training negative edges:\n",
            "tensor([[ 757, 1609, 2180,  ..., 1276,  449, 1242],\n",
            "        [1973,  515, 1709,  ...,    6, 2100, 2514]])\n",
            "First iteration validation negative edges:\n",
            "tensor([[1570,  669, 1323,  ..., 1864, 1530, 1911],\n",
            "        [ 909,  233, 1716,  ..., 2101,  855,  388]])\n",
            "Second iteration validation negative edges:\n",
            "tensor([[1570,  669, 1323,  ..., 1864, 1530, 1911],\n",
            "        [ 909,  233, 1716,  ..., 2101,  855,  388]])\n"
          ]
        }
      ],
      "metadata": {
        "id": "AMEbnx63JHWj"
      }
    },
    {
      "cell_type": "markdown",
      "source": [
        "If you are interested in more graph splitting settings, please refer to the DeepSNAP dataset [documentation](https://snap.stanford.edu/deepsnap/modules/dataset.html)."
      ],
      "metadata": {
        "id": "DEzqh7wEdrh0"
      }
    },
    {
      "cell_type": "markdown",
      "source": [
        "## Graph Transformation and Feature Computation\n",
        "\n",
        "The other DeepSNAP core functionality is graph transformation / feature computation.\n",
        "\n",
        "In DeepSNAP, we divide graph transformation / feature computation into two different types. One is the transformation before training (transform the whole dataset before training directly) and another one is the transformation during training (transform batches of graphs).\n",
        "\n",
        "Here is an example that uses NetworkX back end to calculate the PageRank value and update the value to tensors before the training (transform the dataset)."
      ],
      "metadata": {
        "id": "XkrYyeSUI_9_"
      }
    },
    {
      "cell_type": "code",
      "execution_count": 40,
      "source": [
        "def pagerank_transform_fn(graph):\r\n",
        "\r\n",
        "  # Get the referenced networkx graph\r\n",
        "  G = graph.G\r\n",
        "\r\n",
        "  # Calculate the pagerank by using networkx\r\n",
        "  pr = nx.pagerank(G)\r\n",
        "\r\n",
        "  # Transform the pagerank values to tensor\r\n",
        "  pr_feature = torch.tensor([pr[node] for node in range(graph.num_nodes)], dtype=torch.float32)\r\n",
        "  pr_feature = pr_feature.view(graph.num_nodes, 1)\r\n",
        "\r\n",
        "  # Concat the pagerank values to the node feature\r\n",
        "  graph.node_feature = torch.cat([graph.node_feature, pr_feature], dim=-1)\r\n",
        "\r\n",
        "root = './tmp/cox2'\r\n",
        "name = 'COX2'\r\n",
        "pyg_dataset = TUDataset(root, name)\r\n",
        "graphs = GraphDataset.pyg_to_graphs(pyg_dataset)\r\n",
        "dataset = GraphDataset(graphs, task='graph')\r\n",
        "print(\"Number of features before transformation: {}\".format(dataset.num_node_features))\r\n",
        "dataset.apply_transform(pagerank_transform_fn, update_tensor=False)\r\n",
        "print(\"Number of features after transformation: {}\".format(dataset.num_node_features))"
      ],
      "outputs": [
        {
          "output_type": "stream",
          "name": "stdout",
          "text": [
            "Number of features before transformation: 35\n",
            "Number of features after transformation: 36\n"
          ]
        }
      ],
      "metadata": {
        "id": "gnAVbZINLZ4I"
      }
    },
    {
      "cell_type": "markdown",
      "source": [
        "## Question 3.6: Implement the transformation below and report the clustering coefficient of the node (index 3) of the graph (index 406) in the COX2 dataset. Rounded the answer to two decimal places. (5 points)"
      ],
      "metadata": {
        "id": "LHByE87SQkUw"
      }
    },
    {
      "cell_type": "code",
      "execution_count": 41,
      "source": [
        "def cluster_transform_fn(graph):\r\n",
        "  # TODO: Implement this function that takes an deepsnap graph object,\r\n",
        "  # transform the graph by adding nodes clustering coefficient into the \r\n",
        "  # graph.node_feature\r\n",
        "\r\n",
        "  ############# Your code here ############\r\n",
        "  ## (~5 lines of code)\r\n",
        "  ## Note\r\n",
        "  ## 1. Compute the clustering coefficient value for each node and\r\n",
        "  ## concat them to the last dimension of graph.node_feature\r\n",
        "  cf = nx.algorithms.cluster.clustering(graph.G)\r\n",
        "  cf_feature = torch.tensor([cf[node] for node in range(graph.num_nodes)], dtype=torch.float32).view(graph.num_nodes, 1)\r\n",
        "  graph.node_feature = torch.cat([graph.node_feature, cf_feature], dim=-1)\r\n",
        "  #########################################\r\n",
        "\r\n",
        "\r\n",
        "root = './cox2'\r\n",
        "name = 'COX2'\r\n",
        "pyg_dataset = TUDataset(root, name)\r\n",
        "graphs = GraphDataset.pyg_to_graphs(pyg_dataset)\r\n",
        "dataset = GraphDataset(graphs, task='graph')\r\n",
        "\r\n",
        "# Transform the dataset\r\n",
        "dataset.apply_transform(cluster_transform_fn, update_tensor=False)\r\n",
        "\r\n",
        "node_idx = 3\r\n",
        "graph_idx = 406\r\n",
        "node_feature = dataset[graph_idx].node_feature\r\n",
        "\r\n",
        "print(\"The node has clustering coefficient: {}\".format(round(node_feature[node_idx][-1].item(), 2)))"
      ],
      "outputs": [
        {
          "output_type": "stream",
          "name": "stdout",
          "text": [
            "Downloading https://www.chrsmrrs.com/graphkerneldatasets/COX2.zip\n",
            "Extracting cox2\\COX2\\COX2.zip\n",
            "Processing...\n",
            "Done!\n",
            "The node has clustering coefficient: 0.17\n"
          ]
        }
      ],
      "metadata": {
        "id": "RNEjfOZRNjYb"
      }
    },
    {
      "cell_type": "markdown",
      "source": [
        "Apart from transforming the dataset, DeepSNAP can also transform the graph (usually the `deepsnap.batch.Batch`) during each training iteration.\n",
        "\n",
        "Also, DeepSNAP supports the synchronization of the transformation between the referenced graph objects and tensor representations. For example, you can just update the NetworkX graph object in the transform function, and by specifying `update_tensor=True` the internal tensor representations will be automatically updated.\n",
        "\n",
        "For more information, please refer to the DeepSNAP [documentation](https://snap.stanford.edu/deepsnap/)."
      ],
      "metadata": {
        "id": "4P5Ig7XaPYzp"
      }
    },
    {
      "cell_type": "markdown",
      "source": [
        "# 4 Edge Level Prediction\n",
        "\n",
        "From last section, we know how DeepSNAP transductive split the edges in the link prediction task.\n",
        "\n",
        "Now lets use DeepSNAP and PyG together to implement a edge level prediction (link prediction) model!"
      ],
      "metadata": {
        "id": "s-YLYMLFQYqp"
      }
    },
    {
      "cell_type": "code",
      "execution_count": 46,
      "source": [
        "import copy\r\n",
        "import torch\r\n",
        "import numpy as np\r\n",
        "import networkx as nx\r\n",
        "import matplotlib.pyplot as plt\r\n",
        "\r\n",
        "from deepsnap.graph import Graph\r\n",
        "from deepsnap.batch import Batch\r\n",
        "from deepsnap.dataset import GraphDataset\r\n",
        "from torch_geometric.datasets import Planetoid, TUDataset\r\n",
        "\r\n",
        "from torch.utils.data import DataLoader\r\n",
        "\r\n",
        "import torch.nn.functional as F\r\n",
        "from torch_geometric.nn import SAGEConv\r\n",
        "\r\n",
        "class LinkPredModel(torch.nn.Module):\r\n",
        "    def __init__(self, input_dim, hidden_dim, num_classes, dropout=0.2):\r\n",
        "        super(LinkPredModel, self).__init__()\r\n",
        "\r\n",
        "        self.conv1 = SAGEConv(input_dim, hidden_dim)\r\n",
        "        self.conv2 = SAGEConv(hidden_dim, num_classes)\r\n",
        "\r\n",
        "        self.loss_fn = None\r\n",
        "\r\n",
        "        ############# Your code here #############\r\n",
        "        ## (~1 line of code)\r\n",
        "        ## Note\r\n",
        "        ## 1. Initialize the loss function to BCEWithLogitsLoss\r\n",
        "\r\n",
        "        self.loss_fn = nn.BCEWithLogitsLoss()\r\n",
        "        ##########################################\r\n",
        "\r\n",
        "        self.dropout = dropout\r\n",
        "\r\n",
        "    def reset_parameters(self):\r\n",
        "        self.conv1.reset_parameters()\r\n",
        "        self.conv2.reset_parameters()\r\n",
        "\r\n",
        "    def forward(self, batch):\r\n",
        "        node_feature, edge_index, edge_label_index = batch.node_feature, batch.edge_index, batch.edge_label_index\r\n",
        "        \r\n",
        "        ############# Your code here #############\r\n",
        "        ## (~6 line of code)\r\n",
        "        ## Note\r\n",
        "        ## 1. Feed the node feature into the first conv layer\r\n",
        "        ## 2. Add a ReLU after the first conv layer\r\n",
        "        ## 3. Add dropout after the ReLU (with probability self.dropout)\r\n",
        "        ## 4. Feed the output to the second conv layer\r\n",
        "        ## 5. Select the embeddings of the source nodes and destination nodes\r\n",
        "        ## by using the edge_label_index and compute the similarity of each pair\r\n",
        "        ## by dot product\r\n",
        "        x = F.relu(self.conv1(node_feature, edge_index))\r\n",
        "        x = F.dropout(x, p=self.dropout)\r\n",
        "        x = self.conv2(x, edge_index)\r\n",
        "        src, des = x[edge_label_index[0]], x[edge_label_index[1]]\r\n",
        "        similarity = src * des\r\n",
        "        pred = torch.sum(similarity, dim=-1)\r\n",
        "        ##########################################\r\n",
        "\r\n",
        "        return pred\r\n",
        "    \r\n",
        "    def loss(self, pred, link_label):\r\n",
        "        return self.loss_fn(pred, link_label)"
      ],
      "outputs": [],
      "metadata": {
        "id": "hrKCNtvERypQ"
      }
    },
    {
      "cell_type": "code",
      "execution_count": 47,
      "source": [
        "from sklearn.metrics import *\r\n",
        "\r\n",
        "def train(model, dataloaders, optimizer, args):\r\n",
        "    val_max = 0\r\n",
        "    best_model = model\r\n",
        "\r\n",
        "    for epoch in range(1, args[\"epochs\"]):\r\n",
        "        for i, batch in enumerate(dataloaders['train']):\r\n",
        "            \r\n",
        "            batch.to(args[\"device\"])\r\n",
        "\r\n",
        "            ############# Your code here #############\r\n",
        "            ## (~6 lines of code)\r\n",
        "            ## Note\r\n",
        "            ## 1. Zero grad the optimizer\r\n",
        "            ## 2. Compute loss and backpropagate\r\n",
        "            ## 3. Update the model parameters\r\n",
        "            optimizer.zero_grad()\r\n",
        "            pred = model(batch)\r\n",
        "            loss = model.loss(pred, batch.edge_label.type_as(pred))\r\n",
        "            loss.backward()\r\n",
        "            optimizer.step()\r\n",
        "            ##########################################\r\n",
        "\r\n",
        "            log = 'Epoch: {:03d}, Train: {:.4f}, Val: {:.4f}, Test: {:.4f}, Loss: {}'\r\n",
        "            score_train = test(model, dataloaders['train'], args)\r\n",
        "            score_val = test(model, dataloaders['val'], args)\r\n",
        "            score_test = test(model, dataloaders['test'], args)\r\n",
        "\r\n",
        "            print(log.format(epoch, score_train, score_val, score_test, loss.item()))\r\n",
        "            if val_max < score_val:\r\n",
        "                val_max = score_val\r\n",
        "                best_model = copy.deepcopy(model)\r\n",
        "    return best_model\r\n",
        "\r\n",
        "def test(model, dataloader, args):\r\n",
        "    model.eval()\r\n",
        "\r\n",
        "    score = 0\r\n",
        "\r\n",
        "    ############# Your code here #############\r\n",
        "    ## (~5 lines of code)\r\n",
        "    ## Note\r\n",
        "    ## 1. Loop through batches in the dataloader\r\n",
        "    ## 2. Feed the batch to the model\r\n",
        "    ## 3. Feed the model output to sigmoid\r\n",
        "    ## 4. Compute the ROC-AUC score by using sklearn roc_auc_score function\r\n",
        "    ## 5. Edge labels are stored in batch.edge_label\r\n",
        "    for batch in dataloader:\r\n",
        "        batch.to('cpu')\r\n",
        "        pred = model(batch)\r\n",
        "        pred = torch.sigmoid(pred).cpu().detach().numpy()\r\n",
        "        label = batch.edge_label.cpu().detach().numpy()\r\n",
        "        score += roc_auc_score(label, pred)\r\n",
        "    score /= len(dataloader)\r\n",
        "    ##########################################\r\n",
        " \r\n",
        "    return score"
      ],
      "outputs": [],
      "metadata": {
        "id": "uuKbGFOu1Ka8"
      }
    },
    {
      "cell_type": "code",
      "execution_count": 50,
      "source": [
        "# Please don't change any parameters\r\n",
        "args = {\r\n",
        "    \"device\" : 'cuda' if torch.cuda.is_available() else 'cpu',\r\n",
        "    \"hidden_dim\" : 128,\r\n",
        "    \"epochs\" : 200,\r\n",
        "}"
      ],
      "outputs": [],
      "metadata": {
        "id": "JTKWYX1b33V3"
      }
    },
    {
      "cell_type": "code",
      "execution_count": 51,
      "source": [
        "pyg_dataset = Planetoid('./tmp/cora', 'Cora')\r\n",
        "graphs = GraphDataset.pyg_to_graphs(pyg_dataset)\r\n",
        "\r\n",
        "dataset = GraphDataset(\r\n",
        "        graphs,\r\n",
        "        task='link_pred',\r\n",
        "        edge_train_mode=\"disjoint\"\r\n",
        "    )\r\n",
        "datasets = {}\r\n",
        "datasets['train'], datasets['val'], datasets['test']= dataset.split(\r\n",
        "            transductive=True, split_ratio=[0.85, 0.05, 0.1])\r\n",
        "input_dim = datasets['train'].num_node_features\r\n",
        "num_classes = datasets['train'].num_edge_labels\r\n",
        "\r\n",
        "model = LinkPredModel(input_dim, args[\"hidden_dim\"], num_classes).to(args[\"device\"])\r\n",
        "model.reset_parameters()\r\n",
        "\r\n",
        "optimizer = torch.optim.SGD(model.parameters(), lr=0.1, momentum=0.9, weight_decay=5e-4)\r\n",
        "\r\n",
        "dataloaders = {split: DataLoader(\r\n",
        "            ds, collate_fn=Batch.collate([]),\r\n",
        "            batch_size=1, shuffle=(split=='train'))\r\n",
        "            for split, ds in datasets.items()}\r\n",
        "best_model = train(model, dataloaders, optimizer, args)\r\n",
        "log = \"Train: {:.4f}, Val: {:.4f}, Test: {:.4f}\"\r\n",
        "best_train_roc = test(best_model, dataloaders['train'], args)\r\n",
        "best_val_roc = test(best_model, dataloaders['val'], args)\r\n",
        "best_test_roc = test(best_model, dataloaders['test'], args)\r\n",
        "print(log.format(best_train_roc, best_val_roc, best_test_roc))"
      ],
      "outputs": [
        {
          "output_type": "stream",
          "name": "stdout",
          "text": [
            "Epoch: 001, Train: 0.5193, Val: 0.5030, Test: 0.5399, Loss: 0.6931238174438477\n",
            "Epoch: 002, Train: 0.5290, Val: 0.5096, Test: 0.5391, Loss: 0.6931028366088867\n",
            "Epoch: 003, Train: 0.5324, Val: 0.5019, Test: 0.5481, Loss: 0.6930602192878723\n",
            "Epoch: 004, Train: 0.5056, Val: 0.4959, Test: 0.5468, Loss: 0.6931219100952148\n",
            "Epoch: 005, Train: 0.5277, Val: 0.5050, Test: 0.5322, Loss: 0.6930657625198364\n",
            "Epoch: 006, Train: 0.5216, Val: 0.5002, Test: 0.5470, Loss: 0.6930853724479675\n",
            "Epoch: 007, Train: 0.5388, Val: 0.4928, Test: 0.5477, Loss: 0.6930184364318848\n",
            "Epoch: 008, Train: 0.5261, Val: 0.5140, Test: 0.5466, Loss: 0.6930585503578186\n",
            "Epoch: 009, Train: 0.5257, Val: 0.4812, Test: 0.5420, Loss: 0.6930569410324097\n",
            "Epoch: 010, Train: 0.5304, Val: 0.5025, Test: 0.5520, Loss: 0.6930241584777832\n",
            "Epoch: 011, Train: 0.5499, Val: 0.5216, Test: 0.5353, Loss: 0.6931000351905823\n",
            "Epoch: 012, Train: 0.5312, Val: 0.5072, Test: 0.5376, Loss: 0.692992627620697\n",
            "Epoch: 013, Train: 0.5429, Val: 0.5041, Test: 0.5565, Loss: 0.6929050087928772\n",
            "Epoch: 014, Train: 0.5470, Val: 0.4980, Test: 0.5425, Loss: 0.6929869651794434\n",
            "Epoch: 015, Train: 0.5534, Val: 0.4848, Test: 0.5569, Loss: 0.692986011505127\n",
            "Epoch: 016, Train: 0.5657, Val: 0.5238, Test: 0.5479, Loss: 0.6930116415023804\n",
            "Epoch: 017, Train: 0.5466, Val: 0.4883, Test: 0.5580, Loss: 0.6928765773773193\n",
            "Epoch: 018, Train: 0.5675, Val: 0.4896, Test: 0.5440, Loss: 0.6929349899291992\n",
            "Epoch: 019, Train: 0.5469, Val: 0.5077, Test: 0.5536, Loss: 0.6928435564041138\n",
            "Epoch: 020, Train: 0.5622, Val: 0.4829, Test: 0.5541, Loss: 0.6929879188537598\n",
            "Epoch: 021, Train: 0.5628, Val: 0.5050, Test: 0.5576, Loss: 0.6928310990333557\n",
            "Epoch: 022, Train: 0.5618, Val: 0.5145, Test: 0.5282, Loss: 0.6928302049636841\n",
            "Epoch: 023, Train: 0.5783, Val: 0.5124, Test: 0.5509, Loss: 0.69279944896698\n",
            "Epoch: 024, Train: 0.5925, Val: 0.5037, Test: 0.5444, Loss: 0.6928347945213318\n",
            "Epoch: 025, Train: 0.5928, Val: 0.4818, Test: 0.5497, Loss: 0.6927711367607117\n",
            "Epoch: 026, Train: 0.5892, Val: 0.4961, Test: 0.5534, Loss: 0.6928548216819763\n",
            "Epoch: 027, Train: 0.5832, Val: 0.4880, Test: 0.5492, Loss: 0.6926934123039246\n",
            "Epoch: 028, Train: 0.5783, Val: 0.5224, Test: 0.5517, Loss: 0.6927086114883423\n",
            "Epoch: 029, Train: 0.5643, Val: 0.5028, Test: 0.5623, Loss: 0.6927013397216797\n",
            "Epoch: 030, Train: 0.5796, Val: 0.5089, Test: 0.5538, Loss: 0.6925837397575378\n",
            "Epoch: 031, Train: 0.5859, Val: 0.5137, Test: 0.5627, Loss: 0.6924980878829956\n",
            "Epoch: 032, Train: 0.5803, Val: 0.5308, Test: 0.5738, Loss: 0.6925727725028992\n",
            "Epoch: 033, Train: 0.5853, Val: 0.5187, Test: 0.5474, Loss: 0.6924756169319153\n",
            "Epoch: 034, Train: 0.5893, Val: 0.5074, Test: 0.5553, Loss: 0.6923682689666748\n",
            "Epoch: 035, Train: 0.5926, Val: 0.5026, Test: 0.5479, Loss: 0.6924327611923218\n",
            "Epoch: 036, Train: 0.5946, Val: 0.5204, Test: 0.5473, Loss: 0.6922326683998108\n",
            "Epoch: 037, Train: 0.5997, Val: 0.5051, Test: 0.5684, Loss: 0.6923316717147827\n",
            "Epoch: 038, Train: 0.5899, Val: 0.5106, Test: 0.5429, Loss: 0.691999077796936\n",
            "Epoch: 039, Train: 0.5998, Val: 0.5037, Test: 0.5596, Loss: 0.6920680999755859\n",
            "Epoch: 040, Train: 0.6001, Val: 0.5133, Test: 0.5670, Loss: 0.6920983195304871\n",
            "Epoch: 041, Train: 0.5893, Val: 0.5209, Test: 0.5483, Loss: 0.6917123198509216\n",
            "Epoch: 042, Train: 0.5874, Val: 0.5090, Test: 0.5561, Loss: 0.6918269991874695\n",
            "Epoch: 043, Train: 0.5862, Val: 0.5171, Test: 0.5528, Loss: 0.6918633580207825\n",
            "Epoch: 044, Train: 0.6002, Val: 0.5033, Test: 0.5690, Loss: 0.691582441329956\n",
            "Epoch: 045, Train: 0.6006, Val: 0.5127, Test: 0.5452, Loss: 0.6916888356208801\n",
            "Epoch: 046, Train: 0.6041, Val: 0.5141, Test: 0.5583, Loss: 0.6914191842079163\n",
            "Epoch: 047, Train: 0.5991, Val: 0.4974, Test: 0.5590, Loss: 0.6915959715843201\n",
            "Epoch: 048, Train: 0.6061, Val: 0.5037, Test: 0.5581, Loss: 0.6911619901657104\n",
            "Epoch: 049, Train: 0.6224, Val: 0.5029, Test: 0.5537, Loss: 0.6912365555763245\n",
            "Epoch: 050, Train: 0.6148, Val: 0.5058, Test: 0.5586, Loss: 0.690904438495636\n",
            "Epoch: 051, Train: 0.6042, Val: 0.5179, Test: 0.5600, Loss: 0.6905261874198914\n",
            "Epoch: 052, Train: 0.5962, Val: 0.5058, Test: 0.5537, Loss: 0.6903746128082275\n",
            "Epoch: 053, Train: 0.6027, Val: 0.5187, Test: 0.5658, Loss: 0.6901962757110596\n",
            "Epoch: 054, Train: 0.6130, Val: 0.5172, Test: 0.5565, Loss: 0.6898713111877441\n",
            "Epoch: 055, Train: 0.6104, Val: 0.5075, Test: 0.5521, Loss: 0.6895844340324402\n",
            "Epoch: 056, Train: 0.6130, Val: 0.5123, Test: 0.5549, Loss: 0.6894522905349731\n",
            "Epoch: 057, Train: 0.6096, Val: 0.5147, Test: 0.5522, Loss: 0.6896854639053345\n",
            "Epoch: 058, Train: 0.6010, Val: 0.5125, Test: 0.5652, Loss: 0.6892032623291016\n",
            "Epoch: 059, Train: 0.6048, Val: 0.5142, Test: 0.5592, Loss: 0.6880356073379517\n",
            "Epoch: 060, Train: 0.5992, Val: 0.5041, Test: 0.5604, Loss: 0.6881216168403625\n",
            "Epoch: 061, Train: 0.5954, Val: 0.5089, Test: 0.5588, Loss: 0.6875383853912354\n",
            "Epoch: 062, Train: 0.6075, Val: 0.5204, Test: 0.5638, Loss: 0.6873375773429871\n",
            "Epoch: 063, Train: 0.6164, Val: 0.5142, Test: 0.5556, Loss: 0.6873255372047424\n",
            "Epoch: 064, Train: 0.6176, Val: 0.4960, Test: 0.5594, Loss: 0.6863669753074646\n",
            "Epoch: 065, Train: 0.6006, Val: 0.5107, Test: 0.5650, Loss: 0.6857375502586365\n",
            "Epoch: 066, Train: 0.6013, Val: 0.5068, Test: 0.5581, Loss: 0.6853198409080505\n",
            "Epoch: 067, Train: 0.5986, Val: 0.5123, Test: 0.5657, Loss: 0.6851553320884705\n",
            "Epoch: 068, Train: 0.6162, Val: 0.5162, Test: 0.5673, Loss: 0.6846703886985779\n",
            "Epoch: 069, Train: 0.6119, Val: 0.5036, Test: 0.5647, Loss: 0.6835818290710449\n",
            "Epoch: 070, Train: 0.6151, Val: 0.5185, Test: 0.5695, Loss: 0.6833082437515259\n",
            "Epoch: 071, Train: 0.6261, Val: 0.5161, Test: 0.5728, Loss: 0.6815099120140076\n",
            "Epoch: 072, Train: 0.6173, Val: 0.5259, Test: 0.5751, Loss: 0.6822934746742249\n",
            "Epoch: 073, Train: 0.6169, Val: 0.5301, Test: 0.5743, Loss: 0.6795987486839294\n",
            "Epoch: 074, Train: 0.6235, Val: 0.5290, Test: 0.5789, Loss: 0.6796570420265198\n",
            "Epoch: 075, Train: 0.6241, Val: 0.5357, Test: 0.5828, Loss: 0.6780198812484741\n",
            "Epoch: 076, Train: 0.6242, Val: 0.5339, Test: 0.5849, Loss: 0.6748895049095154\n",
            "Epoch: 077, Train: 0.6295, Val: 0.5463, Test: 0.5975, Loss: 0.6755492091178894\n",
            "Epoch: 078, Train: 0.6459, Val: 0.5497, Test: 0.5993, Loss: 0.6746727824211121\n",
            "Epoch: 079, Train: 0.6462, Val: 0.5659, Test: 0.6109, Loss: 0.6736271381378174\n",
            "Epoch: 080, Train: 0.6523, Val: 0.5796, Test: 0.6217, Loss: 0.671077311038971\n",
            "Epoch: 081, Train: 0.6633, Val: 0.5985, Test: 0.6328, Loss: 0.6661404371261597\n",
            "Epoch: 082, Train: 0.6767, Val: 0.6087, Test: 0.6443, Loss: 0.6677342653274536\n",
            "Epoch: 083, Train: 0.6764, Val: 0.6229, Test: 0.6545, Loss: 0.6654532551765442\n",
            "Epoch: 084, Train: 0.6987, Val: 0.6362, Test: 0.6668, Loss: 0.6575614809989929\n",
            "Epoch: 085, Train: 0.6991, Val: 0.6453, Test: 0.6725, Loss: 0.6565487384796143\n",
            "Epoch: 086, Train: 0.6982, Val: 0.6527, Test: 0.6830, Loss: 0.65854412317276\n",
            "Epoch: 087, Train: 0.7230, Val: 0.6486, Test: 0.6859, Loss: 0.6525347232818604\n",
            "Epoch: 088, Train: 0.7239, Val: 0.6642, Test: 0.6932, Loss: 0.6450247168540955\n",
            "Epoch: 089, Train: 0.7164, Val: 0.6729, Test: 0.6930, Loss: 0.6461195945739746\n",
            "Epoch: 090, Train: 0.7290, Val: 0.6801, Test: 0.6966, Loss: 0.6405320763587952\n",
            "Epoch: 091, Train: 0.7370, Val: 0.6802, Test: 0.6955, Loss: 0.6310387849807739\n",
            "Epoch: 092, Train: 0.7243, Val: 0.6859, Test: 0.6993, Loss: 0.6325511932373047\n",
            "Epoch: 093, Train: 0.7279, Val: 0.6846, Test: 0.7017, Loss: 0.6295322179794312\n",
            "Epoch: 094, Train: 0.7415, Val: 0.6888, Test: 0.6955, Loss: 0.6204467415809631\n",
            "Epoch: 095, Train: 0.7345, Val: 0.6815, Test: 0.6943, Loss: 0.6214946508407593\n",
            "Epoch: 096, Train: 0.7430, Val: 0.6915, Test: 0.7003, Loss: 0.6148069500923157\n",
            "Epoch: 097, Train: 0.7448, Val: 0.6910, Test: 0.6968, Loss: 0.6125603914260864\n",
            "Epoch: 098, Train: 0.7375, Val: 0.6927, Test: 0.7036, Loss: 0.6116256713867188\n",
            "Epoch: 099, Train: 0.7515, Val: 0.6896, Test: 0.7054, Loss: 0.613470196723938\n",
            "Epoch: 100, Train: 0.7407, Val: 0.6961, Test: 0.7032, Loss: 0.6230044364929199\n",
            "Epoch: 101, Train: 0.7402, Val: 0.6897, Test: 0.7011, Loss: 0.6177520155906677\n",
            "Epoch: 102, Train: 0.7405, Val: 0.6879, Test: 0.7031, Loss: 0.6094293594360352\n",
            "Epoch: 103, Train: 0.7439, Val: 0.7003, Test: 0.7091, Loss: 0.5941823720932007\n",
            "Epoch: 104, Train: 0.7588, Val: 0.6982, Test: 0.7125, Loss: 0.5980563759803772\n",
            "Epoch: 105, Train: 0.7592, Val: 0.7022, Test: 0.7059, Loss: 0.5993199944496155\n",
            "Epoch: 106, Train: 0.7671, Val: 0.7019, Test: 0.7117, Loss: 0.6000369191169739\n",
            "Epoch: 107, Train: 0.7533, Val: 0.7058, Test: 0.7089, Loss: 0.6044943332672119\n",
            "Epoch: 108, Train: 0.7580, Val: 0.6992, Test: 0.7087, Loss: 0.6025336384773254\n",
            "Epoch: 109, Train: 0.7798, Val: 0.7040, Test: 0.7088, Loss: 0.5988265872001648\n",
            "Epoch: 110, Train: 0.7686, Val: 0.7040, Test: 0.7115, Loss: 0.5977482795715332\n",
            "Epoch: 111, Train: 0.7718, Val: 0.7046, Test: 0.7130, Loss: 0.5940260291099548\n",
            "Epoch: 112, Train: 0.7820, Val: 0.7089, Test: 0.7163, Loss: 0.589781641960144\n",
            "Epoch: 113, Train: 0.7732, Val: 0.7106, Test: 0.7179, Loss: 0.5978704690933228\n",
            "Epoch: 114, Train: 0.7937, Val: 0.7090, Test: 0.7206, Loss: 0.5918782949447632\n",
            "Epoch: 115, Train: 0.7913, Val: 0.7073, Test: 0.7159, Loss: 0.5950627326965332\n",
            "Epoch: 116, Train: 0.7868, Val: 0.7073, Test: 0.7190, Loss: 0.5859032869338989\n",
            "Epoch: 117, Train: 0.7794, Val: 0.7113, Test: 0.7152, Loss: 0.5815169215202332\n",
            "Epoch: 118, Train: 0.7914, Val: 0.7083, Test: 0.7169, Loss: 0.5888909101486206\n",
            "Epoch: 119, Train: 0.7939, Val: 0.7149, Test: 0.7175, Loss: 0.5797899961471558\n",
            "Epoch: 120, Train: 0.7913, Val: 0.7070, Test: 0.7205, Loss: 0.5794609785079956\n",
            "Epoch: 121, Train: 0.7919, Val: 0.7126, Test: 0.7181, Loss: 0.5803166031837463\n",
            "Epoch: 122, Train: 0.7901, Val: 0.7112, Test: 0.7204, Loss: 0.5760411024093628\n",
            "Epoch: 123, Train: 0.7943, Val: 0.7129, Test: 0.7232, Loss: 0.5840997695922852\n",
            "Epoch: 124, Train: 0.7940, Val: 0.7077, Test: 0.7222, Loss: 0.57159024477005\n",
            "Epoch: 125, Train: 0.7982, Val: 0.7200, Test: 0.7144, Loss: 0.5818403363227844\n",
            "Epoch: 126, Train: 0.8102, Val: 0.7166, Test: 0.7221, Loss: 0.5774461627006531\n",
            "Epoch: 127, Train: 0.8091, Val: 0.7163, Test: 0.7223, Loss: 0.5773510932922363\n",
            "Epoch: 128, Train: 0.8071, Val: 0.7168, Test: 0.7200, Loss: 0.5708428025245667\n",
            "Epoch: 129, Train: 0.7970, Val: 0.7211, Test: 0.7198, Loss: 0.5685603618621826\n",
            "Epoch: 130, Train: 0.8098, Val: 0.7212, Test: 0.7253, Loss: 0.5812517404556274\n",
            "Epoch: 131, Train: 0.8105, Val: 0.7215, Test: 0.7239, Loss: 0.5722534656524658\n",
            "Epoch: 132, Train: 0.8038, Val: 0.7180, Test: 0.7233, Loss: 0.5697231292724609\n",
            "Epoch: 133, Train: 0.8226, Val: 0.7184, Test: 0.7234, Loss: 0.5791714787483215\n",
            "Epoch: 134, Train: 0.8110, Val: 0.7263, Test: 0.7239, Loss: 0.568910539150238\n",
            "Epoch: 135, Train: 0.8113, Val: 0.7224, Test: 0.7192, Loss: 0.5655101537704468\n",
            "Epoch: 136, Train: 0.8184, Val: 0.7258, Test: 0.7229, Loss: 0.5734667778015137\n",
            "Epoch: 137, Train: 0.8197, Val: 0.7217, Test: 0.7272, Loss: 0.5730187892913818\n",
            "Epoch: 138, Train: 0.8200, Val: 0.7247, Test: 0.7212, Loss: 0.5673500895500183\n",
            "Epoch: 139, Train: 0.8206, Val: 0.7206, Test: 0.7211, Loss: 0.5655864477157593\n",
            "Epoch: 140, Train: 0.8327, Val: 0.7232, Test: 0.7260, Loss: 0.5643501281738281\n",
            "Epoch: 141, Train: 0.8224, Val: 0.7263, Test: 0.7221, Loss: 0.5546560287475586\n",
            "Epoch: 142, Train: 0.8309, Val: 0.7284, Test: 0.7196, Loss: 0.5698958039283752\n",
            "Epoch: 143, Train: 0.8284, Val: 0.7263, Test: 0.7238, Loss: 0.561831533908844\n",
            "Epoch: 144, Train: 0.8281, Val: 0.7196, Test: 0.7238, Loss: 0.561082661151886\n",
            "Epoch: 145, Train: 0.8289, Val: 0.7243, Test: 0.7190, Loss: 0.5585891604423523\n",
            "Epoch: 146, Train: 0.8346, Val: 0.7270, Test: 0.7221, Loss: 0.5567179322242737\n",
            "Epoch: 147, Train: 0.8263, Val: 0.7265, Test: 0.7263, Loss: 0.550555944442749\n",
            "Epoch: 148, Train: 0.8450, Val: 0.7247, Test: 0.7260, Loss: 0.5605757832527161\n",
            "Epoch: 149, Train: 0.8361, Val: 0.7270, Test: 0.7275, Loss: 0.5504262447357178\n",
            "Epoch: 150, Train: 0.8431, Val: 0.7310, Test: 0.7260, Loss: 0.5532404184341431\n",
            "Epoch: 151, Train: 0.8343, Val: 0.7276, Test: 0.7185, Loss: 0.555605947971344\n",
            "Epoch: 152, Train: 0.8365, Val: 0.7297, Test: 0.7245, Loss: 0.5474515557289124\n",
            "Epoch: 153, Train: 0.8443, Val: 0.7277, Test: 0.7206, Loss: 0.5586065649986267\n",
            "Epoch: 154, Train: 0.8503, Val: 0.7320, Test: 0.7251, Loss: 0.5489321351051331\n",
            "Epoch: 155, Train: 0.8439, Val: 0.7291, Test: 0.7216, Loss: 0.5456897616386414\n",
            "Epoch: 156, Train: 0.8502, Val: 0.7344, Test: 0.7232, Loss: 0.5453670620918274\n",
            "Epoch: 157, Train: 0.8508, Val: 0.7353, Test: 0.7235, Loss: 0.5417174100875854\n",
            "Epoch: 158, Train: 0.8515, Val: 0.7292, Test: 0.7246, Loss: 0.5329857468605042\n",
            "Epoch: 159, Train: 0.8555, Val: 0.7291, Test: 0.7273, Loss: 0.5435752868652344\n",
            "Epoch: 160, Train: 0.8601, Val: 0.7320, Test: 0.7276, Loss: 0.5402101874351501\n"
          ]
        }
      ],
      "metadata": {
        "id": "Klw_xYnE27xQ"
      }
    },
    {
      "cell_type": "markdown",
      "source": [
        "## Question 4: What is the maximum ROC-AUC score you could get for the best_model on test set? (13 points)\n",
        "\n",
        "Submit your answers on Gradescope."
      ],
      "metadata": {
        "id": "j5brlsKElP0_"
      }
    },
    {
      "cell_type": "markdown",
      "source": [
        "# Submission\n",
        "\n",
        "In order to get credit, you must go submit your answers on Gradescope.\n",
        "\n",
        "Also, you need to submit the `ipynb` file of Colab 3, by clicking `File` and `Download .ipynb`. Please make sure that your output of each cell is available in your `ipynb` file."
      ],
      "metadata": {
        "id": "e7JXsMTBgeOI"
      }
    }
  ]
}