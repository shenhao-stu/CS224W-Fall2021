{
 "cells": [
  {
   "cell_type": "markdown",
   "metadata": {
    "id": "XuXWJLEm2UWS"
   },
   "source": [
    "# **CS224W - Colab 5**"
   ]
  },
  {
   "cell_type": "markdown",
   "metadata": {
    "id": "8gzsP50bF6Gb"
   },
   "source": [
    "In this Colab we will experiment on scaling up GNNs using PyTorch Geometric, DeepSNAP and NetworkX. As we have **canceled** the Colab 5 assignment, this notebook will be a tutorial and you do not need to submit it on Gradescope.\n",
    "\n",
    "At first, we will use PyTorch Geometric `NeighborSampler` to scale up the training and testing on OGB `arxiv` dataset.\n",
    "\n",
    "Then, using the DeepSNAP and NetworkX, we will implement a simplified version of `NeighborSampler` and run experiments with different smapling ratios on the Cora graph.\n",
    "\n",
    "At last, we will partition the Cora graph into clusters by using different partition algorithms and then train the models in the way of vanilla Cluster-GCN.\n",
    "\n",
    "**Note**: Make sure to **sequentially run all the cells in each section**, so that the intermediate variables / packages will carry over to the next cell"
   ]
  },
  {
   "cell_type": "markdown",
   "metadata": {
    "id": "MSaetj53YnT6"
   },
   "source": [
    "# Device\n",
    "You might need to use GPU for this Colab.\n",
    "\n",
    "Please click `Runtime` and then `Change runtime type`. Then set the `hardware accelerator` to **GPU**."
   ]
  },
  {
   "cell_type": "markdown",
   "metadata": {
    "id": "67gOQITlCNQi"
   },
   "source": [
    "# Installation"
   ]
  },
  {
   "cell_type": "code",
   "execution_count": 1,
   "metadata": {
    "id": "PRfgbfTjCRD_"
   },
   "outputs": [
    {
     "data": {
      "text/plain": [
       "'1.7.2'"
      ]
     },
     "execution_count": 1,
     "metadata": {},
     "output_type": "execute_result"
    }
   ],
   "source": [
    "import torch_geometric\n",
    "torch_geometric.__version__"
   ]
  },
  {
   "cell_type": "markdown",
   "metadata": {
    "id": "SxkYLgxAOxz7"
   },
   "source": [
    "# 1 PyTorch Geometric Neighbor Sampling\n",
    "\n",
    "Neighbor Sampling, originally proposed in **GraphSAGE** ([Hamilton et al. (2017)](https://arxiv.org/abs/1706.02216)), is a representative method to scale up GNNs. As what we have learned in lecture, only a K-hop neighborhood nodes will be loaded into GPU for each time training. To further reduce the cost, we can sample a subset of neighborhood nodes for GNNs to aggregate."
   ]
  },
  {
   "cell_type": "markdown",
   "metadata": {
    "id": "Kho6SHUVO1ny"
   },
   "source": [
    "## Setup"
   ]
  },
  {
   "cell_type": "code",
   "execution_count": 3,
   "metadata": {
    "id": "X1WJLGKsOx_k"
   },
   "outputs": [],
   "source": [
    "import copy\n",
    "import torch\n",
    "import torch.nn.functional as F\n",
    "import torch_geometric.transforms as T\n",
    "\n",
    "from torch_geometric.nn import SAGEConv\n",
    "from torch_geometric.data import NeighborSampler\n",
    "from ogb.nodeproppred import PygNodePropPredDataset, Evaluator"
   ]
  },
  {
   "cell_type": "markdown",
   "metadata": {
    "id": "UKqZWqRbO7km"
   },
   "source": [
    "## Neighbor Sampler\n",
    "\n",
    "PyTorch Geometric has implemented the Neighbor Sampling method as the [NeighborSampler](https://pytorch-geometric.readthedocs.io/en/latest/modules/data.html#torch_geometric.data.NeighborSampler) in `torch_geometric.data`. Following is an example that uses the Neighbor Sampling method on training the OGB `arxiv` dataset.\n",
    "\n",
    "If you are interested in memory-efficient aggregations, please refer to PyG's [Memory-Efficient Aggregations](https://pytorch-geometric.readthedocs.io/en/latest/notes/sparse_tensor.html)."
   ]
  },
  {
   "cell_type": "code",
   "execution_count": 4,
   "metadata": {
    "id": "nWlyStlRO6_u"
   },
   "outputs": [
    {
     "name": "stdout",
     "output_type": "stream",
     "text": [
      "Downloading http://snap.stanford.edu/ogb/data/nodeproppred/arxiv.zip\n"
     ]
    },
    {
     "name": "stderr",
     "output_type": "stream",
     "text": [
      "Downloaded 0.08 GB: 100%|██████████████████████████████████████████████████████████████| 81/81 [00:24<00:00,  3.29it/s]\n"
     ]
    },
    {
     "name": "stdout",
     "output_type": "stream",
     "text": [
      "Extracting dataset\\arxiv.zip\n",
      "Processing...\n",
      "Loading necessary files...\n",
      "This might take a while.\n",
      "Processing graphs...\n"
     ]
    },
    {
     "name": "stderr",
     "output_type": "stream",
     "text": [
      "100%|████████████████████████████████████████████████████████████████████████████████████████████| 1/1 [00:00<?, ?it/s]\n"
     ]
    },
    {
     "name": "stdout",
     "output_type": "stream",
     "text": [
      "Converting graphs into PyG objects...\n"
     ]
    },
    {
     "name": "stderr",
     "output_type": "stream",
     "text": [
      "100%|███████████████████████████████████████████████████████████████████████████████████| 1/1 [00:00<00:00, 200.49it/s]"
     ]
    },
    {
     "name": "stdout",
     "output_type": "stream",
     "text": [
      "Saving...\n"
     ]
    },
    {
     "name": "stderr",
     "output_type": "stream",
     "text": [
      "\n"
     ]
    },
    {
     "name": "stdout",
     "output_type": "stream",
     "text": [
      "Done!\n",
      "Device: cpu\n"
     ]
    }
   ],
   "source": [
    "dataset_name = 'ogbn-arxiv'\n",
    "dataset = PygNodePropPredDataset(name=dataset_name,\n",
    "                                 transform=T.ToSparseTensor())\n",
    "data = dataset[0]\n",
    "data.adj_t = data.adj_t.to_symmetric()\n",
    "device = 'cuda' if torch.cuda.is_available() else 'cpu'\n",
    "\n",
    "print('Device: {}'.format(device))\n",
    "\n",
    "data = data.to(device)\n",
    "split_idx = dataset.get_idx_split()\n",
    "train_idx = split_idx['train'].to(device)\n",
    "\n",
    "# Construct the training dataloader for training data\n",
    "# Sample 10 neighbors for each node in the first layer and 5 for the second layer\n",
    "train_loader = NeighborSampler(data.adj_t, node_idx=train_idx,\n",
    "                               sizes=[10, 5], batch_size=4096,\n",
    "                               shuffle=True, num_workers=2)\n",
    "\n",
    "# Specify size as -1 to include all neighbors\n",
    "all_loader = NeighborSampler(data.adj_t, node_idx=None, sizes=[-1],\n",
    "                                  batch_size=4096, shuffle=False,\n",
    "                                  num_workers=2)\n",
    "evaluator = Evaluator(name='ogbn-arxiv')"
   ]
  },
  {
   "cell_type": "markdown",
   "metadata": {
    "id": "VjdkIcFpRYyl"
   },
   "source": [
    "## GNN Model\n",
    "\n",
    "After creating the `NeighborSampler`, we also need to modify the model to let it support the mini-batch training.\n",
    "\n",
    "The `forward` function will take the node feature `x` and a list of three-element tuples `adjs`. Each element in `adjs` contains following elements:\n",
    "* `edge_index`: The edge index tensor between source and destination nodes, which forms a bipartite grpah.\n",
    "* `e_id`: The indices of the edges in the original graph.\n",
    "* `size`: The shape of the bipartite graph, in (*number of source nodes*, *number of destination nodes*) format."
   ]
  },
  {
   "cell_type": "code",
   "execution_count": 5,
   "metadata": {
    "id": "gRBJS_5qRWbu"
   },
   "outputs": [],
   "source": [
    "class SAGE(torch.nn.Module):\n",
    "    def __init__(self, input_dim, hidden_dim, output_dim, num_layers,\n",
    "                 dropout):\n",
    "        super(SAGE, self).__init__()\n",
    "\n",
    "        self.convs = torch.nn.ModuleList()\n",
    "        self.bns = torch.nn.ModuleList()\n",
    "\n",
    "        self.convs.append(SAGEConv(input_dim, hidden_dim))\n",
    "        self.bns.append(torch.nn.BatchNorm1d(hidden_dim))\n",
    "\n",
    "        for i in range(num_layers - 2):\n",
    "            self.convs.append(\n",
    "                SAGEConv(hidden_dim, hidden_dim))\n",
    "            self.bns.append(torch.nn.BatchNorm1d(hidden_dim))\n",
    "        self.convs.append(SAGEConv(hidden_dim, output_dim))\n",
    "\n",
    "        self.softmax = torch.nn.LogSoftmax(dim=1)\n",
    "\n",
    "        self.dropout = dropout\n",
    "\n",
    "        self.num_layers = num_layers\n",
    "\n",
    "    def reset_parameters(self):\n",
    "        for conv in self.convs:\n",
    "            conv.reset_parameters()\n",
    "        for bn in self.bns:\n",
    "            bn.reset_parameters()\n",
    "\n",
    "    def forward(self, x, adjs, mode=\"batch\"):\n",
    "        if mode == \"batch\":\n",
    "            for i, (edge_index, _, size) in enumerate(adjs):\n",
    "                # Extract target node features\n",
    "                x_target = x[:size[1]]\n",
    "\n",
    "                # Update x for next layer reuse\n",
    "                x = self.convs[i]((x, x_target), edge_index)\n",
    "                if i != self.num_layers - 1:\n",
    "                    x = self.bns[i](x)\n",
    "                    x = F.relu(x)\n",
    "                    x = F.dropout(x, p=self.dropout, training=self.training)\n",
    "        else:\n",
    "            for i, conv in enumerate(self.convs):\n",
    "                x = conv(x, adjs)\n",
    "                if i != self.num_layers - 1:\n",
    "                    x = self.bns[i](x)\n",
    "                    x = F.relu(x)\n",
    "                    x = F.dropout(x, p=self.dropout, training=self.training)\n",
    "        return self.softmax(x)\n",
    "    \n",
    "    def inference(self, x_all, all_loader):\n",
    "        # This function will be called in test\n",
    "        for i in range(self.num_layers):\n",
    "            xs = []\n",
    "            for batch_size, n_id, adj in all_loader:\n",
    "                edge_index, _, size = adj.to(device)\n",
    "                x = x_all[n_id].to(device)\n",
    "                x_target = x[:size[1]]\n",
    "                x = self.convs[i]((x, x_target), edge_index)\n",
    "                if i != self.num_layers - 1:\n",
    "                    x = self.bns[i](x)\n",
    "                    x = F.relu(x)\n",
    "                    x = F.dropout(x, p=self.dropout, training=self.training)\n",
    "                \n",
    "                # Append the node embeddings to xs\n",
    "                xs.append(x.cpu())\n",
    "            \n",
    "            # Concat all embeddings into one tensor\n",
    "            x_all = torch.cat(xs, dim=0)\n",
    "\n",
    "        return x_all"
   ]
  },
  {
   "cell_type": "markdown",
   "metadata": {
    "id": "7cfm7K3wRqqY"
   },
   "source": [
    "## Training and Testing\n",
    "\n",
    "Now lets implement the training and testing functions.\n",
    "\n",
    "In both training and testing, we need to sample batch from the dataloader.\n",
    "\n",
    "Each batch in the `NeighborSampler` dataloader holds three elements:\n",
    "* `batch_size`: The batch size specified in the dataloader.\n",
    "* `n_id`: All nodes (in index format) used in the adjacency matrices.\n",
    "* `adjs`: The three-element tuples."
   ]
  },
  {
   "cell_type": "code",
   "execution_count": 6,
   "metadata": {
    "id": "-JN0-_QCRn8N"
   },
   "outputs": [],
   "source": [
    "def train(model, data, train_loader, train_idx, optimizer, loss_fn, mode=\"batch\"):\n",
    "    model.train()\n",
    "\n",
    "    total_loss = 0\n",
    "    if mode == \"batch\":\n",
    "        for batch_size, n_id, adjs in train_loader:\n",
    "            # Move all adj sparse tensors to GPU\n",
    "            adjs = [adj.to(device) for adj in adjs]\n",
    "            optimizer.zero_grad()\n",
    "\n",
    "            # Index on the node features\n",
    "            out = model(data.x[n_id], adjs)\n",
    "            train_label = data.y[n_id[:batch_size]].squeeze(-1)\n",
    "            loss = loss_fn(out, train_label)\n",
    "            loss.backward()\n",
    "            optimizer.step()\n",
    "            total_loss += loss.item()\n",
    "    else:\n",
    "        optimizer.zero_grad()\n",
    "        out = model(data.x, data.adj_t, mode=mode)[train_idx]\n",
    "        train_label = data.y.squeeze(1)[train_idx]\n",
    "        loss = loss_fn(out, train_label)\n",
    "        loss.backward()\n",
    "        optimizer.step()\n",
    "        total_loss = loss.item()\n",
    "\n",
    "    return total_loss\n",
    "\n",
    "@torch.no_grad()\n",
    "def test(model, data, all_loader, split_idx, evaluator, mode=\"batch\"):\n",
    "    model.eval()\n",
    "\n",
    "    if mode == \"batch\":\n",
    "        out = model.inference(data.x, all_loader)\n",
    "    else:\n",
    "        out = model(data.x, data.adj_t, mode=\"all\")\n",
    "\n",
    "    y_true = data.y.cpu()\n",
    "    y_pred = out.argmax(dim=-1, keepdim=True)\n",
    "\n",
    "    train_acc = evaluator.eval({\n",
    "        'y_true': y_true[split_idx['train']],\n",
    "        'y_pred': y_pred[split_idx['train']],\n",
    "    })['acc']\n",
    "    valid_acc = evaluator.eval({\n",
    "        'y_true': y_true[split_idx['valid']],\n",
    "        'y_pred': y_pred[split_idx['valid']],\n",
    "    })['acc']\n",
    "    test_acc = evaluator.eval({\n",
    "        'y_true': y_true[split_idx['test']],\n",
    "        'y_pred': y_pred[split_idx['test']],\n",
    "    })['acc']\n",
    "\n",
    "    return train_acc, valid_acc, test_acc"
   ]
  },
  {
   "cell_type": "markdown",
   "metadata": {
    "id": "AiehZ8OiR2q9"
   },
   "source": [
    "## Mini-batch Training"
   ]
  },
  {
   "cell_type": "code",
   "execution_count": 7,
   "metadata": {
    "id": "zFaI2eCARy0v"
   },
   "outputs": [
    {
     "name": "stdout",
     "output_type": "stream",
     "text": [
      "Epoch: 01, Loss: 39.5845, Train: 63.68%, Valid: 64.47% Test: 63.91%\n",
      "Epoch: 02, Loss: 28.4728, Train: 67.54%, Valid: 67.31% Test: 66.39%\n",
      "Epoch: 03, Loss: 26.5614, Train: 69.27%, Valid: 69.07% Test: 68.64%\n",
      "Epoch: 04, Loss: 25.7039, Train: 70.07%, Valid: 68.62% Test: 67.25%\n",
      "Epoch: 05, Loss: 25.0050, Train: 70.64%, Valid: 69.16% Test: 68.36%\n",
      "Epoch: 06, Loss: 24.4966, Train: 71.24%, Valid: 69.48% Test: 68.44%\n",
      "Epoch: 07, Loss: 24.2658, Train: 71.50%, Valid: 70.28% Test: 69.58%\n",
      "Epoch: 08, Loss: 23.9038, Train: 71.79%, Valid: 69.13% Test: 67.88%\n",
      "Epoch: 09, Loss: 23.7574, Train: 71.74%, Valid: 69.99% Test: 68.71%\n",
      "Epoch: 10, Loss: 23.4980, Train: 71.87%, Valid: 69.96% Test: 69.19%\n",
      "Epoch: 11, Loss: 23.3272, Train: 72.92%, Valid: 70.58% Test: 69.16%\n",
      "Epoch: 12, Loss: 23.1209, Train: 73.10%, Valid: 70.44% Test: 69.60%\n",
      "Epoch: 13, Loss: 22.9987, Train: 72.97%, Valid: 70.17% Test: 69.27%\n",
      "Epoch: 14, Loss: 22.9244, Train: 73.58%, Valid: 70.15% Test: 68.84%\n",
      "Epoch: 15, Loss: 22.7564, Train: 73.13%, Valid: 70.21% Test: 69.57%\n",
      "Epoch: 16, Loss: 22.6009, Train: 73.49%, Valid: 70.46% Test: 70.39%\n",
      "Epoch: 17, Loss: 22.5567, Train: 73.50%, Valid: 70.14% Test: 68.97%\n",
      "Epoch: 18, Loss: 22.4760, Train: 73.58%, Valid: 70.91% Test: 70.35%\n",
      "Epoch: 19, Loss: 22.4380, Train: 73.82%, Valid: 69.67% Test: 67.89%\n",
      "Epoch: 20, Loss: 22.3227, Train: 74.10%, Valid: 70.34% Test: 69.09%\n",
      "Epoch: 21, Loss: 22.1628, Train: 74.19%, Valid: 70.58% Test: 70.27%\n",
      "Epoch: 22, Loss: 22.1054, Train: 73.98%, Valid: 70.02% Test: 68.75%\n",
      "Epoch: 23, Loss: 22.0030, Train: 74.25%, Valid: 69.95% Test: 68.50%\n",
      "Epoch: 24, Loss: 21.9619, Train: 74.38%, Valid: 69.72% Test: 67.91%\n",
      "Epoch: 25, Loss: 21.9842, Train: 74.41%, Valid: 69.91% Test: 68.38%\n",
      "Epoch: 26, Loss: 21.8530, Train: 74.79%, Valid: 70.76% Test: 69.79%\n",
      "Epoch: 27, Loss: 21.8756, Train: 74.83%, Valid: 70.52% Test: 69.40%\n",
      "Epoch: 28, Loss: 21.7632, Train: 74.74%, Valid: 70.04% Test: 68.12%\n",
      "Epoch: 29, Loss: 21.5642, Train: 75.08%, Valid: 70.37% Test: 68.66%\n",
      "Epoch: 30, Loss: 21.7048, Train: 74.81%, Valid: 70.18% Test: 68.82%\n",
      "Epoch: 31, Loss: 21.6529, Train: 75.00%, Valid: 70.17% Test: 68.86%\n",
      "Epoch: 32, Loss: 21.6070, Train: 74.72%, Valid: 71.16% Test: 70.79%\n",
      "Epoch: 33, Loss: 21.5376, Train: 75.26%, Valid: 70.30% Test: 68.88%\n",
      "Epoch: 34, Loss: 21.5553, Train: 75.11%, Valid: 70.59% Test: 69.25%\n",
      "Epoch: 35, Loss: 21.3054, Train: 75.36%, Valid: 70.66% Test: 69.42%\n",
      "Epoch: 36, Loss: 21.3791, Train: 75.40%, Valid: 70.72% Test: 70.05%\n",
      "Epoch: 37, Loss: 21.3977, Train: 75.62%, Valid: 70.49% Test: 69.30%\n",
      "Epoch: 38, Loss: 21.2731, Train: 75.57%, Valid: 71.10% Test: 70.22%\n",
      "Epoch: 39, Loss: 21.3208, Train: 75.26%, Valid: 70.48% Test: 68.98%\n",
      "Epoch: 40, Loss: 21.2739, Train: 75.39%, Valid: 69.93% Test: 68.27%\n",
      "Epoch: 41, Loss: 21.2308, Train: 75.44%, Valid: 69.77% Test: 67.78%\n",
      "Epoch: 42, Loss: 21.1894, Train: 75.85%, Valid: 70.50% Test: 69.18%\n",
      "Epoch: 43, Loss: 21.0346, Train: 75.70%, Valid: 70.72% Test: 69.74%\n",
      "Epoch: 44, Loss: 21.1376, Train: 75.80%, Valid: 70.54% Test: 70.28%\n",
      "Epoch: 45, Loss: 21.0854, Train: 75.91%, Valid: 70.77% Test: 69.89%\n",
      "Epoch: 46, Loss: 21.1049, Train: 75.97%, Valid: 70.72% Test: 69.86%\n",
      "Epoch: 47, Loss: 21.1086, Train: 76.12%, Valid: 70.72% Test: 69.36%\n",
      "Epoch: 48, Loss: 20.9415, Train: 75.69%, Valid: 71.05% Test: 70.73%\n",
      "Epoch: 49, Loss: 21.0010, Train: 75.69%, Valid: 70.59% Test: 69.62%\n",
      "Epoch: 50, Loss: 20.9076, Train: 76.12%, Valid: 70.57% Test: 69.03%\n",
      "Epoch: 51, Loss: 20.8934, Train: 76.16%, Valid: 70.73% Test: 69.66%\n",
      "Epoch: 52, Loss: 20.9384, Train: 76.24%, Valid: 70.82% Test: 69.80%\n",
      "Epoch: 53, Loss: 20.8320, Train: 76.13%, Valid: 70.23% Test: 68.39%\n",
      "Epoch: 54, Loss: 20.9123, Train: 76.23%, Valid: 70.87% Test: 70.68%\n",
      "Epoch: 55, Loss: 20.9831, Train: 76.41%, Valid: 70.95% Test: 70.28%\n",
      "Epoch: 56, Loss: 20.8409, Train: 76.31%, Valid: 71.04% Test: 70.42%\n",
      "Epoch: 57, Loss: 20.7995, Train: 76.48%, Valid: 71.01% Test: 70.58%\n",
      "Epoch: 58, Loss: 20.7105, Train: 76.47%, Valid: 70.95% Test: 70.00%\n",
      "Epoch: 59, Loss: 20.6851, Train: 76.28%, Valid: 70.80% Test: 69.65%\n",
      "Epoch: 60, Loss: 20.7279, Train: 76.57%, Valid: 70.69% Test: 69.64%\n",
      "Epoch: 61, Loss: 20.7763, Train: 76.35%, Valid: 70.87% Test: 69.74%\n",
      "Epoch: 62, Loss: 20.6684, Train: 76.29%, Valid: 70.75% Test: 70.01%\n",
      "Epoch: 63, Loss: 20.6811, Train: 76.40%, Valid: 70.83% Test: 69.89%\n",
      "Epoch: 64, Loss: 20.7559, Train: 76.59%, Valid: 70.98% Test: 69.95%\n",
      "Epoch: 65, Loss: 20.6134, Train: 76.57%, Valid: 70.63% Test: 69.27%\n",
      "Epoch: 66, Loss: 20.6280, Train: 76.67%, Valid: 71.00% Test: 70.09%\n",
      "Epoch: 67, Loss: 20.5584, Train: 76.60%, Valid: 70.91% Test: 70.02%\n",
      "Epoch: 68, Loss: 20.6975, Train: 76.85%, Valid: 71.06% Test: 70.13%\n",
      "Epoch: 69, Loss: 20.6154, Train: 76.57%, Valid: 70.94% Test: 69.72%\n",
      "Epoch: 70, Loss: 20.6310, Train: 76.76%, Valid: 70.87% Test: 69.85%\n",
      "Epoch: 71, Loss: 20.5988, Train: 76.88%, Valid: 70.93% Test: 69.74%\n",
      "Epoch: 72, Loss: 20.4876, Train: 76.81%, Valid: 70.72% Test: 69.52%\n",
      "Epoch: 73, Loss: 20.4272, Train: 76.80%, Valid: 70.49% Test: 68.90%\n",
      "Epoch: 74, Loss: 20.5642, Train: 76.97%, Valid: 70.45% Test: 68.74%\n",
      "Epoch: 75, Loss: 20.5586, Train: 76.88%, Valid: 70.75% Test: 69.43%\n",
      "Epoch: 76, Loss: 20.4491, Train: 76.90%, Valid: 70.56% Test: 69.31%\n",
      "Epoch: 77, Loss: 20.4943, Train: 76.90%, Valid: 70.89% Test: 69.74%\n",
      "Epoch: 78, Loss: 20.4584, Train: 76.75%, Valid: 70.86% Test: 70.00%\n",
      "Epoch: 79, Loss: 20.3959, Train: 76.85%, Valid: 70.71% Test: 69.46%\n",
      "Epoch: 80, Loss: 20.4304, Train: 76.82%, Valid: 70.30% Test: 69.27%\n",
      "Epoch: 81, Loss: 20.3543, Train: 76.93%, Valid: 70.57% Test: 69.26%\n",
      "Epoch: 82, Loss: 20.3773, Train: 76.92%, Valid: 70.39% Test: 69.15%\n",
      "Epoch: 83, Loss: 20.3657, Train: 77.18%, Valid: 70.75% Test: 69.70%\n",
      "Epoch: 84, Loss: 20.3289, Train: 76.99%, Valid: 70.66% Test: 69.32%\n",
      "Epoch: 85, Loss: 20.3137, Train: 77.00%, Valid: 70.91% Test: 69.86%\n",
      "Epoch: 86, Loss: 20.2798, Train: 77.19%, Valid: 70.96% Test: 69.80%\n",
      "Epoch: 87, Loss: 20.2761, Train: 77.10%, Valid: 71.01% Test: 69.81%\n",
      "Epoch: 88, Loss: 20.3547, Train: 77.25%, Valid: 70.59% Test: 69.01%\n",
      "Epoch: 89, Loss: 20.3843, Train: 77.07%, Valid: 70.78% Test: 69.66%\n",
      "Epoch: 90, Loss: 20.2371, Train: 77.13%, Valid: 71.25% Test: 70.21%\n",
      "Epoch: 91, Loss: 20.2946, Train: 76.71%, Valid: 70.79% Test: 69.49%\n",
      "Epoch: 92, Loss: 20.3224, Train: 77.26%, Valid: 70.78% Test: 69.72%\n",
      "Epoch: 93, Loss: 20.3744, Train: 76.87%, Valid: 70.96% Test: 70.37%\n",
      "Epoch: 94, Loss: 20.3240, Train: 77.04%, Valid: 70.47% Test: 68.81%\n",
      "Epoch: 95, Loss: 20.2416, Train: 77.05%, Valid: 70.84% Test: 69.86%\n",
      "Epoch: 96, Loss: 20.3739, Train: 77.02%, Valid: 70.83% Test: 69.84%\n",
      "Epoch: 97, Loss: 20.2201, Train: 77.22%, Valid: 71.03% Test: 69.69%\n",
      "Epoch: 98, Loss: 20.2229, Train: 77.04%, Valid: 70.72% Test: 69.73%\n",
      "Epoch: 99, Loss: 20.1524, Train: 77.38%, Valid: 71.13% Test: 69.96%\n",
      "Epoch: 100, Loss: 20.2348, Train: 76.98%, Valid: 70.97% Test: 70.01%\n",
      "Best model: Train: 77.13%, Valid: 71.25% Test: 70.21%\n"
     ]
    }
   ],
   "source": [
    "args = {\n",
    "    'device': device,\n",
    "    'num_layers': 2,\n",
    "    'hidden_dim': 128,\n",
    "    'dropout': 0.5,\n",
    "    'lr': 0.01,\n",
    "    'epochs': 100,\n",
    "}\n",
    "\n",
    "batch_model = SAGE(data.num_features, args['hidden_dim'],\n",
    "            dataset.num_classes, args['num_layers'],\n",
    "            args['dropout']).to(device)\n",
    "batch_model.reset_parameters()\n",
    "\n",
    "optimizer = torch.optim.Adam(batch_model.parameters(), lr=args['lr'])\n",
    "loss_fn = F.nll_loss\n",
    "\n",
    "best_batch_model = None\n",
    "best_valid_acc = 0\n",
    "\n",
    "batch_results = []\n",
    "\n",
    "for epoch in range(1, 1 + args[\"epochs\"]):\n",
    "    loss = train(batch_model, data, train_loader, train_idx, optimizer, loss_fn, mode=\"batch\")\n",
    "    result = test(batch_model, data, all_loader, split_idx, evaluator, mode=\"batch\")\n",
    "    batch_results.append(result)\n",
    "    train_acc, valid_acc, test_acc = result\n",
    "    if valid_acc > best_valid_acc:\n",
    "        best_valid_acc = valid_acc\n",
    "        best_batch_model = copy.deepcopy(batch_model)\n",
    "    print(f'Epoch: {epoch:02d}, '\n",
    "          f'Loss: {loss:.4f}, '\n",
    "          f'Train: {100 * train_acc:.2f}%, '\n",
    "          f'Valid: {100 * valid_acc:.2f}% '\n",
    "          f'Test: {100 * test_acc:.2f}%')\n",
    "best_result = test(best_batch_model, data, all_loader, split_idx, evaluator, mode=\"batch\")\n",
    "train_acc, valid_acc, test_acc = best_result\n",
    "print(f'Best model: '\n",
    "      f'Train: {100 * train_acc:.2f}%, '\n",
    "      f'Valid: {100 * valid_acc:.2f}% '\n",
    "      f'Test: {100 * test_acc:.2f}%')"
   ]
  },
  {
   "cell_type": "markdown",
   "metadata": {
    "id": "-OyqW-1pSMLW"
   },
   "source": [
    "## Full-batch Training"
   ]
  },
  {
   "cell_type": "code",
   "execution_count": 8,
   "metadata": {
    "id": "mU5eAviTSFMO"
   },
   "outputs": [
    {
     "name": "stdout",
     "output_type": "stream",
     "text": [
      "Epoch: 01, Loss: 3.9945, Train: 20.54%, Valid: 28.48% Test: 26.58%\n",
      "Epoch: 02, Loss: 2.6076, Train: 29.92%, Valid: 34.50% Test: 33.98%\n",
      "Epoch: 03, Loss: 2.2196, Train: 33.64%, Valid: 40.07% Test: 41.87%\n",
      "Epoch: 04, Loss: 2.0595, Train: 35.85%, Valid: 42.66% Test: 45.69%\n",
      "Epoch: 05, Loss: 1.9224, Train: 39.27%, Valid: 45.72% Test: 49.02%\n",
      "Epoch: 06, Loss: 1.8086, Train: 44.24%, Valid: 50.29% Test: 52.94%\n",
      "Epoch: 07, Loss: 1.7192, Train: 48.82%, Valid: 54.11% Test: 55.88%\n",
      "Epoch: 08, Loss: 1.6542, Train: 51.93%, Valid: 56.85% Test: 57.43%\n",
      "Epoch: 09, Loss: 1.6005, Train: 54.10%, Valid: 58.56% Test: 58.66%\n",
      "Epoch: 10, Loss: 1.5579, Train: 55.93%, Valid: 59.95% Test: 60.00%\n",
      "Epoch: 11, Loss: 1.5183, Train: 57.40%, Valid: 61.03% Test: 61.21%\n",
      "Epoch: 12, Loss: 1.4822, Train: 58.61%, Valid: 61.72% Test: 61.79%\n",
      "Epoch: 13, Loss: 1.4535, Train: 59.73%, Valid: 62.19% Test: 62.15%\n",
      "Epoch: 14, Loss: 1.4239, Train: 60.51%, Valid: 62.46% Test: 62.10%\n",
      "Epoch: 15, Loss: 1.4006, Train: 61.09%, Valid: 62.67% Test: 61.91%\n",
      "Epoch: 16, Loss: 1.3788, Train: 61.57%, Valid: 62.82% Test: 62.00%\n",
      "Epoch: 17, Loss: 1.3584, Train: 62.09%, Valid: 63.22% Test: 62.37%\n",
      "Epoch: 18, Loss: 1.3393, Train: 62.62%, Valid: 63.72% Test: 62.99%\n",
      "Epoch: 19, Loss: 1.3252, Train: 63.05%, Valid: 64.19% Test: 63.64%\n",
      "Epoch: 20, Loss: 1.3098, Train: 63.36%, Valid: 64.63% Test: 64.26%\n",
      "Epoch: 21, Loss: 1.2932, Train: 63.66%, Valid: 64.85% Test: 64.60%\n",
      "Epoch: 22, Loss: 1.2849, Train: 63.85%, Valid: 65.05% Test: 64.64%\n",
      "Epoch: 23, Loss: 1.2723, Train: 64.08%, Valid: 65.14% Test: 64.37%\n",
      "Epoch: 24, Loss: 1.2580, Train: 64.25%, Valid: 65.02% Test: 63.97%\n",
      "Epoch: 25, Loss: 1.2472, Train: 64.44%, Valid: 64.96% Test: 63.76%\n",
      "Epoch: 26, Loss: 1.2391, Train: 64.70%, Valid: 65.17% Test: 63.82%\n",
      "Epoch: 27, Loss: 1.2310, Train: 64.97%, Valid: 65.38% Test: 64.19%\n",
      "Epoch: 28, Loss: 1.2193, Train: 65.29%, Valid: 65.79% Test: 64.63%\n",
      "Epoch: 29, Loss: 1.2117, Train: 65.63%, Valid: 66.06% Test: 64.98%\n",
      "Epoch: 30, Loss: 1.2061, Train: 65.95%, Valid: 66.25% Test: 65.25%\n",
      "Epoch: 31, Loss: 1.2007, Train: 66.16%, Valid: 66.47% Test: 65.45%\n",
      "Epoch: 32, Loss: 1.1909, Train: 66.40%, Valid: 66.56% Test: 65.44%\n",
      "Epoch: 33, Loss: 1.1852, Train: 66.62%, Valid: 66.67% Test: 65.57%\n",
      "Epoch: 34, Loss: 1.1752, Train: 66.82%, Valid: 66.93% Test: 65.76%\n",
      "Epoch: 35, Loss: 1.1729, Train: 67.09%, Valid: 67.13% Test: 66.10%\n",
      "Epoch: 36, Loss: 1.1667, Train: 67.21%, Valid: 67.34% Test: 66.39%\n",
      "Epoch: 37, Loss: 1.1615, Train: 67.37%, Valid: 67.53% Test: 66.72%\n",
      "Epoch: 38, Loss: 1.1554, Train: 67.44%, Valid: 67.73% Test: 66.93%\n",
      "Epoch: 39, Loss: 1.1484, Train: 67.64%, Valid: 67.78% Test: 67.02%\n",
      "Epoch: 40, Loss: 1.1474, Train: 67.72%, Valid: 67.77% Test: 67.03%\n",
      "Epoch: 41, Loss: 1.1399, Train: 67.86%, Valid: 67.81% Test: 67.05%\n",
      "Epoch: 42, Loss: 1.1316, Train: 68.03%, Valid: 67.98% Test: 67.10%\n",
      "Epoch: 43, Loss: 1.1293, Train: 68.13%, Valid: 68.03% Test: 67.26%\n",
      "Epoch: 44, Loss: 1.1265, Train: 68.25%, Valid: 68.14% Test: 67.45%\n",
      "Epoch: 45, Loss: 1.1232, Train: 68.42%, Valid: 68.23% Test: 67.67%\n",
      "Epoch: 46, Loss: 1.1173, Train: 68.58%, Valid: 68.30% Test: 67.83%\n",
      "Epoch: 47, Loss: 1.1115, Train: 68.74%, Valid: 68.37% Test: 67.80%\n",
      "Epoch: 48, Loss: 1.1137, Train: 68.89%, Valid: 68.44% Test: 67.74%\n",
      "Epoch: 49, Loss: 1.1064, Train: 69.03%, Valid: 68.51% Test: 67.69%\n",
      "Epoch: 50, Loss: 1.1019, Train: 69.15%, Valid: 68.64% Test: 67.84%\n",
      "Epoch: 51, Loss: 1.1001, Train: 69.28%, Valid: 68.79% Test: 68.07%\n",
      "Epoch: 52, Loss: 1.0981, Train: 69.37%, Valid: 68.92% Test: 68.26%\n",
      "Epoch: 53, Loss: 1.0924, Train: 69.50%, Valid: 68.97% Test: 68.44%\n",
      "Epoch: 54, Loss: 1.0897, Train: 69.62%, Valid: 69.01% Test: 68.52%\n",
      "Epoch: 55, Loss: 1.0859, Train: 69.71%, Valid: 69.09% Test: 68.46%\n",
      "Epoch: 56, Loss: 1.0841, Train: 69.79%, Valid: 69.12% Test: 68.50%\n",
      "Epoch: 57, Loss: 1.0792, Train: 69.83%, Valid: 69.22% Test: 68.54%\n",
      "Epoch: 58, Loss: 1.0770, Train: 69.86%, Valid: 69.27% Test: 68.59%\n",
      "Epoch: 59, Loss: 1.0741, Train: 69.95%, Valid: 69.31% Test: 68.64%\n",
      "Epoch: 60, Loss: 1.0699, Train: 70.05%, Valid: 69.35% Test: 68.58%\n",
      "Epoch: 61, Loss: 1.0696, Train: 70.09%, Valid: 69.35% Test: 68.60%\n",
      "Epoch: 62, Loss: 1.0662, Train: 70.18%, Valid: 69.33% Test: 68.48%\n",
      "Epoch: 63, Loss: 1.0611, Train: 70.20%, Valid: 69.36% Test: 68.23%\n",
      "Epoch: 64, Loss: 1.0620, Train: 70.27%, Valid: 69.26% Test: 68.11%\n",
      "Epoch: 65, Loss: 1.0597, Train: 70.37%, Valid: 69.22% Test: 68.07%\n",
      "Epoch: 66, Loss: 1.0564, Train: 70.46%, Valid: 69.25% Test: 68.07%\n",
      "Epoch: 67, Loss: 1.0541, Train: 70.54%, Valid: 69.25% Test: 68.04%\n",
      "Epoch: 68, Loss: 1.0507, Train: 70.57%, Valid: 69.28% Test: 68.01%\n",
      "Epoch: 69, Loss: 1.0459, Train: 70.66%, Valid: 69.34% Test: 67.98%\n",
      "Epoch: 70, Loss: 1.0477, Train: 70.71%, Valid: 69.41% Test: 68.03%\n",
      "Epoch: 71, Loss: 1.0439, Train: 70.77%, Valid: 69.52% Test: 68.20%\n",
      "Epoch: 72, Loss: 1.0409, Train: 70.88%, Valid: 69.65% Test: 68.44%\n",
      "Epoch: 73, Loss: 1.0418, Train: 70.95%, Valid: 69.68% Test: 68.63%\n",
      "Epoch: 74, Loss: 1.0421, Train: 71.01%, Valid: 69.73% Test: 68.72%\n",
      "Epoch: 75, Loss: 1.0369, Train: 71.07%, Valid: 69.72% Test: 68.71%\n",
      "Epoch: 76, Loss: 1.0322, Train: 71.10%, Valid: 69.76% Test: 68.67%\n",
      "Epoch: 77, Loss: 1.0319, Train: 71.15%, Valid: 69.79% Test: 68.84%\n",
      "Epoch: 78, Loss: 1.0303, Train: 71.22%, Valid: 69.88% Test: 69.03%\n",
      "Epoch: 79, Loss: 1.0268, Train: 71.26%, Valid: 69.94% Test: 69.15%\n",
      "Epoch: 80, Loss: 1.0246, Train: 71.31%, Valid: 69.93% Test: 69.13%\n",
      "Epoch: 81, Loss: 1.0221, Train: 71.32%, Valid: 69.92% Test: 69.07%\n",
      "Epoch: 82, Loss: 1.0187, Train: 71.34%, Valid: 69.86% Test: 68.90%\n",
      "Epoch: 83, Loss: 1.0153, Train: 71.39%, Valid: 69.88% Test: 68.97%\n",
      "Epoch: 84, Loss: 1.0158, Train: 71.47%, Valid: 70.00% Test: 69.10%\n",
      "Epoch: 85, Loss: 1.0156, Train: 71.54%, Valid: 70.02% Test: 69.18%\n",
      "Epoch: 86, Loss: 1.0122, Train: 71.59%, Valid: 69.98% Test: 69.07%\n",
      "Epoch: 87, Loss: 1.0087, Train: 71.66%, Valid: 69.87% Test: 68.84%\n",
      "Epoch: 88, Loss: 1.0095, Train: 71.68%, Valid: 69.86% Test: 69.00%\n",
      "Epoch: 89, Loss: 1.0097, Train: 71.67%, Valid: 69.91% Test: 69.08%\n",
      "Epoch: 90, Loss: 1.0057, Train: 71.68%, Valid: 69.87% Test: 69.14%\n",
      "Epoch: 91, Loss: 1.0011, Train: 71.75%, Valid: 69.91% Test: 69.15%\n",
      "Epoch: 92, Loss: 1.0020, Train: 71.80%, Valid: 69.86% Test: 69.06%\n",
      "Epoch: 93, Loss: 0.9977, Train: 71.85%, Valid: 69.85% Test: 68.98%\n",
      "Epoch: 94, Loss: 1.0004, Train: 71.87%, Valid: 69.88% Test: 68.99%\n",
      "Epoch: 95, Loss: 0.9978, Train: 71.93%, Valid: 69.95% Test: 69.04%\n",
      "Epoch: 96, Loss: 0.9969, Train: 72.02%, Valid: 70.05% Test: 69.15%\n",
      "Epoch: 97, Loss: 0.9936, Train: 72.09%, Valid: 70.08% Test: 69.20%\n",
      "Epoch: 98, Loss: 0.9924, Train: 72.16%, Valid: 70.13% Test: 69.18%\n",
      "Epoch: 99, Loss: 0.9903, Train: 72.17%, Valid: 70.09% Test: 69.14%\n",
      "Epoch: 100, Loss: 0.9910, Train: 72.20%, Valid: 70.09% Test: 69.02%\n",
      "Best model: Train: 72.16%, Valid: 70.13% Test: 69.18%\n"
     ]
    }
   ],
   "source": [
    "# Use the same parameters for a full-batch training\n",
    "args = {\n",
    "    'device': device,\n",
    "    'num_layers': 2,\n",
    "    'hidden_dim': 128,\n",
    "    'dropout': 0.5,\n",
    "    'lr': 0.01,\n",
    "    'epochs': 100,\n",
    "}\n",
    "\n",
    "all_model = SAGE(data.num_features, args['hidden_dim'],\n",
    "            dataset.num_classes, args['num_layers'],\n",
    "            args['dropout']).to(device)\n",
    "all_model.reset_parameters()\n",
    "\n",
    "optimizer = torch.optim.Adam(all_model.parameters(), lr=args['lr'])\n",
    "loss_fn = F.nll_loss\n",
    "\n",
    "best_all_model = None\n",
    "best_valid_acc = 0\n",
    "\n",
    "all_results = []\n",
    "\n",
    "for epoch in range(1, 1 + args[\"epochs\"]):\n",
    "    loss = train(all_model, data, train_loader, train_idx, optimizer, loss_fn, mode=\"all\")\n",
    "    result = test(all_model, data, all_loader, split_idx, evaluator, mode=\"all\")\n",
    "    all_results.append(result)\n",
    "    train_acc, valid_acc, test_acc = result\n",
    "    if valid_acc > best_valid_acc:\n",
    "        best_valid_acc = valid_acc\n",
    "        best_all_model = copy.deepcopy(all_model)\n",
    "    print(f'Epoch: {epoch:02d}, '\n",
    "          f'Loss: {loss:.4f}, '\n",
    "          f'Train: {100 * train_acc:.2f}%, '\n",
    "          f'Valid: {100 * valid_acc:.2f}% '\n",
    "          f'Test: {100 * test_acc:.2f}%')\n",
    "best_result = test(best_all_model, data, all_loader, split_idx, evaluator, mode=\"all\")\n",
    "train_acc, valid_acc, test_acc = best_result\n",
    "print(f'Best model: '\n",
    "      f'Train: {100 * train_acc:.2f}%, '\n",
    "      f'Valid: {100 * valid_acc:.2f}% '\n",
    "      f'Test: {100 * test_acc:.2f}%')"
   ]
  },
  {
   "cell_type": "markdown",
   "metadata": {
    "id": "NrECcOQQSZo1"
   },
   "source": [
    "## Visualization"
   ]
  },
  {
   "cell_type": "code",
   "execution_count": 9,
   "metadata": {
    "id": "sh_qvSG1SV63"
   },
   "outputs": [
    {
     "data": {
      "image/png": "[encoded data removed]",
      "text/plain": [
       "<Figure size 648x504 with 1 Axes>"
      ]
     },
     "metadata": {
      "needs_background": "light"
     },
     "output_type": "display_data"
    }
   ],
   "source": [
    "import numpy as np\n",
    "from matplotlib import pyplot as plt\n",
    "\n",
    "batch_results = np.array(batch_results)\n",
    "all_results = np.array(all_results)\n",
    "\n",
    "x = np.arange(1, 101)\n",
    "\n",
    "plt.figure(figsize=(9, 7))\n",
    "\n",
    "plt.plot(x, batch_results[:, 1], label=\"Batch Validation\")\n",
    "plt.plot(x, batch_results[:, 2], label=\"Batch Test\")\n",
    "plt.plot(x, all_results[:, 1], label=\"All Validation\")\n",
    "plt.plot(x, all_results[:, 2], label=\"All Test\")\n",
    "plt.title('Model Accuracy')\n",
    "plt.ylabel('Accuracy')\n",
    "plt.xlabel('Epoch')\n",
    "plt.legend()\n",
    "plt.show()"
   ]
  },
  {
   "cell_type": "markdown",
   "metadata": {
    "id": "WFb2OAvOSn_O"
   },
   "source": [
    "# 2 Neighbor Sampling with Different Ratios\n",
    "\n",
    "Now we will implement a simplified version of Neighbor Sampling by using DeepSNAP and NetworkX, and train models with different neighborhood sampling ratios.\n",
    "\n",
    "To make the experiments faster, we will use the Cora graph here."
   ]
  },
  {
   "cell_type": "markdown",
   "metadata": {
    "id": "P9U0F7bnSz9u"
   },
   "source": [
    "## Setup"
   ]
  },
  {
   "cell_type": "code",
   "execution_count": 11,
   "metadata": {
    "id": "PUF4on-fSxcq"
   },
   "outputs": [
    {
     "name": "stdout",
     "output_type": "stream",
     "text": [
      "Downloading https://github.com/kimiyoung/planetoid/raw/master/data/ind.cora.x\n",
      "Downloading https://github.com/kimiyoung/planetoid/raw/master/data/ind.cora.tx\n",
      "Downloading https://github.com/kimiyoung/planetoid/raw/master/data/ind.cora.allx\n",
      "Downloading https://github.com/kimiyoung/planetoid/raw/master/data/ind.cora.y\n",
      "Downloading https://github.com/kimiyoung/planetoid/raw/master/data/ind.cora.ty\n",
      "Downloading https://github.com/kimiyoung/planetoid/raw/master/data/ind.cora.ally\n",
      "Downloading https://github.com/kimiyoung/planetoid/raw/master/data/ind.cora.graph\n",
      "Downloading https://github.com/kimiyoung/planetoid/raw/master/data/ind.cora.test.index\n",
      "Processing...\n",
      "Done!\n"
     ]
    }
   ],
   "source": [
    "import copy\n",
    "import torch\n",
    "import random\n",
    "import numpy as np\n",
    "import networkx as nx\n",
    "import torch.nn as nn\n",
    "import torch.nn.functional as F\n",
    "\n",
    "from torch_geometric.nn import SAGEConv\n",
    "from torch.utils.data import DataLoader\n",
    "from torch_geometric.datasets import Planetoid\n",
    "from torch.nn import Sequential, Linear, ReLU\n",
    "from deepsnap.dataset import GraphDataset\n",
    "from deepsnap.graph import Graph\n",
    "\n",
    "pyg_dataset = Planetoid('./tmp', \"Cora\")"
   ]
  },
  {
   "cell_type": "markdown",
   "metadata": {
    "id": "qw6k-KdFTEYw"
   },
   "source": [
    "## GNN Model"
   ]
  },
  {
   "cell_type": "code",
   "execution_count": 12,
   "metadata": {
    "id": "PvUlNi2TS09i"
   },
   "outputs": [],
   "source": [
    "class GNN(torch.nn.Module):\n",
    "    def __init__(self, input_dim, hidden_dim, output_dim, args):\n",
    "        super(GNN, self).__init__()\n",
    "        self.dropout = args['dropout']\n",
    "        self.num_layers = args['num_layers']\n",
    "\n",
    "        self.convs = nn.ModuleList()\n",
    "        self.bns = nn.ModuleList()\n",
    "\n",
    "        self.convs.append(SAGEConv(input_dim, hidden_dim))\n",
    "        self.bns.append(nn.BatchNorm1d(hidden_dim))\n",
    "\n",
    "        for l in range(self.num_layers - 2):\n",
    "            self.convs.append(SAGEConv(hidden_dim, hidden_dim))\n",
    "            self.bns.append(nn.BatchNorm1d(hidden_dim))\n",
    "        self.convs.append(SAGEConv(hidden_dim, hidden_dim))\n",
    "\n",
    "        self.post_mp = nn.Linear(hidden_dim, output_dim)\n",
    "\n",
    "    def forward(self, data, mode=\"batch\"):\n",
    "        if mode == \"batch\":\n",
    "            edge_indices, x = data\n",
    "            for i in range(len(self.convs) - 1):\n",
    "                edge_index = edge_indices[i]\n",
    "                x = self.convs[i](x, edge_index)\n",
    "                x = self.bns[i](x)\n",
    "                x = F.relu(x)\n",
    "                x = F.dropout(x, p=self.dropout, training=self.training)\n",
    "            x = self.convs[-1](x, edge_indices[len(self.convs) - 1])\n",
    "        else:\n",
    "            x, edge_index = data.node_feature, data.edge_index\n",
    "            for i in range(len(self.convs) - 1):\n",
    "                x = self.convs[i](x, edge_index)\n",
    "                x = self.bns[i](x)\n",
    "                x = F.relu(x)\n",
    "                x = F.dropout(x, p=self.dropout, training=self.training)\n",
    "            x = self.convs[-1](x, edge_index)\n",
    "        x = self.post_mp(x)\n",
    "        x = F.log_softmax(x, dim=1)\n",
    "        return x"
   ]
  },
  {
   "cell_type": "markdown",
   "metadata": {
    "id": "Ulp1A3evcJ-I"
   },
   "source": [
    "## Neighbor Sampling\n",
    "\n",
    "Here we implement functions that will sample neighbors by using DeepSNAP and NetworkX.\n",
    "\n",
    "Notice that node classification task on Cora is a semi-supervised classification task, here we keep all the labeled training nodes (140 nodes) by setting the last ratio to 1."
   ]
  },
  {
   "cell_type": "code",
   "execution_count": 13,
   "metadata": {
    "id": "LI4qHkE4cQOh"
   },
   "outputs": [],
   "source": [
    "def sample_neighbors(nodes, G, ratio, all_nodes):\n",
    "    # This fuction takes a set of nodes, a NetworkX graph G and neighbor sampling ratio.\n",
    "    # It will return sampled neighbors (unioned with input nodes) and edges between \n",
    "    neighbors = set()\n",
    "    edges = []\n",
    "    for node in nodes:\n",
    "        neighbors_list = list(nx.neighbors(G, node))\n",
    "\n",
    "        # We only sample the (ratio * number of neighbors) neighbors\n",
    "        num = int(len(neighbors_list) * ratio)\n",
    "        if num > 0:\n",
    "            # Random shuffle the neighbors\n",
    "            random.shuffle(neighbors_list)\n",
    "            neighbors_list = neighbors_list[:num]\n",
    "            for neighbor in neighbors_list:\n",
    "                # Add neighbors\n",
    "                neighbors.add(neighbor)\n",
    "                edges.append((neighbor, node))\n",
    "    return neighbors, neighbors.union(all_nodes), edges\n",
    "\n",
    "def nodes_to_tensor(nodes):\n",
    "    # This function transform a set of nodes to node index tensor\n",
    "    node_label_index = torch.tensor(list(nodes), dtype=torch.long)\n",
    "    return node_label_index\n",
    "\n",
    "def edges_to_tensor(edges):\n",
    "    # This function transform a set of edges to edge index tensor\n",
    "    edge_index = torch.tensor(list(edges), dtype=torch.long)\n",
    "    edge_index = torch.cat([edge_index, torch.flip(edge_index, [1])], dim=0)\n",
    "    edge_index = edge_index.permute(1, 0)\n",
    "    return edge_index\n",
    "\n",
    "def relable(nodes, labeled_nodes, edges_list):\n",
    "    # Relable the nodes, labeled_nodes and edges_list\n",
    "    relabled_edges_list = []\n",
    "    sorted_nodes = sorted(nodes)\n",
    "    node_mapping = {node : i for i, node in enumerate(sorted_nodes)}\n",
    "    for orig_edges in edges_list:\n",
    "        relabeled_edges = []\n",
    "        for edge in orig_edges:\n",
    "            relabeled_edges.append((node_mapping[edge[0]], node_mapping[edge[1]]))\n",
    "        relabled_edges_list.append(relabeled_edges)\n",
    "    relabeled_labeled_nodes = [node_mapping[node] for node in labeled_nodes]\n",
    "    relabeled_nodes = [node_mapping[node] for node in nodes]\n",
    "    return relabled_edges_list, relabeled_nodes, relabeled_labeled_nodes\n",
    "\n",
    "def neighbor_sampling(graph, K=2, ratios=(0.1, 0.1, 0.1)):\n",
    "    # This function takes a DeepSNAP graph, K the number of GNN layers, and neighbor \n",
    "    # sampling ratios for each layer. This function returns relabeled node feature, \n",
    "    # edge indices and node_label_index\n",
    "\n",
    "    assert K + 1 == len(ratios)\n",
    "\n",
    "    labeled_nodes = graph.node_label_index.tolist()\n",
    "    random.shuffle(labeled_nodes)\n",
    "    num = int(len(labeled_nodes) * ratios[-1])\n",
    "    if num > 0:\n",
    "        labeled_nodes = labeled_nodes[:num]\n",
    "    nodes_list = [set(labeled_nodes)]\n",
    "    edges_list = []\n",
    "    all_nodes = labeled_nodes\n",
    "    for k in range(K):\n",
    "        # Get nodes and edges from the previous layer\n",
    "        nodes, all_nodes, edges = \\\n",
    "            sample_neighbors(nodes_list[-1], graph.G, ratios[len(ratios) - k - 2], all_nodes)\n",
    "        nodes_list.append(nodes)\n",
    "        edges_list.append(edges)\n",
    "    \n",
    "    # Reverse the lists\n",
    "    nodes_list.reverse()\n",
    "    edges_list.reverse()\n",
    "\n",
    "    relabled_edges_list, relabeled_all_nodes, relabeled_labeled_nodes = \\\n",
    "        relable(all_nodes, labeled_nodes, edges_list)\n",
    "\n",
    "    node_index = nodes_to_tensor(relabeled_all_nodes)\n",
    "    # All node features that will be used\n",
    "    node_feature = graph.node_feature[node_index]\n",
    "    edge_indices = [edges_to_tensor(edges) for edges in relabled_edges_list]\n",
    "    node_label_index = nodes_to_tensor(relabeled_labeled_nodes)\n",
    "    log = \"Sampled {} nodes, {} edges, {} labeled nodes\"\n",
    "    print(log.format(node_feature.shape[0], edge_indices[0].shape[1] // 2, node_label_index.shape[0]))\n",
    "    return node_feature, edge_indices, node_label_index"
   ]
  },
  {
   "cell_type": "markdown",
   "metadata": {
    "id": "ooy6Hcf7TIhI"
   },
   "source": [
    "## Training and Testing"
   ]
  },
  {
   "cell_type": "code",
   "execution_count": 14,
   "metadata": {
    "id": "iSmZhpzPTGPY"
   },
   "outputs": [],
   "source": [
    "def train(train_graphs, val_graphs, args, model, optimizer, mode=\"batch\"):\n",
    "    best_val = 0\n",
    "    best_model = None\n",
    "    accs = []\n",
    "    graph_train = train_graphs[0]\n",
    "    graph_train.to(args['device'])\n",
    "    for epoch in range(1, 1 + args['epochs']):\n",
    "        model.train()\n",
    "        optimizer.zero_grad()\n",
    "        if mode == \"batch\":\n",
    "            node_feature, edge_indices, node_label_index = neighbor_sampling(graph_train, args['num_layers'], args['ratios'])\n",
    "            node_feature = node_feature.to(args['device'])\n",
    "            node_label_index = node_label_index.to(args['device'])\n",
    "            for i in range(len(edge_indices)):\n",
    "                edge_indices[i] = edge_indices[i].to(args['device'])\n",
    "            pred = model([edge_indices, node_feature])\n",
    "            pred = pred[node_label_index]\n",
    "            label = graph_train.node_label[node_label_index]\n",
    "        elif mode == \"community\":\n",
    "            graph = random.choice(train_graphs)\n",
    "            graph = graph.to(args['device'])\n",
    "            pred = model(graph, mode=\"all\")\n",
    "            pred = pred[graph.node_label_index]\n",
    "            label = graph.node_label[graph.node_label_index]\n",
    "        else:\n",
    "            pred = model(graph_train, mode=\"all\")\n",
    "            label = graph_train.node_label\n",
    "            pred = pred[graph_train.node_label_index]\n",
    "        loss = F.nll_loss(pred, label)\n",
    "        loss.backward()\n",
    "        optimizer.step()\n",
    "\n",
    "        train_acc, val_acc, test_acc = test(val_graphs, model)\n",
    "        accs.append((train_acc, val_acc, test_acc))\n",
    "        if val_acc > best_val:\n",
    "            best_val = val_acc\n",
    "            best_model = copy.deepcopy(model)\n",
    "        print(f'Epoch: {epoch:02d}, '\n",
    "              f'Loss: {loss:.4f}, '\n",
    "              f'Train: {100 * train_acc:.2f}%, '\n",
    "              f'Valid: {100 * val_acc:.2f}% '\n",
    "              f'Test: {100 * test_acc:.2f}%')\n",
    "    return best_model, accs\n",
    "\n",
    "def test(graphs, model):\n",
    "    model.eval()\n",
    "    accs = []\n",
    "    for graph in graphs:\n",
    "        graph = graph.to(args['device'])\n",
    "        pred = model(graph, mode=\"all\")\n",
    "        label = graph.node_label\n",
    "        pred = pred[graph.node_label_index].max(1)[1]\n",
    "        acc = pred.eq(label).sum().item()\n",
    "        acc /= len(label)\n",
    "        accs.append(acc)\n",
    "    return accs"
   ]
  },
  {
   "cell_type": "code",
   "execution_count": 15,
   "metadata": {
    "id": "HV7i0v0ETKzf"
   },
   "outputs": [],
   "source": [
    "args = {\n",
    "    'device': torch.device('cuda' if torch.cuda.is_available() else 'cpu'),\n",
    "    'dropout': 0.5,\n",
    "    'num_layers': 2,\n",
    "    'hidden_size': 64,\n",
    "    'lr': 0.005,\n",
    "    'epochs': 50,\n",
    "    'ratios': (0.8, 0.8, 1),\n",
    "}"
   ]
  },
  {
   "cell_type": "markdown",
   "metadata": {
    "id": "rLpRYKbnTQnj"
   },
   "source": [
    "## Full-Batch Training"
   ]
  },
  {
   "cell_type": "code",
   "execution_count": 16,
   "metadata": {
    "id": "pMGGjbJBTOo1"
   },
   "outputs": [
    {
     "name": "stdout",
     "output_type": "stream",
     "text": [
      "Index fields: train_mask ignored.\n",
      "Index fields: val_mask ignored.\n",
      "Index fields: test_mask ignored.\n",
      "Epoch: 01, Loss: 1.9865, Train: 61.43%, Valid: 43.40% Test: 44.50%\n",
      "Epoch: 02, Loss: 1.1303, Train: 89.29%, Valid: 57.60% Test: 56.60%\n",
      "Epoch: 03, Loss: 0.6851, Train: 99.29%, Valid: 68.00% Test: 66.30%\n",
      "Epoch: 04, Loss: 0.3310, Train: 100.00%, Valid: 71.60% Test: 72.50%\n",
      "Epoch: 05, Loss: 0.1610, Train: 100.00%, Valid: 73.20% Test: 75.60%\n",
      "Epoch: 06, Loss: 0.0862, Train: 100.00%, Valid: 73.40% Test: 76.00%\n",
      "Epoch: 07, Loss: 0.0477, Train: 100.00%, Valid: 74.80% Test: 76.00%\n",
      "Epoch: 08, Loss: 0.0212, Train: 100.00%, Valid: 76.00% Test: 76.40%\n",
      "Epoch: 09, Loss: 0.0186, Train: 100.00%, Valid: 76.60% Test: 76.50%\n",
      "Epoch: 10, Loss: 0.0067, Train: 100.00%, Valid: 76.00% Test: 76.50%\n",
      "Epoch: 11, Loss: 0.0043, Train: 100.00%, Valid: 76.40% Test: 76.00%\n",
      "Epoch: 12, Loss: 0.0047, Train: 100.00%, Valid: 76.00% Test: 75.90%\n",
      "Epoch: 13, Loss: 0.0030, Train: 100.00%, Valid: 75.20% Test: 75.70%\n",
      "Epoch: 14, Loss: 0.0027, Train: 100.00%, Valid: 75.40% Test: 75.70%\n",
      "Epoch: 15, Loss: 0.0022, Train: 100.00%, Valid: 75.00% Test: 75.80%\n",
      "Epoch: 16, Loss: 0.0008, Train: 100.00%, Valid: 74.60% Test: 75.50%\n",
      "Epoch: 17, Loss: 0.0006, Train: 100.00%, Valid: 74.00% Test: 75.20%\n",
      "Epoch: 18, Loss: 0.0063, Train: 100.00%, Valid: 73.40% Test: 75.30%\n",
      "Epoch: 19, Loss: 0.0024, Train: 100.00%, Valid: 74.00% Test: 75.20%\n",
      "Epoch: 20, Loss: 0.0004, Train: 100.00%, Valid: 73.60% Test: 74.90%\n",
      "Epoch: 21, Loss: 0.0003, Train: 100.00%, Valid: 73.60% Test: 74.90%\n",
      "Epoch: 22, Loss: 0.0003, Train: 100.00%, Valid: 73.40% Test: 74.80%\n",
      "Epoch: 23, Loss: 0.0006, Train: 100.00%, Valid: 73.40% Test: 74.90%\n",
      "Epoch: 24, Loss: 0.0005, Train: 100.00%, Valid: 73.40% Test: 75.00%\n",
      "Epoch: 25, Loss: 0.0002, Train: 100.00%, Valid: 73.20% Test: 75.00%\n",
      "Epoch: 26, Loss: 0.0007, Train: 100.00%, Valid: 73.00% Test: 75.10%\n",
      "Epoch: 27, Loss: 0.0003, Train: 100.00%, Valid: 73.20% Test: 75.20%\n",
      "Epoch: 28, Loss: 0.0002, Train: 100.00%, Valid: 73.40% Test: 75.30%\n",
      "Epoch: 29, Loss: 0.0008, Train: 100.00%, Valid: 73.40% Test: 75.00%\n",
      "Epoch: 30, Loss: 0.0015, Train: 100.00%, Valid: 73.40% Test: 75.00%\n",
      "Epoch: 31, Loss: 0.0004, Train: 100.00%, Valid: 73.40% Test: 74.80%\n",
      "Epoch: 32, Loss: 0.0005, Train: 100.00%, Valid: 73.40% Test: 74.60%\n",
      "Epoch: 33, Loss: 0.0001, Train: 100.00%, Valid: 73.40% Test: 74.60%\n",
      "Epoch: 34, Loss: 0.0002, Train: 100.00%, Valid: 73.40% Test: 74.90%\n",
      "Epoch: 35, Loss: 0.0000, Train: 100.00%, Valid: 73.40% Test: 74.90%\n",
      "Epoch: 36, Loss: 0.0001, Train: 100.00%, Valid: 73.20% Test: 74.70%\n",
      "Epoch: 37, Loss: 0.0001, Train: 100.00%, Valid: 73.20% Test: 74.80%\n",
      "Epoch: 38, Loss: 0.0007, Train: 100.00%, Valid: 73.20% Test: 74.70%\n",
      "Epoch: 39, Loss: 0.0007, Train: 100.00%, Valid: 72.80% Test: 74.80%\n",
      "Epoch: 40, Loss: 0.0002, Train: 100.00%, Valid: 72.60% Test: 74.80%\n",
      "Epoch: 41, Loss: 0.0001, Train: 100.00%, Valid: 72.40% Test: 74.80%\n",
      "Epoch: 42, Loss: 0.0009, Train: 100.00%, Valid: 72.40% Test: 74.70%\n",
      "Epoch: 43, Loss: 0.0013, Train: 100.00%, Valid: 72.40% Test: 74.60%\n",
      "Epoch: 44, Loss: 0.0012, Train: 100.00%, Valid: 72.20% Test: 74.60%\n",
      "Epoch: 45, Loss: 0.0004, Train: 100.00%, Valid: 72.00% Test: 74.60%\n",
      "Epoch: 46, Loss: 0.0001, Train: 100.00%, Valid: 72.00% Test: 74.50%\n",
      "Epoch: 47, Loss: 0.0001, Train: 100.00%, Valid: 72.00% Test: 74.40%\n",
      "Epoch: 48, Loss: 0.0012, Train: 100.00%, Valid: 71.80% Test: 74.40%\n",
      "Epoch: 49, Loss: 0.0001, Train: 100.00%, Valid: 71.80% Test: 74.50%\n",
      "Epoch: 50, Loss: 0.0003, Train: 100.00%, Valid: 71.60% Test: 74.60%\n",
      "Best model: Train: 100.00%, Valid: 76.60% Test: 76.50%\n"
     ]
    }
   ],
   "source": [
    "graphs_train, graphs_val, graphs_test = \\\n",
    "    GraphDataset.pyg_to_graphs(pyg_dataset, verbose=True, fixed_split=True)\n",
    "\n",
    "graph_train = graphs_train[0]\n",
    "graph_val = graphs_val[0]\n",
    "graph_test = graphs_test[0]\n",
    "\n",
    "model = GNN(graph_train.num_node_features, args['hidden_size'], graph_train.num_node_labels, args).to(args['device'])\n",
    "optimizer = torch.optim.Adam(model.parameters(), lr=args['lr'])\n",
    "graphs = [graph_train, graph_val, graph_test]\n",
    "all_best_model, all_accs = train(graphs, graphs, args, model, optimizer, mode=\"all\")\n",
    "train_acc, val_acc, test_acc = test([graph_train, graph_val, graph_test], all_best_model)\n",
    "print('Best model:',\n",
    "      f'Train: {100 * train_acc:.2f}%, '\n",
    "      f'Valid: {100 * val_acc:.2f}% '\n",
    "      f'Test: {100 * test_acc:.2f}%')"
   ]
  },
  {
   "cell_type": "markdown",
   "metadata": {
    "id": "JWkGiwB6Thr4"
   },
   "source": [
    "## Sampling with Ratios 0.8"
   ]
  },
  {
   "cell_type": "code",
   "execution_count": 17,
   "metadata": {
    "id": "yWusJ9u3Tfhv"
   },
   "outputs": [
    {
     "name": "stdout",
     "output_type": "stream",
     "text": [
      "Index fields: train_mask ignored.\n",
      "Index fields: val_mask ignored.\n",
      "Index fields: test_mask ignored.\n",
      "Sampled 1311 nodes, 2003 edges, 140 labeled nodes\n",
      "Epoch: 01, Loss: 1.9893, Train: 33.57%, Valid: 15.60% Test: 15.20%\n",
      "Sampled 1336 nodes, 1992 edges, 140 labeled nodes\n",
      "Epoch: 02, Loss: 1.6141, Train: 45.71%, Valid: 16.20% Test: 17.90%\n",
      "Sampled 1316 nodes, 1980 edges, 140 labeled nodes\n",
      "Epoch: 03, Loss: 1.3573, Train: 62.86%, Valid: 21.00% Test: 22.60%\n",
      "Sampled 1298 nodes, 1945 edges, 140 labeled nodes\n",
      "Epoch: 04, Loss: 1.1177, Train: 80.00%, Valid: 25.00% Test: 29.30%\n",
      "Sampled 1325 nodes, 2022 edges, 140 labeled nodes\n",
      "Epoch: 05, Loss: 0.8591, Train: 87.14%, Valid: 28.00% Test: 34.30%\n",
      "Sampled 1340 nodes, 2003 edges, 140 labeled nodes\n",
      "Epoch: 06, Loss: 0.6936, Train: 91.43%, Valid: 32.20% Test: 37.70%\n",
      "Sampled 1323 nodes, 2004 edges, 140 labeled nodes\n",
      "Epoch: 07, Loss: 0.4858, Train: 93.57%, Valid: 35.00% Test: 41.50%\n",
      "Sampled 1305 nodes, 1959 edges, 140 labeled nodes\n",
      "Epoch: 08, Loss: 0.3857, Train: 95.00%, Valid: 36.60% Test: 44.30%\n",
      "Sampled 1273 nodes, 1881 edges, 140 labeled nodes\n",
      "Epoch: 09, Loss: 0.3342, Train: 95.00%, Valid: 38.80% Test: 47.20%\n",
      "Sampled 1333 nodes, 1969 edges, 140 labeled nodes\n",
      "Epoch: 10, Loss: 0.2201, Train: 97.14%, Valid: 41.00% Test: 48.50%\n",
      "Sampled 1266 nodes, 1909 edges, 140 labeled nodes\n",
      "Epoch: 11, Loss: 0.2029, Train: 97.86%, Valid: 43.00% Test: 50.00%\n",
      "Sampled 1295 nodes, 1917 edges, 140 labeled nodes\n",
      "Epoch: 12, Loss: 0.1486, Train: 98.57%, Valid: 43.20% Test: 50.10%\n",
      "Sampled 1355 nodes, 2049 edges, 140 labeled nodes\n",
      "Epoch: 13, Loss: 0.0951, Train: 99.29%, Valid: 44.80% Test: 51.00%\n",
      "Sampled 1320 nodes, 2007 edges, 140 labeled nodes\n",
      "Epoch: 14, Loss: 0.1023, Train: 99.29%, Valid: 47.00% Test: 51.90%\n",
      "Sampled 1311 nodes, 1978 edges, 140 labeled nodes\n",
      "Epoch: 15, Loss: 0.0725, Train: 99.29%, Valid: 48.20% Test: 52.50%\n",
      "Sampled 1364 nodes, 2029 edges, 140 labeled nodes\n",
      "Epoch: 16, Loss: 0.0747, Train: 99.29%, Valid: 47.60% Test: 53.00%\n",
      "Sampled 1320 nodes, 1997 edges, 140 labeled nodes\n",
      "Epoch: 17, Loss: 0.0487, Train: 100.00%, Valid: 48.00% Test: 53.30%\n",
      "Sampled 1289 nodes, 1981 edges, 140 labeled nodes\n",
      "Epoch: 18, Loss: 0.0712, Train: 100.00%, Valid: 47.60% Test: 53.00%\n",
      "Sampled 1354 nodes, 2043 edges, 140 labeled nodes\n",
      "Epoch: 19, Loss: 0.0298, Train: 100.00%, Valid: 47.40% Test: 53.10%\n",
      "Sampled 1287 nodes, 1946 edges, 140 labeled nodes\n",
      "Epoch: 20, Loss: 0.0407, Train: 100.00%, Valid: 49.00% Test: 53.50%\n",
      "Sampled 1342 nodes, 2023 edges, 140 labeled nodes\n",
      "Epoch: 21, Loss: 0.0190, Train: 100.00%, Valid: 50.60% Test: 54.10%\n",
      "Sampled 1335 nodes, 1972 edges, 140 labeled nodes\n",
      "Epoch: 22, Loss: 0.0464, Train: 100.00%, Valid: 50.60% Test: 53.90%\n",
      "Sampled 1335 nodes, 1979 edges, 140 labeled nodes\n",
      "Epoch: 23, Loss: 0.0226, Train: 100.00%, Valid: 50.80% Test: 54.10%\n",
      "Sampled 1319 nodes, 2024 edges, 140 labeled nodes\n",
      "Epoch: 24, Loss: 0.0122, Train: 100.00%, Valid: 50.40% Test: 53.70%\n",
      "Sampled 1290 nodes, 1910 edges, 140 labeled nodes\n",
      "Epoch: 25, Loss: 0.0431, Train: 100.00%, Valid: 51.00% Test: 53.80%\n",
      "Sampled 1309 nodes, 1978 edges, 140 labeled nodes\n",
      "Epoch: 26, Loss: 0.0428, Train: 100.00%, Valid: 50.80% Test: 53.30%\n",
      "Sampled 1301 nodes, 1999 edges, 140 labeled nodes\n",
      "Epoch: 27, Loss: 0.0107, Train: 100.00%, Valid: 50.00% Test: 52.60%\n",
      "Sampled 1348 nodes, 1986 edges, 140 labeled nodes\n",
      "Epoch: 28, Loss: 0.0275, Train: 100.00%, Valid: 49.80% Test: 52.60%\n",
      "Sampled 1296 nodes, 1991 edges, 140 labeled nodes\n",
      "Epoch: 29, Loss: 0.0297, Train: 100.00%, Valid: 50.60% Test: 52.40%\n",
      "Sampled 1349 nodes, 2008 edges, 140 labeled nodes\n",
      "Epoch: 30, Loss: 0.0154, Train: 100.00%, Valid: 50.40% Test: 52.00%\n",
      "Sampled 1301 nodes, 1951 edges, 140 labeled nodes\n",
      "Epoch: 31, Loss: 0.0077, Train: 100.00%, Valid: 50.80% Test: 51.70%\n",
      "Sampled 1299 nodes, 1982 edges, 140 labeled nodes\n",
      "Epoch: 32, Loss: 0.0077, Train: 100.00%, Valid: 50.80% Test: 51.70%\n",
      "Sampled 1335 nodes, 1985 edges, 140 labeled nodes\n",
      "Epoch: 33, Loss: 0.0086, Train: 100.00%, Valid: 50.00% Test: 51.50%\n",
      "Sampled 1305 nodes, 1935 edges, 140 labeled nodes\n",
      "Epoch: 34, Loss: 0.0025, Train: 100.00%, Valid: 50.00% Test: 51.70%\n",
      "Sampled 1323 nodes, 1965 edges, 140 labeled nodes\n",
      "Epoch: 35, Loss: 0.0100, Train: 100.00%, Valid: 50.20% Test: 51.50%\n",
      "Sampled 1289 nodes, 1962 edges, 140 labeled nodes\n",
      "Epoch: 36, Loss: 0.0233, Train: 100.00%, Valid: 50.60% Test: 51.70%\n",
      "Sampled 1323 nodes, 2037 edges, 140 labeled nodes\n",
      "Epoch: 37, Loss: 0.0095, Train: 100.00%, Valid: 50.80% Test: 51.70%\n",
      "Sampled 1294 nodes, 1914 edges, 140 labeled nodes\n",
      "Epoch: 38, Loss: 0.0132, Train: 100.00%, Valid: 50.60% Test: 51.80%\n",
      "Sampled 1279 nodes, 1969 edges, 140 labeled nodes\n",
      "Epoch: 39, Loss: 0.0033, Train: 100.00%, Valid: 50.20% Test: 51.60%\n",
      "Sampled 1322 nodes, 1976 edges, 140 labeled nodes\n",
      "Epoch: 40, Loss: 0.0070, Train: 100.00%, Valid: 50.20% Test: 51.60%\n",
      "Sampled 1333 nodes, 2021 edges, 140 labeled nodes\n",
      "Epoch: 41, Loss: 0.0399, Train: 100.00%, Valid: 49.80% Test: 52.00%\n",
      "Sampled 1305 nodes, 1980 edges, 140 labeled nodes\n",
      "Epoch: 42, Loss: 0.0010, Train: 100.00%, Valid: 48.80% Test: 51.70%\n",
      "Sampled 1341 nodes, 2037 edges, 140 labeled nodes\n",
      "Epoch: 43, Loss: 0.0010, Train: 100.00%, Valid: 48.00% Test: 51.40%\n",
      "Sampled 1286 nodes, 1888 edges, 140 labeled nodes\n",
      "Epoch: 44, Loss: 0.0033, Train: 100.00%, Valid: 47.80% Test: 51.20%\n",
      "Sampled 1331 nodes, 2005 edges, 140 labeled nodes\n",
      "Epoch: 45, Loss: 0.0049, Train: 100.00%, Valid: 47.40% Test: 51.40%\n",
      "Sampled 1272 nodes, 1905 edges, 140 labeled nodes\n",
      "Epoch: 46, Loss: 0.0136, Train: 100.00%, Valid: 47.20% Test: 51.40%\n",
      "Sampled 1279 nodes, 1939 edges, 140 labeled nodes\n",
      "Epoch: 47, Loss: 0.0048, Train: 100.00%, Valid: 47.20% Test: 51.40%\n",
      "Sampled 1339 nodes, 2022 edges, 140 labeled nodes\n",
      "Epoch: 48, Loss: 0.0219, Train: 100.00%, Valid: 46.80% Test: 51.50%\n",
      "Sampled 1303 nodes, 1993 edges, 140 labeled nodes\n",
      "Epoch: 49, Loss: 0.0074, Train: 100.00%, Valid: 47.00% Test: 51.90%\n",
      "Sampled 1317 nodes, 2014 edges, 140 labeled nodes\n",
      "Epoch: 50, Loss: 0.0615, Train: 100.00%, Valid: 46.80% Test: 51.90%\n",
      "Best model: Train: 100.00%, Valid: 51.00% Test: 53.80%\n"
     ]
    }
   ],
   "source": [
    "args['ratios'] = (0.8, 0.8, 1)\n",
    "\n",
    "graphs_train, graphs_val, graphs_test = \\\n",
    "    GraphDataset.pyg_to_graphs(pyg_dataset, verbose=True, fixed_split=True)\n",
    "\n",
    "graph_train = graphs_train[0]\n",
    "graph_val = graphs_val[0]\n",
    "graph_test = graphs_test[0]\n",
    "\n",
    "model = GNN(graph_train.num_node_features, args['hidden_size'], graph_train.num_node_labels, args).to(args['device'])\n",
    "optimizer = torch.optim.Adam(model.parameters(), lr=args['lr'])\n",
    "graphs = [graph_train, graph_val, graph_test]\n",
    "batch_best_model, batch_accs = train(graphs, graphs, args, model, optimizer)\n",
    "train_acc, val_acc, test_acc = test([graph_train, graph_val, graph_test], batch_best_model)\n",
    "print('Best model:',\n",
    "      f'Train: {100 * train_acc:.2f}%, '\n",
    "      f'Valid: {100 * val_acc:.2f}% '\n",
    "      f'Test: {100 * test_acc:.2f}%')"
   ]
  },
  {
   "cell_type": "markdown",
   "metadata": {
    "id": "w_FjkNHDT4c6"
   },
   "source": [
    "## Sampling with Ratios 0.3"
   ]
  },
  {
   "cell_type": "code",
   "execution_count": 18,
   "metadata": {
    "id": "booJ6DASTjO4"
   },
   "outputs": [
    {
     "name": "stdout",
     "output_type": "stream",
     "text": [
      "Index fields: train_mask ignored.\n",
      "Index fields: val_mask ignored.\n",
      "Index fields: test_mask ignored.\n",
      "Sampled 427 nodes, 240 edges, 140 labeled nodes\n",
      "Epoch: 01, Loss: 1.9996, Train: 25.71%, Valid: 13.20% Test: 14.10%\n",
      "Sampled 411 nodes, 232 edges, 140 labeled nodes\n",
      "Epoch: 02, Loss: 1.9265, Train: 26.43%, Valid: 15.80% Test: 16.80%\n",
      "Sampled 434 nodes, 244 edges, 140 labeled nodes\n",
      "Epoch: 03, Loss: 1.8520, Train: 19.29%, Valid: 11.00% Test: 12.60%\n",
      "Sampled 453 nodes, 264 edges, 140 labeled nodes\n",
      "Epoch: 04, Loss: 1.8276, Train: 20.71%, Valid: 11.20% Test: 11.80%\n",
      "Sampled 427 nodes, 248 edges, 140 labeled nodes\n",
      "Epoch: 05, Loss: 1.8179, Train: 26.43%, Valid: 12.40% Test: 12.50%\n",
      "Sampled 427 nodes, 229 edges, 140 labeled nodes\n",
      "Epoch: 06, Loss: 1.8471, Train: 32.86%, Valid: 13.60% Test: 14.20%\n",
      "Sampled 430 nodes, 253 edges, 140 labeled nodes\n",
      "Epoch: 07, Loss: 1.8052, Train: 37.14%, Valid: 16.00% Test: 16.40%\n",
      "Sampled 430 nodes, 252 edges, 140 labeled nodes\n",
      "Epoch: 08, Loss: 1.7224, Train: 42.86%, Valid: 19.00% Test: 18.10%\n",
      "Sampled 369 nodes, 166 edges, 140 labeled nodes\n",
      "Epoch: 09, Loss: 1.7641, Train: 45.71%, Valid: 21.40% Test: 20.40%\n",
      "Sampled 415 nodes, 231 edges, 140 labeled nodes\n",
      "Epoch: 10, Loss: 1.7170, Train: 45.00%, Valid: 25.00% Test: 22.90%\n",
      "Sampled 409 nodes, 231 edges, 140 labeled nodes\n",
      "Epoch: 11, Loss: 1.7018, Train: 45.00%, Valid: 26.20% Test: 25.10%\n",
      "Sampled 390 nodes, 205 edges, 140 labeled nodes\n",
      "Epoch: 12, Loss: 1.7811, Train: 46.43%, Valid: 28.00% Test: 26.10%\n",
      "Sampled 391 nodes, 192 edges, 140 labeled nodes\n",
      "Epoch: 13, Loss: 1.5551, Train: 49.29%, Valid: 29.40% Test: 28.30%\n",
      "Sampled 440 nodes, 256 edges, 140 labeled nodes\n",
      "Epoch: 14, Loss: 1.5972, Train: 51.43%, Valid: 29.60% Test: 29.50%\n",
      "Sampled 436 nodes, 254 edges, 140 labeled nodes\n",
      "Epoch: 15, Loss: 1.6006, Train: 51.43%, Valid: 30.60% Test: 31.30%\n",
      "Sampled 412 nodes, 220 edges, 140 labeled nodes\n",
      "Epoch: 16, Loss: 1.7771, Train: 52.14%, Valid: 30.40% Test: 31.90%\n",
      "Sampled 438 nodes, 257 edges, 140 labeled nodes\n",
      "Epoch: 17, Loss: 1.6191, Train: 53.57%, Valid: 31.00% Test: 32.30%\n",
      "Sampled 422 nodes, 225 edges, 140 labeled nodes\n",
      "Epoch: 18, Loss: 1.5630, Train: 54.29%, Valid: 31.80% Test: 33.60%\n",
      "Sampled 450 nodes, 290 edges, 140 labeled nodes\n",
      "Epoch: 19, Loss: 1.6552, Train: 55.71%, Valid: 32.40% Test: 34.10%\n",
      "Sampled 434 nodes, 253 edges, 140 labeled nodes\n",
      "Epoch: 20, Loss: 1.5536, Train: 57.86%, Valid: 33.00% Test: 34.80%\n",
      "Sampled 401 nodes, 217 edges, 140 labeled nodes\n",
      "Epoch: 21, Loss: 1.7423, Train: 59.29%, Valid: 33.60% Test: 34.60%\n",
      "Sampled 429 nodes, 231 edges, 140 labeled nodes\n",
      "Epoch: 22, Loss: 1.5938, Train: 59.29%, Valid: 34.00% Test: 35.00%\n",
      "Sampled 404 nodes, 214 edges, 140 labeled nodes\n",
      "Epoch: 23, Loss: 1.7465, Train: 60.71%, Valid: 34.80% Test: 35.60%\n",
      "Sampled 383 nodes, 201 edges, 140 labeled nodes\n",
      "Epoch: 24, Loss: 1.6243, Train: 60.71%, Valid: 35.00% Test: 36.10%\n",
      "Sampled 428 nodes, 245 edges, 140 labeled nodes\n",
      "Epoch: 25, Loss: 1.5679, Train: 59.29%, Valid: 35.40% Test: 36.20%\n",
      "Sampled 442 nodes, 259 edges, 140 labeled nodes\n",
      "Epoch: 26, Loss: 1.5501, Train: 60.00%, Valid: 35.80% Test: 36.00%\n",
      "Sampled 406 nodes, 230 edges, 140 labeled nodes\n",
      "Epoch: 27, Loss: 1.6347, Train: 60.00%, Valid: 35.60% Test: 35.20%\n",
      "Sampled 377 nodes, 172 edges, 140 labeled nodes\n",
      "Epoch: 28, Loss: 1.6545, Train: 60.00%, Valid: 36.40% Test: 35.50%\n",
      "Sampled 458 nodes, 279 edges, 140 labeled nodes\n",
      "Epoch: 29, Loss: 1.4993, Train: 62.14%, Valid: 36.00% Test: 35.80%\n",
      "Sampled 416 nodes, 244 edges, 140 labeled nodes\n",
      "Epoch: 30, Loss: 1.6608, Train: 62.86%, Valid: 36.00% Test: 36.80%\n",
      "Sampled 457 nodes, 282 edges, 140 labeled nodes\n",
      "Epoch: 31, Loss: 1.5539, Train: 63.57%, Valid: 36.20% Test: 36.60%\n",
      "Sampled 416 nodes, 225 edges, 140 labeled nodes\n",
      "Epoch: 32, Loss: 1.4289, Train: 62.86%, Valid: 36.60% Test: 36.80%\n",
      "Sampled 372 nodes, 193 edges, 140 labeled nodes\n",
      "Epoch: 33, Loss: 1.6100, Train: 61.43%, Valid: 36.20% Test: 37.20%\n",
      "Sampled 418 nodes, 243 edges, 140 labeled nodes\n",
      "Epoch: 34, Loss: 1.5190, Train: 62.14%, Valid: 36.60% Test: 37.80%\n",
      "Sampled 430 nodes, 240 edges, 140 labeled nodes\n",
      "Epoch: 35, Loss: 1.6525, Train: 60.71%, Valid: 37.20% Test: 38.10%\n",
      "Sampled 437 nodes, 259 edges, 140 labeled nodes\n",
      "Epoch: 36, Loss: 1.5878, Train: 61.43%, Valid: 37.40% Test: 38.20%\n",
      "Sampled 408 nodes, 220 edges, 140 labeled nodes\n",
      "Epoch: 37, Loss: 1.5678, Train: 60.00%, Valid: 37.60% Test: 37.80%\n",
      "Sampled 471 nodes, 304 edges, 140 labeled nodes\n",
      "Epoch: 38, Loss: 1.5623, Train: 60.00%, Valid: 37.80% Test: 38.40%\n",
      "Sampled 447 nodes, 259 edges, 140 labeled nodes\n",
      "Epoch: 39, Loss: 1.4477, Train: 60.00%, Valid: 37.40% Test: 38.10%\n",
      "Sampled 427 nodes, 239 edges, 140 labeled nodes\n",
      "Epoch: 40, Loss: 1.5212, Train: 60.00%, Valid: 38.00% Test: 38.10%\n",
      "Sampled 425 nodes, 246 edges, 140 labeled nodes\n",
      "Epoch: 41, Loss: 1.5543, Train: 62.14%, Valid: 37.00% Test: 37.50%\n",
      "Sampled 379 nodes, 176 edges, 140 labeled nodes\n",
      "Epoch: 42, Loss: 1.6248, Train: 62.14%, Valid: 37.40% Test: 37.90%\n",
      "Sampled 426 nodes, 267 edges, 140 labeled nodes\n",
      "Epoch: 43, Loss: 1.5405, Train: 61.43%, Valid: 37.00% Test: 37.50%\n",
      "Sampled 422 nodes, 227 edges, 140 labeled nodes\n",
      "Epoch: 44, Loss: 1.5408, Train: 63.57%, Valid: 37.00% Test: 37.90%\n",
      "Sampled 386 nodes, 201 edges, 140 labeled nodes\n",
      "Epoch: 45, Loss: 1.4529, Train: 63.57%, Valid: 36.60% Test: 37.80%\n",
      "Sampled 428 nodes, 239 edges, 140 labeled nodes\n",
      "Epoch: 46, Loss: 1.5331, Train: 62.86%, Valid: 36.40% Test: 39.00%\n",
      "Sampled 433 nodes, 254 edges, 140 labeled nodes\n",
      "Epoch: 47, Loss: 1.5187, Train: 62.14%, Valid: 37.20% Test: 39.90%\n",
      "Sampled 442 nodes, 259 edges, 140 labeled nodes\n",
      "Epoch: 48, Loss: 1.5259, Train: 63.57%, Valid: 37.80% Test: 40.70%\n",
      "Sampled 429 nodes, 254 edges, 140 labeled nodes\n",
      "Epoch: 49, Loss: 1.4826, Train: 62.86%, Valid: 37.60% Test: 41.00%\n",
      "Sampled 399 nodes, 218 edges, 140 labeled nodes\n",
      "Epoch: 50, Loss: 1.4594, Train: 62.86%, Valid: 37.80% Test: 40.90%\n",
      "Best model: Train: 60.00%, Valid: 38.00% Test: 38.10%\n"
     ]
    }
   ],
   "source": [
    "# Change the ratio to 0.3\n",
    "args['ratios'] = (0.3, 0.3, 1)\n",
    "\n",
    "graphs_train, graphs_val, graphs_test = \\\n",
    "    GraphDataset.pyg_to_graphs(pyg_dataset, verbose=True, fixed_split=True)\n",
    "\n",
    "graph_train = graphs_train[0]\n",
    "graph_val = graphs_val[0]\n",
    "graph_test = graphs_test[0]\n",
    "\n",
    "model = GNN(graph_train.num_node_features, args['hidden_size'], graph_train.num_node_labels, args).to(args['device'])\n",
    "optimizer = torch.optim.Adam(model.parameters(), lr=args['lr'])\n",
    "graphs = [graph_train, graph_val, graph_test]\n",
    "batch_best_model, batch_accs_1 = train(graphs, graphs, args, model, optimizer)\n",
    "train_acc, val_acc, test_acc = test([graph_train, graph_val, graph_test], batch_best_model)\n",
    "print('Best model:',\n",
    "      f'Train: {100 * train_acc:.2f}%, '\n",
    "      f'Valid: {100 * val_acc:.2f}% '\n",
    "      f'Test: {100 * test_acc:.2f}%')"
   ]
  },
  {
   "cell_type": "markdown",
   "metadata": {
    "id": "EePAvNlGUM2K"
   },
   "source": [
    "## Visualization"
   ]
  },
  {
   "cell_type": "code",
   "execution_count": 19,
   "metadata": {
    "id": "7etNAkXAT55d"
   },
   "outputs": [
    {
     "data": {
      "image/png": "[encoded data removed]",
      "text/plain": [
       "<Figure size 648x504 with 1 Axes>"
      ]
     },
     "metadata": {
      "needs_background": "light"
     },
     "output_type": "display_data"
    }
   ],
   "source": [
    "import numpy as np\n",
    "from matplotlib import pyplot as plt\n",
    "\n",
    "batch_results = np.array(batch_accs)\n",
    "batch_results_1 = np.array(batch_accs_1)\n",
    "all_results = np.array(all_accs)\n",
    "\n",
    "x = np.arange(1, 51)\n",
    "\n",
    "plt.figure(figsize=(9, 7))\n",
    "\n",
    "plt.plot(x, batch_results[:, 0], label=\"Batch 0.8 Train\")\n",
    "plt.plot(x, batch_results[:, 1], label=\"Batch 0.8 Validation\")\n",
    "plt.plot(x, batch_results[:, 2], label=\"Batch 0.8 Test\")\n",
    "plt.plot(x, batch_results_1[:, 0], label=\"Batch 0.3 Train\")\n",
    "plt.plot(x, batch_results_1[:, 1], label=\"Batch 0.3 Validation\")\n",
    "plt.plot(x, batch_results_1[:, 2], label=\"Batch 0.3 Test\")\n",
    "plt.plot(x, all_results[:, 0], label=\"All Train\")\n",
    "plt.plot(x, all_results[:, 1], label=\"All Validation\")\n",
    "plt.plot(x, all_results[:, 2], label=\"All Test\")\n",
    "plt.title('Model Accuracy')\n",
    "plt.ylabel('Accuracy')\n",
    "plt.xlabel('Epoch')\n",
    "plt.legend()\n",
    "plt.show()"
   ]
  },
  {
   "cell_type": "markdown",
   "metadata": {
    "id": "bkA7-0groq7q"
   },
   "source": [
    "Here all accuracies are evaluated on the full-batch mode."
   ]
  },
  {
   "cell_type": "markdown",
   "metadata": {
    "id": "Iee0U8KGURc8"
   },
   "source": [
    "# 3 Cluster Sampling\n",
    "\n",
    "Instead of the neighbor sampling, we can use another approach, subgraph (cluster) sampling, to scale up GNN. This approach is proposed in Cluster-GCN ([Chiang et al. (2019)](https://arxiv.org/abs/1905.07953)).\n",
    "\n",
    "In this section, we will implement vanilla Cluster-GCN and experiment with 3 different community partition algorithms.\n",
    "\n",
    "Notice that this section requires you have run the `Setup`, `GNN Model` and `Training and Testing` cells of the last section."
   ]
  },
  {
   "cell_type": "markdown",
   "metadata": {
    "id": "_BXjP79gUYir"
   },
   "source": [
    "## Setup"
   ]
  },
  {
   "cell_type": "code",
   "execution_count": 20,
   "metadata": {
    "id": "UGQ_VKp8UOEm"
   },
   "outputs": [],
   "source": [
    "import copy\n",
    "import torch\n",
    "import random\n",
    "import numpy as np\n",
    "import networkx as nx\n",
    "import torch.nn as nn\n",
    "import torch.nn.functional as F\n",
    "import community as community_louvain\n",
    "\n",
    "from torch_geometric.nn import SAGEConv\n",
    "from torch.utils.data import DataLoader\n",
    "from torch_geometric.datasets import Planetoid\n",
    "from torch.nn import Sequential, Linear, ReLU\n",
    "from deepsnap.dataset import GraphDataset\n",
    "from deepsnap.graph import Graph\n",
    "\n",
    "pyg_dataset = Planetoid('./tmp', \"Cora\")"
   ]
  },
  {
   "cell_type": "code",
   "execution_count": 21,
   "metadata": {
    "id": "bzMatyCSUaB6"
   },
   "outputs": [],
   "source": [
    "args = {\n",
    "    'device': torch.device('cuda' if torch.cuda.is_available() else 'cpu'),\n",
    "    'dropout': 0.5,\n",
    "    'num_layers': 2,\n",
    "    'hidden_size': 64,\n",
    "    'lr': 0.005,\n",
    "    'epochs': 150,\n",
    "}"
   ]
  },
  {
   "cell_type": "markdown",
   "metadata": {
    "id": "ekV-sokSUeLc"
   },
   "source": [
    "## Partition the Graph into Clusters\n",
    "\n",
    "Here we use following three community detection / partition algorithms to partition the graph into different clusters:\n",
    "* [Kernighan–Lin algorithm (bisection)](https://networkx.org/documentation/stable/reference/algorithms/generated/networkx.algorithms.community.kernighan_lin.kernighan_lin_bisection.html)\n",
    "* [Clauset-Newman-Moore greedy modularity maximization](https://networkx.org/documentation/stable/reference/algorithms/generated/networkx.algorithms.community.modularity_max.greedy_modularity_communities.html#networkx.algorithms.community.modularity_max.greedy_modularity_communities)\n",
    "* [Louvain algorithm](https://python-louvain.readthedocs.io/en/latest/api.html)\n",
    "\n",
    "\n",
    "To make the training more stable, we discard the cluster that has less than 10 nodes.\n",
    "\n",
    "Let's first define these algorithms as DeepSNAP transformation on a graph."
   ]
  },
  {
   "cell_type": "code",
   "execution_count": 22,
   "metadata": {
    "id": "N8XeT005UcKh"
   },
   "outputs": [],
   "source": [
    "def preprocess(G, node_label_index, method=\"louvain\"):\n",
    "    graphs = []\n",
    "    labeled_nodes = set(node_label_index.tolist())\n",
    "    if method == \"louvain\":\n",
    "        community_mapping = community_louvain.best_partition(G, resolution=10)\n",
    "        communities = {}\n",
    "        for node in community_mapping:\n",
    "            comm = community_mapping[node]\n",
    "            if comm in communities:\n",
    "                communities[comm].add(node)\n",
    "            else:\n",
    "                communities[comm] = set([node])\n",
    "        communities = communities.values()\n",
    "    elif method == \"bisection\":\n",
    "        communities = nx.algorithms.community.kernighan_lin_bisection(G)\n",
    "    elif method == \"greedy\":\n",
    "        communities = nx.algorithms.community.greedy_modularity_communities(G)\n",
    "\n",
    "    for community in communities:\n",
    "        nodes = set(community)\n",
    "        subgraph = G.subgraph(nodes)\n",
    "        # Make sure each subgraph has more than 10 nodes\n",
    "        if subgraph.number_of_nodes() > 10:\n",
    "            node_mapping = {node : i for i, node in enumerate(subgraph.nodes())}\n",
    "            subgraph = nx.relabel_nodes(subgraph, node_mapping)\n",
    "            # Get the id of the training set labeled node in the new graph\n",
    "            train_label_index = []\n",
    "            for node in labeled_nodes:\n",
    "                if node in node_mapping:\n",
    "                    # Append relabeled labeled node index\n",
    "                    train_label_index.append(node_mapping[node])\n",
    "\n",
    "            # Make sure the subgraph contains at least one training set labeled node\n",
    "            if len(train_label_index) > 0:\n",
    "                dg = Graph(subgraph)\n",
    "                # Update node_label_index\n",
    "                dg.node_label_index = torch.tensor(train_label_index, dtype=torch.long)\n",
    "                graphs.append(dg)\n",
    "    return graphs"
   ]
  },
  {
   "cell_type": "markdown",
   "metadata": {
    "id": "7CYEamCAU-TJ"
   },
   "source": [
    "## Louvain Preprocess"
   ]
  },
  {
   "cell_type": "code",
   "execution_count": 23,
   "metadata": {
    "id": "-TrC6ybWU7eO"
   },
   "outputs": [
    {
     "name": "stdout",
     "output_type": "stream",
     "text": [
      "Index fields: train_mask ignored.\n",
      "Index fields: val_mask ignored.\n",
      "Index fields: test_mask ignored.\n",
      "Partition the graph in to 4 communities\n",
      "Each community has 621 nodes in average\n",
      "Each community has 1230 edges in average\n"
     ]
    }
   ],
   "source": [
    "graphs_train, graphs_val, graphs_test = \\\n",
    "    GraphDataset.pyg_to_graphs(pyg_dataset, verbose=True, fixed_split=True)\n",
    "\n",
    "graph_train = graphs_train[0]\n",
    "graph_val = graphs_val[0]\n",
    "graph_test = graphs_test[0]\n",
    "graphs = preprocess(graph_train.G, graph_train.node_label_index, method=\"louvain\")\n",
    "print(\"Partition the graph in to {} communities\".format(len(graphs)))\n",
    "avg_num_nodes = 0\n",
    "avg_num_edges = 0\n",
    "for graph in graphs:\n",
    "    avg_num_nodes += graph.num_nodes\n",
    "    avg_num_edges += graph.num_edges\n",
    "avg_num_nodes = int(avg_num_nodes / len(graphs))\n",
    "avg_num_edges = int(avg_num_edges / len(graphs))\n",
    "print(\"Each community has {} nodes in average\".format(avg_num_nodes))\n",
    "print(\"Each community has {} edges in average\".format(avg_num_edges))"
   ]
  },
  {
   "cell_type": "markdown",
   "metadata": {
    "id": "O03uXIuGVIgJ"
   },
   "source": [
    "## Louvain Training"
   ]
  },
  {
   "cell_type": "code",
   "execution_count": 24,
   "metadata": {
    "id": "iSbGf5ADVFQq"
   },
   "outputs": [
    {
     "name": "stdout",
     "output_type": "stream",
     "text": [
      "Epoch: 01, Loss: 1.8882, Train: 14.29%, Valid: 15.60% Test: 14.40%\n",
      "Epoch: 02, Loss: 2.3751, Train: 14.29%, Valid: 15.60% Test: 14.40%\n",
      "Epoch: 03, Loss: 0.6225, Train: 19.29%, Valid: 15.60% Test: 14.90%\n",
      "Epoch: 04, Loss: 2.7198, Train: 24.29%, Valid: 18.20% Test: 17.10%\n",
      "Epoch: 05, Loss: 0.8379, Train: 29.29%, Valid: 22.20% Test: 19.70%\n",
      "Epoch: 06, Loss: 0.2804, Train: 32.14%, Valid: 24.60% Test: 21.60%\n",
      "Epoch: 07, Loss: 0.3412, Train: 35.00%, Valid: 25.80% Test: 22.60%\n",
      "Epoch: 08, Loss: 2.4342, Train: 43.57%, Valid: 26.60% Test: 24.00%\n",
      "Epoch: 09, Loss: 0.2218, Train: 47.86%, Valid: 26.60% Test: 25.30%\n",
      "Epoch: 10, Loss: 1.6496, Train: 58.57%, Valid: 28.40% Test: 27.00%\n",
      "Epoch: 11, Loss: 1.1245, Train: 72.86%, Valid: 26.00% Test: 26.80%\n",
      "Epoch: 12, Loss: 0.5927, Train: 70.71%, Valid: 19.20% Test: 21.10%\n",
      "Epoch: 13, Loss: 0.1607, Train: 69.29%, Valid: 15.80% Test: 18.70%\n",
      "Epoch: 14, Loss: 0.0970, Train: 70.00%, Valid: 12.80% Test: 16.90%\n",
      "Epoch: 15, Loss: 0.8847, Train: 74.29%, Valid: 13.80% Test: 16.80%\n",
      "Epoch: 16, Loss: 0.1734, Train: 80.71%, Valid: 15.20% Test: 18.30%\n",
      "Epoch: 17, Loss: 0.6504, Train: 85.71%, Valid: 17.00% Test: 20.80%\n",
      "Epoch: 18, Loss: 0.0285, Train: 87.86%, Valid: 19.20% Test: 23.40%\n",
      "Epoch: 19, Loss: 0.4408, Train: 92.14%, Valid: 22.20% Test: 27.50%\n",
      "Epoch: 20, Loss: 0.1050, Train: 93.57%, Valid: 22.00% Test: 25.80%\n",
      "Epoch: 21, Loss: 0.2752, Train: 95.00%, Valid: 23.80% Test: 30.20%\n",
      "Epoch: 22, Loss: 0.1278, Train: 94.29%, Valid: 24.20% Test: 28.30%\n",
      "Epoch: 23, Loss: 0.0236, Train: 94.29%, Valid: 25.20% Test: 30.60%\n",
      "Epoch: 24, Loss: 0.0188, Train: 94.29%, Valid: 24.00% Test: 28.30%\n",
      "Epoch: 25, Loss: 0.0009, Train: 94.29%, Valid: 25.40% Test: 30.10%\n",
      "Epoch: 26, Loss: 0.5999, Train: 96.43%, Valid: 28.00% Test: 32.70%\n",
      "Epoch: 27, Loss: 0.0804, Train: 97.14%, Valid: 31.60% Test: 36.20%\n",
      "Epoch: 28, Loss: 0.0674, Train: 97.14%, Valid: 29.20% Test: 33.60%\n",
      "Epoch: 29, Loss: 0.1665, Train: 97.14%, Valid: 32.20% Test: 36.80%\n",
      "Epoch: 30, Loss: 0.0795, Train: 96.43%, Valid: 35.80% Test: 39.60%\n",
      "Epoch: 31, Loss: 0.0626, Train: 96.43%, Valid: 39.80% Test: 42.00%\n",
      "Epoch: 32, Loss: 0.0122, Train: 96.43%, Valid: 36.20% Test: 38.60%\n",
      "Epoch: 33, Loss: 0.0119, Train: 96.43%, Valid: 39.20% Test: 41.20%\n",
      "Epoch: 34, Loss: 0.0003, Train: 96.43%, Valid: 40.40% Test: 43.10%\n",
      "Epoch: 35, Loss: 0.0086, Train: 95.71%, Valid: 42.60% Test: 45.40%\n",
      "Epoch: 36, Loss: 0.0322, Train: 95.71%, Valid: 44.20% Test: 47.40%\n",
      "Epoch: 37, Loss: 0.0001, Train: 95.71%, Valid: 44.80% Test: 48.20%\n",
      "Epoch: 38, Loss: 0.0519, Train: 95.71%, Valid: 47.00% Test: 49.80%\n",
      "Epoch: 39, Loss: 0.0113, Train: 95.71%, Valid: 47.40% Test: 50.30%\n",
      "Epoch: 40, Loss: 0.0333, Train: 95.00%, Valid: 47.40% Test: 50.50%\n",
      "Epoch: 41, Loss: 0.0005, Train: 94.29%, Valid: 47.60% Test: 50.40%\n",
      "Epoch: 42, Loss: 0.0075, Train: 95.71%, Valid: 45.40% Test: 48.50%\n",
      "Epoch: 43, Loss: 0.0206, Train: 95.71%, Valid: 47.20% Test: 49.70%\n",
      "Epoch: 44, Loss: 0.0065, Train: 95.71%, Valid: 44.20% Test: 47.10%\n",
      "Epoch: 45, Loss: 0.0274, Train: 95.71%, Valid: 44.80% Test: 48.20%\n",
      "Epoch: 46, Loss: 0.0055, Train: 95.71%, Valid: 45.80% Test: 49.60%\n",
      "Epoch: 47, Loss: 0.0040, Train: 95.71%, Valid: 43.40% Test: 46.50%\n",
      "Epoch: 48, Loss: 0.0078, Train: 96.43%, Valid: 40.00% Test: 43.60%\n",
      "Epoch: 49, Loss: 0.0206, Train: 95.71%, Valid: 41.80% Test: 45.20%\n",
      "Epoch: 50, Loss: 0.0006, Train: 95.71%, Valid: 44.20% Test: 47.50%\n",
      "Epoch: 51, Loss: 0.0177, Train: 95.71%, Valid: 45.40% Test: 48.70%\n",
      "Epoch: 52, Loss: 0.0003, Train: 95.71%, Valid: 45.40% Test: 49.00%\n",
      "Epoch: 53, Loss: 0.0003, Train: 95.71%, Valid: 46.40% Test: 49.80%\n",
      "Epoch: 54, Loss: 0.0002, Train: 93.57%, Valid: 48.00% Test: 50.10%\n",
      "Epoch: 55, Loss: 0.0005, Train: 92.86%, Valid: 47.60% Test: 50.30%\n",
      "Epoch: 56, Loss: 0.0004, Train: 92.86%, Valid: 48.40% Test: 51.10%\n",
      "Epoch: 57, Loss: 0.0064, Train: 92.86%, Valid: 49.60% Test: 52.20%\n",
      "Epoch: 58, Loss: 0.0013, Train: 92.86%, Valid: 50.00% Test: 52.60%\n",
      "Epoch: 59, Loss: 0.0288, Train: 95.00%, Valid: 47.00% Test: 49.70%\n",
      "Epoch: 60, Loss: 0.0626, Train: 95.71%, Valid: 44.20% Test: 47.20%\n",
      "Epoch: 61, Loss: 0.0292, Train: 95.71%, Valid: 44.80% Test: 48.10%\n",
      "Epoch: 62, Loss: 0.0137, Train: 95.71%, Valid: 45.20% Test: 48.80%\n",
      "Epoch: 63, Loss: 0.0007, Train: 95.71%, Valid: 43.00% Test: 45.60%\n",
      "Epoch: 64, Loss: 0.0034, Train: 95.71%, Valid: 39.00% Test: 42.60%\n",
      "Epoch: 65, Loss: 0.0116, Train: 95.71%, Valid: 40.20% Test: 43.80%\n",
      "Epoch: 66, Loss: 0.0058, Train: 95.71%, Valid: 42.60% Test: 45.20%\n",
      "Epoch: 67, Loss: 0.0080, Train: 95.71%, Valid: 43.40% Test: 46.50%\n",
      "Epoch: 68, Loss: 0.0002, Train: 95.71%, Valid: 39.20% Test: 43.90%\n",
      "Epoch: 69, Loss: 0.0003, Train: 96.43%, Valid: 37.40% Test: 40.00%\n",
      "Epoch: 70, Loss: 0.0068, Train: 95.71%, Valid: 38.40% Test: 42.40%\n",
      "Epoch: 71, Loss: 0.0096, Train: 95.71%, Valid: 39.80% Test: 44.10%\n",
      "Epoch: 72, Loss: 0.0012, Train: 95.71%, Valid: 41.40% Test: 44.60%\n",
      "Epoch: 73, Loss: 0.0044, Train: 95.71%, Valid: 43.00% Test: 46.00%\n",
      "Epoch: 74, Loss: 0.0004, Train: 95.71%, Valid: 38.80% Test: 43.20%\n",
      "Epoch: 75, Loss: 0.0026, Train: 95.71%, Valid: 41.00% Test: 44.90%\n",
      "Epoch: 76, Loss: 0.0001, Train: 95.71%, Valid: 37.60% Test: 41.50%\n",
      "Epoch: 77, Loss: 0.0004, Train: 95.71%, Valid: 39.20% Test: 44.10%\n",
      "Epoch: 78, Loss: 0.0010, Train: 95.71%, Valid: 41.40% Test: 45.50%\n",
      "Epoch: 79, Loss: 0.0046, Train: 95.71%, Valid: 43.60% Test: 46.90%\n",
      "Epoch: 80, Loss: 0.0002, Train: 95.71%, Valid: 44.00% Test: 46.90%\n",
      "Epoch: 81, Loss: 0.0010, Train: 95.71%, Valid: 44.40% Test: 48.00%\n",
      "Epoch: 82, Loss: 0.0051, Train: 95.00%, Valid: 45.40% Test: 48.90%\n",
      "Epoch: 83, Loss: 0.0022, Train: 95.00%, Valid: 46.00% Test: 49.40%\n",
      "Epoch: 84, Loss: 0.0009, Train: 95.00%, Valid: 46.40% Test: 49.30%\n",
      "Epoch: 85, Loss: 0.0022, Train: 93.57%, Valid: 46.80% Test: 50.20%\n",
      "Epoch: 86, Loss: 0.0010, Train: 92.86%, Valid: 47.80% Test: 50.60%\n",
      "Epoch: 87, Loss: 0.0046, Train: 92.86%, Valid: 48.20% Test: 51.80%\n",
      "Epoch: 88, Loss: 0.0025, Train: 92.86%, Valid: 48.60% Test: 52.10%\n",
      "Epoch: 89, Loss: 0.0004, Train: 95.00%, Valid: 45.40% Test: 49.20%\n",
      "Epoch: 90, Loss: 0.0087, Train: 95.00%, Valid: 46.40% Test: 49.60%\n",
      "Epoch: 91, Loss: 0.0023, Train: 95.00%, Valid: 46.80% Test: 50.30%\n",
      "Epoch: 92, Loss: 0.0016, Train: 92.86%, Valid: 47.00% Test: 50.60%\n",
      "Epoch: 93, Loss: 0.0001, Train: 92.86%, Valid: 48.00% Test: 51.00%\n",
      "Epoch: 94, Loss: 0.0006, Train: 92.86%, Valid: 47.40% Test: 51.30%\n",
      "Epoch: 95, Loss: 0.0001, Train: 95.00%, Valid: 45.40% Test: 48.20%\n",
      "Epoch: 96, Loss: 0.0041, Train: 93.57%, Valid: 45.80% Test: 49.30%\n",
      "Epoch: 97, Loss: 0.0019, Train: 92.86%, Valid: 46.80% Test: 50.00%\n",
      "Epoch: 98, Loss: 0.0023, Train: 95.71%, Valid: 43.80% Test: 47.20%\n",
      "Epoch: 99, Loss: 0.0014, Train: 95.71%, Valid: 45.00% Test: 48.20%\n",
      "Epoch: 100, Loss: 0.0000, Train: 95.00%, Valid: 45.20% Test: 48.90%\n",
      "Epoch: 101, Loss: 0.0003, Train: 93.57%, Valid: 46.20% Test: 49.30%\n",
      "Epoch: 102, Loss: 0.0026, Train: 93.57%, Valid: 46.60% Test: 49.80%\n",
      "Epoch: 103, Loss: 0.0065, Train: 92.86%, Valid: 46.80% Test: 50.40%\n",
      "Epoch: 104, Loss: 0.0023, Train: 92.86%, Valid: 47.80% Test: 51.20%\n",
      "Epoch: 105, Loss: 0.0004, Train: 92.86%, Valid: 48.80% Test: 52.50%\n",
      "Epoch: 106, Loss: 0.0017, Train: 92.86%, Valid: 49.00% Test: 52.80%\n",
      "Epoch: 107, Loss: 0.0001, Train: 92.86%, Valid: 49.40% Test: 52.80%\n",
      "Epoch: 108, Loss: 0.0049, Train: 92.86%, Valid: 49.20% Test: 52.50%\n",
      "Epoch: 109, Loss: 0.0046, Train: 92.86%, Valid: 49.40% Test: 52.90%\n",
      "Epoch: 110, Loss: 0.0000, Train: 92.86%, Valid: 49.20% Test: 53.00%\n",
      "Epoch: 111, Loss: 0.0002, Train: 92.86%, Valid: 46.60% Test: 50.00%\n",
      "Epoch: 112, Loss: 0.0002, Train: 95.71%, Valid: 44.20% Test: 47.20%\n",
      "Epoch: 113, Loss: 0.0043, Train: 95.71%, Valid: 45.00% Test: 48.50%\n",
      "Epoch: 114, Loss: 0.0052, Train: 95.00%, Valid: 46.00% Test: 49.70%\n",
      "Epoch: 115, Loss: 0.0002, Train: 95.71%, Valid: 43.00% Test: 46.40%\n",
      "Epoch: 116, Loss: 0.0003, Train: 95.71%, Valid: 44.00% Test: 47.60%\n",
      "Epoch: 117, Loss: 0.0036, Train: 95.71%, Valid: 44.80% Test: 49.20%\n",
      "Epoch: 118, Loss: 0.0004, Train: 95.00%, Valid: 46.00% Test: 49.40%\n",
      "Epoch: 119, Loss: 0.0030, Train: 93.57%, Valid: 46.80% Test: 50.20%\n",
      "Epoch: 120, Loss: 0.0007, Train: 95.71%, Valid: 44.40% Test: 47.20%\n",
      "Epoch: 121, Loss: 0.0050, Train: 95.71%, Valid: 45.00% Test: 48.90%\n",
      "Epoch: 122, Loss: 0.0004, Train: 95.71%, Valid: 42.20% Test: 45.90%\n"
     ]
    },
    {
     "name": "stdout",
     "output_type": "stream",
     "text": [
      "Epoch: 123, Loss: 0.0040, Train: 95.71%, Valid: 43.20% Test: 47.30%\n",
      "Epoch: 124, Loss: 0.0004, Train: 95.71%, Valid: 44.60% Test: 48.70%\n",
      "Epoch: 125, Loss: 0.0000, Train: 95.71%, Valid: 45.20% Test: 49.40%\n",
      "Epoch: 126, Loss: 0.0050, Train: 95.71%, Valid: 45.60% Test: 50.20%\n",
      "Epoch: 127, Loss: 0.0002, Train: 93.57%, Valid: 46.60% Test: 50.30%\n",
      "Epoch: 128, Loss: 0.0015, Train: 92.86%, Valid: 47.20% Test: 50.60%\n",
      "Epoch: 129, Loss: 0.0001, Train: 95.71%, Valid: 44.00% Test: 48.00%\n",
      "Epoch: 130, Loss: 0.0010, Train: 95.71%, Valid: 45.40% Test: 49.00%\n",
      "Epoch: 131, Loss: 0.0018, Train: 95.71%, Valid: 46.00% Test: 49.80%\n",
      "Epoch: 132, Loss: 0.0007, Train: 95.71%, Valid: 43.20% Test: 47.00%\n",
      "Epoch: 133, Loss: 0.0002, Train: 95.71%, Valid: 43.80% Test: 47.90%\n",
      "Epoch: 134, Loss: 0.0027, Train: 95.71%, Valid: 44.60% Test: 49.00%\n",
      "Epoch: 135, Loss: 0.0001, Train: 95.71%, Valid: 42.40% Test: 46.30%\n",
      "Epoch: 136, Loss: 0.0006, Train: 95.71%, Valid: 43.60% Test: 47.30%\n",
      "Epoch: 137, Loss: 0.0084, Train: 95.71%, Valid: 40.80% Test: 44.60%\n",
      "Epoch: 138, Loss: 0.0031, Train: 95.71%, Valid: 42.20% Test: 46.30%\n",
      "Epoch: 139, Loss: 0.0000, Train: 95.71%, Valid: 43.60% Test: 47.00%\n",
      "Epoch: 140, Loss: 0.0007, Train: 95.71%, Valid: 39.80% Test: 43.80%\n",
      "Epoch: 141, Loss: 0.0002, Train: 95.71%, Valid: 41.00% Test: 45.10%\n",
      "Epoch: 142, Loss: 0.0002, Train: 96.43%, Valid: 37.40% Test: 42.00%\n",
      "Epoch: 143, Loss: 0.0012, Train: 96.43%, Valid: 39.80% Test: 44.10%\n",
      "Epoch: 144, Loss: 0.0005, Train: 97.14%, Valid: 36.20% Test: 40.80%\n",
      "Epoch: 145, Loss: 0.0016, Train: 96.43%, Valid: 38.60% Test: 42.60%\n",
      "Epoch: 146, Loss: 0.0007, Train: 96.43%, Valid: 40.20% Test: 44.90%\n",
      "Epoch: 147, Loss: 0.0000, Train: 96.43%, Valid: 42.20% Test: 46.60%\n",
      "Epoch: 148, Loss: 0.0003, Train: 95.71%, Valid: 43.40% Test: 47.50%\n",
      "Epoch: 149, Loss: 0.0001, Train: 96.43%, Valid: 40.20% Test: 44.30%\n",
      "Epoch: 150, Loss: 0.0011, Train: 95.71%, Valid: 42.00% Test: 46.40%\n",
      "Best model: Train: 92.86%, Valid: 50.00% Test: 52.60%\n"
     ]
    }
   ],
   "source": [
    "model = GNN(graph_train.num_node_features, args['hidden_size'], graph_train.num_node_labels, args).to(args['device'])\n",
    "optimizer = torch.optim.Adam(model.parameters(), lr=args['lr'])\n",
    "louvain_best_model, louvain_accs = train(graphs, [graph_train, graph_val, graph_test], args, model, optimizer, mode=\"community\")\n",
    "train_acc, val_acc, test_acc = test([graph_train, graph_val, graph_test], louvain_best_model)\n",
    "print('Best model:',\n",
    "      f'Train: {100 * train_acc:.2f}%, '\n",
    "      f'Valid: {100 * val_acc:.2f}% '\n",
    "      f'Test: {100 * test_acc:.2f}%')"
   ]
  },
  {
   "cell_type": "markdown",
   "metadata": {
    "id": "6CvTf0ANVO9U"
   },
   "source": [
    "## Bisection Preprocess"
   ]
  },
  {
   "cell_type": "code",
   "execution_count": 25,
   "metadata": {
    "id": "HkV0zlhgVJ7u"
   },
   "outputs": [
    {
     "name": "stdout",
     "output_type": "stream",
     "text": [
      "Index fields: train_mask ignored.\n",
      "Index fields: val_mask ignored.\n",
      "Index fields: test_mask ignored.\n",
      "Partition the graph in to 2 communities\n",
      "Each community has 1354 nodes in average\n",
      "Each community has 1358 edges in average\n"
     ]
    }
   ],
   "source": [
    "graphs_train, graphs_val, graphs_test = \\\n",
    "    GraphDataset.pyg_to_graphs(pyg_dataset, verbose=True, fixed_split=True)\n",
    "\n",
    "graph_train = graphs_train[0]\n",
    "graph_val = graphs_val[0]\n",
    "graph_test = graphs_test[0]\n",
    "graphs = preprocess(graph_train.G, graph_train.node_label_index, method=\"bisection\")\n",
    "print(\"Partition the graph in to {} communities\".format(len(graphs)))\n",
    "avg_num_nodes = 0\n",
    "avg_num_edges = 0\n",
    "for graph in graphs:\n",
    "    avg_num_nodes += graph.num_nodes\n",
    "    avg_num_edges += graph.num_edges\n",
    "avg_num_nodes = int(avg_num_nodes / len(graphs))\n",
    "avg_num_edges = int(avg_num_edges / len(graphs))\n",
    "print(\"Each community has {} nodes in average\".format(avg_num_nodes))\n",
    "print(\"Each community has {} edges in average\".format(avg_num_edges))"
   ]
  },
  {
   "cell_type": "markdown",
   "metadata": {
    "id": "IqMCvP8wVVms"
   },
   "source": [
    "## Bisection Training"
   ]
  },
  {
   "cell_type": "code",
   "execution_count": 26,
   "metadata": {
    "id": "k1wgFg1bVRGY"
   },
   "outputs": [
    {
     "name": "stdout",
     "output_type": "stream",
     "text": [
      "Epoch: 01, Loss: 2.1183, Train: 21.43%, Valid: 33.20% Test: 33.20%\n",
      "Epoch: 02, Loss: 1.1667, Train: 35.71%, Valid: 35.00% Test: 35.30%\n",
      "Epoch: 03, Loss: 1.7756, Train: 62.86%, Valid: 45.00% Test: 43.50%\n",
      "Epoch: 04, Loss: 0.4423, Train: 84.29%, Valid: 54.20% Test: 55.40%\n",
      "Epoch: 05, Loss: 0.9130, Train: 94.29%, Valid: 63.40% Test: 64.80%\n",
      "Epoch: 06, Loss: 0.5546, Train: 97.86%, Valid: 70.80% Test: 70.50%\n",
      "Epoch: 07, Loss: 0.2131, Train: 97.86%, Valid: 74.40% Test: 73.60%\n",
      "Epoch: 08, Loss: 0.1627, Train: 98.57%, Valid: 74.60% Test: 74.20%\n",
      "Epoch: 09, Loss: 0.1902, Train: 100.00%, Valid: 73.80% Test: 74.90%\n",
      "Epoch: 10, Loss: 0.1180, Train: 100.00%, Valid: 73.60% Test: 75.10%\n",
      "Epoch: 11, Loss: 0.1523, Train: 100.00%, Valid: 73.00% Test: 75.30%\n",
      "Epoch: 12, Loss: 0.0897, Train: 100.00%, Valid: 72.80% Test: 74.70%\n",
      "Epoch: 13, Loss: 0.0537, Train: 100.00%, Valid: 72.40% Test: 74.90%\n",
      "Epoch: 14, Loss: 0.0493, Train: 100.00%, Valid: 71.40% Test: 74.80%\n",
      "Epoch: 15, Loss: 0.0690, Train: 100.00%, Valid: 71.00% Test: 74.80%\n",
      "Epoch: 16, Loss: 0.0440, Train: 100.00%, Valid: 71.00% Test: 74.60%\n",
      "Epoch: 17, Loss: 0.0306, Train: 100.00%, Valid: 71.00% Test: 74.50%\n",
      "Epoch: 18, Loss: 0.0336, Train: 100.00%, Valid: 71.00% Test: 74.10%\n",
      "Epoch: 19, Loss: 0.0343, Train: 100.00%, Valid: 71.00% Test: 73.80%\n",
      "Epoch: 20, Loss: 0.0251, Train: 100.00%, Valid: 70.00% Test: 73.70%\n",
      "Epoch: 21, Loss: 0.0132, Train: 100.00%, Valid: 70.00% Test: 73.30%\n",
      "Epoch: 22, Loss: 0.0054, Train: 100.00%, Valid: 70.00% Test: 73.20%\n",
      "Epoch: 23, Loss: 0.0250, Train: 100.00%, Valid: 69.60% Test: 72.70%\n",
      "Epoch: 24, Loss: 0.0029, Train: 100.00%, Valid: 69.60% Test: 72.60%\n",
      "Epoch: 25, Loss: 0.0266, Train: 100.00%, Valid: 68.60% Test: 72.50%\n",
      "Epoch: 26, Loss: 0.0219, Train: 100.00%, Valid: 68.20% Test: 72.40%\n",
      "Epoch: 27, Loss: 0.0207, Train: 100.00%, Valid: 67.80% Test: 72.50%\n",
      "Epoch: 28, Loss: 0.0140, Train: 100.00%, Valid: 67.60% Test: 72.40%\n",
      "Epoch: 29, Loss: 0.0136, Train: 100.00%, Valid: 67.40% Test: 72.60%\n",
      "Epoch: 30, Loss: 0.0043, Train: 100.00%, Valid: 67.60% Test: 72.50%\n",
      "Epoch: 31, Loss: 0.0059, Train: 100.00%, Valid: 67.40% Test: 72.20%\n",
      "Epoch: 32, Loss: 0.0039, Train: 100.00%, Valid: 67.60% Test: 72.00%\n",
      "Epoch: 33, Loss: 0.0008, Train: 100.00%, Valid: 67.80% Test: 71.70%\n",
      "Epoch: 34, Loss: 0.0025, Train: 100.00%, Valid: 68.00% Test: 71.80%\n",
      "Epoch: 35, Loss: 0.0069, Train: 100.00%, Valid: 67.80% Test: 71.50%\n",
      "Epoch: 36, Loss: 0.0081, Train: 100.00%, Valid: 67.80% Test: 71.70%\n",
      "Epoch: 37, Loss: 0.0029, Train: 100.00%, Valid: 67.80% Test: 71.60%\n",
      "Epoch: 38, Loss: 0.0311, Train: 100.00%, Valid: 67.40% Test: 71.80%\n",
      "Epoch: 39, Loss: 0.0054, Train: 100.00%, Valid: 67.40% Test: 72.00%\n",
      "Epoch: 40, Loss: 0.0004, Train: 100.00%, Valid: 67.40% Test: 71.90%\n",
      "Epoch: 41, Loss: 0.0008, Train: 100.00%, Valid: 67.40% Test: 71.90%\n",
      "Epoch: 42, Loss: 0.0007, Train: 100.00%, Valid: 67.40% Test: 71.80%\n",
      "Epoch: 43, Loss: 0.0077, Train: 100.00%, Valid: 67.80% Test: 71.80%\n",
      "Epoch: 44, Loss: 0.0053, Train: 100.00%, Valid: 67.80% Test: 71.60%\n",
      "Epoch: 45, Loss: 0.0009, Train: 100.00%, Valid: 68.00% Test: 71.50%\n",
      "Epoch: 46, Loss: 0.0024, Train: 100.00%, Valid: 68.00% Test: 71.50%\n",
      "Epoch: 47, Loss: 0.0086, Train: 100.00%, Valid: 68.00% Test: 71.60%\n",
      "Epoch: 48, Loss: 0.0001, Train: 100.00%, Valid: 68.20% Test: 71.70%\n",
      "Epoch: 49, Loss: 0.0036, Train: 100.00%, Valid: 68.00% Test: 71.60%\n",
      "Epoch: 50, Loss: 0.0005, Train: 100.00%, Valid: 68.20% Test: 71.40%\n",
      "Epoch: 51, Loss: 0.0002, Train: 100.00%, Valid: 68.20% Test: 71.20%\n",
      "Epoch: 52, Loss: 0.0003, Train: 100.00%, Valid: 68.20% Test: 71.20%\n",
      "Epoch: 53, Loss: 0.0025, Train: 100.00%, Valid: 67.80% Test: 71.10%\n",
      "Epoch: 54, Loss: 0.0004, Train: 100.00%, Valid: 67.80% Test: 71.10%\n",
      "Epoch: 55, Loss: 0.0009, Train: 100.00%, Valid: 67.80% Test: 71.10%\n",
      "Epoch: 56, Loss: 0.0007, Train: 100.00%, Valid: 68.20% Test: 71.00%\n",
      "Epoch: 57, Loss: 0.0007, Train: 100.00%, Valid: 67.80% Test: 70.80%\n",
      "Epoch: 58, Loss: 0.0013, Train: 100.00%, Valid: 67.80% Test: 70.90%\n",
      "Epoch: 59, Loss: 0.0025, Train: 100.00%, Valid: 67.80% Test: 70.90%\n",
      "Epoch: 60, Loss: 0.0002, Train: 100.00%, Valid: 68.20% Test: 70.80%\n",
      "Epoch: 61, Loss: 0.0028, Train: 100.00%, Valid: 67.80% Test: 70.50%\n",
      "Epoch: 62, Loss: 0.0046, Train: 100.00%, Valid: 67.80% Test: 70.10%\n",
      "Epoch: 63, Loss: 0.0010, Train: 100.00%, Valid: 67.80% Test: 70.40%\n",
      "Epoch: 64, Loss: 0.0003, Train: 100.00%, Valid: 67.80% Test: 70.40%\n",
      "Epoch: 65, Loss: 0.0002, Train: 100.00%, Valid: 67.80% Test: 70.30%\n",
      "Epoch: 66, Loss: 0.0002, Train: 100.00%, Valid: 67.80% Test: 70.10%\n",
      "Epoch: 67, Loss: 0.0045, Train: 100.00%, Valid: 67.60% Test: 70.00%\n",
      "Epoch: 68, Loss: 0.0005, Train: 100.00%, Valid: 67.20% Test: 70.20%\n",
      "Epoch: 69, Loss: 0.0004, Train: 100.00%, Valid: 67.00% Test: 70.10%\n",
      "Epoch: 70, Loss: 0.0004, Train: 100.00%, Valid: 67.20% Test: 70.00%\n",
      "Epoch: 71, Loss: 0.0001, Train: 100.00%, Valid: 67.00% Test: 70.10%\n",
      "Epoch: 72, Loss: 0.0013, Train: 100.00%, Valid: 67.00% Test: 70.20%\n",
      "Epoch: 73, Loss: 0.0003, Train: 100.00%, Valid: 67.00% Test: 69.90%\n",
      "Epoch: 74, Loss: 0.0007, Train: 100.00%, Valid: 66.80% Test: 70.10%\n",
      "Epoch: 75, Loss: 0.0007, Train: 100.00%, Valid: 66.80% Test: 70.00%\n",
      "Epoch: 76, Loss: 0.0003, Train: 100.00%, Valid: 66.60% Test: 69.90%\n",
      "Epoch: 77, Loss: 0.0006, Train: 100.00%, Valid: 66.60% Test: 70.00%\n",
      "Epoch: 78, Loss: 0.0188, Train: 100.00%, Valid: 66.80% Test: 70.10%\n",
      "Epoch: 79, Loss: 0.0065, Train: 100.00%, Valid: 66.60% Test: 70.30%\n",
      "Epoch: 80, Loss: 0.0003, Train: 100.00%, Valid: 66.20% Test: 70.40%\n",
      "Epoch: 81, Loss: 0.0014, Train: 100.00%, Valid: 66.40% Test: 70.40%\n",
      "Epoch: 82, Loss: 0.0003, Train: 100.00%, Valid: 66.40% Test: 70.30%\n",
      "Epoch: 83, Loss: 0.0045, Train: 100.00%, Valid: 66.60% Test: 69.90%\n",
      "Epoch: 84, Loss: 0.0019, Train: 100.00%, Valid: 65.80% Test: 70.00%\n",
      "Epoch: 85, Loss: 0.0008, Train: 100.00%, Valid: 66.00% Test: 70.00%\n",
      "Epoch: 86, Loss: 0.0003, Train: 100.00%, Valid: 66.00% Test: 69.90%\n",
      "Epoch: 87, Loss: 0.0013, Train: 100.00%, Valid: 65.60% Test: 69.90%\n",
      "Epoch: 88, Loss: 0.0009, Train: 100.00%, Valid: 66.20% Test: 69.70%\n",
      "Epoch: 89, Loss: 0.0007, Train: 100.00%, Valid: 65.60% Test: 69.70%\n",
      "Epoch: 90, Loss: 0.0066, Train: 100.00%, Valid: 65.60% Test: 69.80%\n",
      "Epoch: 91, Loss: 0.0018, Train: 100.00%, Valid: 65.40% Test: 70.00%\n",
      "Epoch: 92, Loss: 0.0002, Train: 100.00%, Valid: 65.20% Test: 69.80%\n",
      "Epoch: 93, Loss: 0.0019, Train: 100.00%, Valid: 65.60% Test: 69.90%\n",
      "Epoch: 94, Loss: 0.0030, Train: 100.00%, Valid: 65.40% Test: 69.90%\n",
      "Epoch: 95, Loss: 0.0024, Train: 100.00%, Valid: 65.40% Test: 69.90%\n",
      "Epoch: 96, Loss: 0.0127, Train: 100.00%, Valid: 65.40% Test: 69.90%\n",
      "Epoch: 97, Loss: 0.0088, Train: 100.00%, Valid: 65.40% Test: 69.80%\n",
      "Epoch: 98, Loss: 0.0194, Train: 100.00%, Valid: 65.80% Test: 69.90%\n",
      "Epoch: 99, Loss: 0.0013, Train: 100.00%, Valid: 65.60% Test: 70.00%\n",
      "Epoch: 100, Loss: 0.0004, Train: 100.00%, Valid: 65.60% Test: 70.00%\n",
      "Epoch: 101, Loss: 0.0002, Train: 100.00%, Valid: 65.80% Test: 70.00%\n",
      "Epoch: 102, Loss: 0.0003, Train: 100.00%, Valid: 65.80% Test: 70.20%\n",
      "Epoch: 103, Loss: 0.0001, Train: 100.00%, Valid: 66.00% Test: 70.20%\n",
      "Epoch: 104, Loss: 0.0094, Train: 100.00%, Valid: 65.40% Test: 70.00%\n",
      "Epoch: 105, Loss: 0.0007, Train: 100.00%, Valid: 65.60% Test: 69.70%\n",
      "Epoch: 106, Loss: 0.0009, Train: 100.00%, Valid: 65.60% Test: 69.50%\n",
      "Epoch: 107, Loss: 0.0012, Train: 100.00%, Valid: 65.60% Test: 69.40%\n",
      "Epoch: 108, Loss: 0.0022, Train: 100.00%, Valid: 65.60% Test: 69.40%\n",
      "Epoch: 109, Loss: 0.0002, Train: 100.00%, Valid: 66.20% Test: 69.60%\n",
      "Epoch: 110, Loss: 0.0004, Train: 100.00%, Valid: 66.20% Test: 69.60%\n",
      "Epoch: 111, Loss: 0.0030, Train: 100.00%, Valid: 66.40% Test: 69.70%\n",
      "Epoch: 112, Loss: 0.0005, Train: 100.00%, Valid: 66.20% Test: 69.40%\n",
      "Epoch: 113, Loss: 0.0013, Train: 100.00%, Valid: 66.40% Test: 69.30%\n",
      "Epoch: 114, Loss: 0.0001, Train: 100.00%, Valid: 66.40% Test: 69.40%\n",
      "Epoch: 115, Loss: 0.0002, Train: 100.00%, Valid: 67.00% Test: 69.40%\n",
      "Epoch: 116, Loss: 0.0002, Train: 100.00%, Valid: 67.00% Test: 69.40%\n",
      "Epoch: 117, Loss: 0.0172, Train: 100.00%, Valid: 66.20% Test: 69.40%\n",
      "Epoch: 118, Loss: 0.0058, Train: 100.00%, Valid: 65.40% Test: 69.30%\n",
      "Epoch: 119, Loss: 0.0003, Train: 100.00%, Valid: 65.20% Test: 69.20%\n",
      "Epoch: 120, Loss: 0.0006, Train: 100.00%, Valid: 64.80% Test: 68.70%\n",
      "Epoch: 121, Loss: 0.0037, Train: 100.00%, Valid: 63.40% Test: 68.10%\n"
     ]
    },
    {
     "name": "stdout",
     "output_type": "stream",
     "text": [
      "Epoch: 122, Loss: 0.0015, Train: 100.00%, Valid: 63.20% Test: 67.60%\n",
      "Epoch: 123, Loss: 0.0008, Train: 100.00%, Valid: 62.40% Test: 67.50%\n",
      "Epoch: 124, Loss: 0.0004, Train: 100.00%, Valid: 62.60% Test: 67.30%\n",
      "Epoch: 125, Loss: 0.0023, Train: 100.00%, Valid: 62.80% Test: 67.00%\n",
      "Epoch: 126, Loss: 0.0003, Train: 100.00%, Valid: 62.60% Test: 66.70%\n",
      "Epoch: 127, Loss: 0.0087, Train: 100.00%, Valid: 62.60% Test: 67.00%\n",
      "Epoch: 128, Loss: 0.0006, Train: 100.00%, Valid: 62.20% Test: 66.90%\n",
      "Epoch: 129, Loss: 0.0001, Train: 100.00%, Valid: 62.00% Test: 66.70%\n",
      "Epoch: 130, Loss: 0.0043, Train: 100.00%, Valid: 62.20% Test: 66.90%\n",
      "Epoch: 131, Loss: 0.0002, Train: 100.00%, Valid: 62.00% Test: 67.00%\n",
      "Epoch: 132, Loss: 0.0054, Train: 100.00%, Valid: 62.40% Test: 67.10%\n",
      "Epoch: 133, Loss: 0.0009, Train: 100.00%, Valid: 62.40% Test: 67.20%\n",
      "Epoch: 134, Loss: 0.0000, Train: 100.00%, Valid: 62.60% Test: 67.20%\n",
      "Epoch: 135, Loss: 0.0001, Train: 100.00%, Valid: 62.40% Test: 67.20%\n",
      "Epoch: 136, Loss: 0.0001, Train: 100.00%, Valid: 62.40% Test: 67.40%\n",
      "Epoch: 137, Loss: 0.0004, Train: 100.00%, Valid: 62.40% Test: 67.40%\n",
      "Epoch: 138, Loss: 0.0004, Train: 100.00%, Valid: 62.60% Test: 67.50%\n",
      "Epoch: 139, Loss: 0.0001, Train: 100.00%, Valid: 62.40% Test: 67.40%\n",
      "Epoch: 140, Loss: 0.0018, Train: 100.00%, Valid: 62.40% Test: 67.50%\n",
      "Epoch: 141, Loss: 0.0140, Train: 100.00%, Valid: 63.00% Test: 67.60%\n",
      "Epoch: 142, Loss: 0.0007, Train: 100.00%, Valid: 63.20% Test: 67.60%\n",
      "Epoch: 143, Loss: 0.0002, Train: 100.00%, Valid: 63.60% Test: 68.00%\n",
      "Epoch: 144, Loss: 0.0003, Train: 100.00%, Valid: 63.60% Test: 67.90%\n",
      "Epoch: 145, Loss: 0.0041, Train: 100.00%, Valid: 63.60% Test: 68.20%\n",
      "Epoch: 146, Loss: 0.0004, Train: 100.00%, Valid: 63.60% Test: 68.30%\n",
      "Epoch: 147, Loss: 0.0037, Train: 100.00%, Valid: 63.80% Test: 67.90%\n",
      "Epoch: 148, Loss: 0.0002, Train: 100.00%, Valid: 64.20% Test: 68.00%\n",
      "Epoch: 149, Loss: 0.0078, Train: 100.00%, Valid: 64.40% Test: 68.10%\n",
      "Epoch: 150, Loss: 0.0088, Train: 100.00%, Valid: 64.00% Test: 67.90%\n",
      "Best model: Train: 98.57%, Valid: 74.60% Test: 74.20%\n"
     ]
    }
   ],
   "source": [
    "model = GNN(graph_train.num_node_features, args['hidden_size'], graph_train.num_node_labels, args).to(args['device'])\n",
    "optimizer = torch.optim.Adam(model.parameters(), lr=args['lr'])\n",
    "bisection_best_model, bisection_accs = train(graphs, [graph_train, graph_val, graph_test], args, model, optimizer, mode=\"community\")\n",
    "train_acc, val_acc, test_acc = test([graph_train, graph_val, graph_test], bisection_best_model)\n",
    "print('Best model:',\n",
    "      f'Train: {100 * train_acc:.2f}%, '\n",
    "      f'Valid: {100 * val_acc:.2f}% '\n",
    "      f'Test: {100 * test_acc:.2f}%')"
   ]
  },
  {
   "cell_type": "markdown",
   "metadata": {
    "id": "5PROPwoOVcJy"
   },
   "source": [
    "## Greedy Preprocess"
   ]
  },
  {
   "cell_type": "code",
   "execution_count": 27,
   "metadata": {
    "id": "h3DVamWqVT92"
   },
   "outputs": [
    {
     "name": "stdout",
     "output_type": "stream",
     "text": [
      "Index fields: train_mask ignored.\n",
      "Index fields: val_mask ignored.\n",
      "Index fields: test_mask ignored.\n",
      "Partition the graph in to 20 communities\n",
      "Each community has 121 nodes in average\n",
      "Each community has 222 edges in average\n"
     ]
    }
   ],
   "source": [
    "graphs_train, graphs_val, graphs_test = \\\n",
    "    GraphDataset.pyg_to_graphs(pyg_dataset, verbose=True, fixed_split=True)\n",
    "\n",
    "graph_train = graphs_train[0]\n",
    "graph_val = graphs_val[0]\n",
    "graph_test = graphs_test[0]\n",
    "graphs = preprocess(graph_train.G, graph_train.node_label_index, method=\"greedy\")\n",
    "print(\"Partition the graph in to {} communities\".format(len(graphs)))\n",
    "avg_num_nodes = 0\n",
    "avg_num_edges = 0\n",
    "for graph in graphs:\n",
    "    avg_num_nodes += graph.num_nodes\n",
    "    avg_num_edges += graph.num_edges\n",
    "avg_num_nodes = int(avg_num_nodes / len(graphs))\n",
    "avg_num_edges = int(avg_num_edges / len(graphs))\n",
    "print(\"Each community has {} nodes in average\".format(avg_num_nodes))\n",
    "print(\"Each community has {} edges in average\".format(avg_num_edges))"
   ]
  },
  {
   "cell_type": "markdown",
   "metadata": {
    "id": "93pR_-kxVgma"
   },
   "source": [
    "## Greedy Training"
   ]
  },
  {
   "cell_type": "code",
   "execution_count": 28,
   "metadata": {
    "id": "lQgQY-jPVd_U"
   },
   "outputs": [
    {
     "name": "stdout",
     "output_type": "stream",
     "text": [
      "Epoch: 01, Loss: 2.0856, Train: 23.57%, Valid: 19.00% Test: 17.30%\n",
      "Epoch: 02, Loss: 2.0866, Train: 30.00%, Valid: 23.60% Test: 23.80%\n",
      "Epoch: 03, Loss: 1.2381, Train: 19.29%, Valid: 17.00% Test: 16.60%\n",
      "Epoch: 04, Loss: 1.5453, Train: 20.00%, Valid: 15.00% Test: 15.60%\n",
      "Epoch: 05, Loss: 2.9866, Train: 20.00%, Valid: 15.40% Test: 15.00%\n",
      "Epoch: 06, Loss: 2.6417, Train: 22.14%, Valid: 19.20% Test: 18.00%\n",
      "Epoch: 07, Loss: 3.8265, Train: 24.29%, Valid: 21.60% Test: 21.30%\n",
      "Epoch: 08, Loss: 2.5846, Train: 30.71%, Valid: 26.40% Test: 27.00%\n",
      "Epoch: 09, Loss: 2.2098, Train: 36.43%, Valid: 29.40% Test: 29.50%\n",
      "Epoch: 10, Loss: 0.2355, Train: 40.00%, Valid: 32.60% Test: 31.70%\n",
      "Epoch: 11, Loss: 1.0813, Train: 42.86%, Valid: 33.80% Test: 31.90%\n",
      "Epoch: 12, Loss: 1.4471, Train: 42.86%, Valid: 34.00% Test: 31.80%\n",
      "Epoch: 13, Loss: 2.2711, Train: 45.00%, Valid: 31.80% Test: 31.80%\n",
      "Epoch: 14, Loss: 0.9284, Train: 44.29%, Valid: 28.20% Test: 28.60%\n",
      "Epoch: 15, Loss: 2.1080, Train: 46.43%, Valid: 25.60% Test: 27.00%\n",
      "Epoch: 16, Loss: 1.8486, Train: 44.29%, Valid: 21.60% Test: 24.70%\n",
      "Epoch: 17, Loss: 2.9052, Train: 44.29%, Valid: 18.40% Test: 21.80%\n",
      "Epoch: 18, Loss: 3.0415, Train: 47.14%, Valid: 17.60% Test: 18.80%\n",
      "Epoch: 19, Loss: 2.5966, Train: 47.14%, Valid: 15.00% Test: 17.90%\n",
      "Epoch: 20, Loss: 0.4912, Train: 52.14%, Valid: 15.40% Test: 17.70%\n",
      "Epoch: 21, Loss: 0.5728, Train: 55.00%, Valid: 16.00% Test: 17.70%\n",
      "Epoch: 22, Loss: 0.2488, Train: 54.29%, Valid: 16.00% Test: 18.10%\n",
      "Epoch: 23, Loss: 2.2333, Train: 56.43%, Valid: 17.60% Test: 19.10%\n",
      "Epoch: 24, Loss: 1.6843, Train: 58.57%, Valid: 19.60% Test: 20.50%\n",
      "Epoch: 25, Loss: 0.6126, Train: 57.14%, Valid: 19.40% Test: 21.80%\n",
      "Epoch: 26, Loss: 1.4901, Train: 60.00%, Valid: 19.60% Test: 22.90%\n",
      "Epoch: 27, Loss: 1.9083, Train: 60.00%, Valid: 22.80% Test: 23.80%\n",
      "Epoch: 28, Loss: 0.3070, Train: 59.29%, Valid: 23.60% Test: 24.80%\n",
      "Epoch: 29, Loss: 0.2807, Train: 60.00%, Valid: 25.80% Test: 25.90%\n",
      "Epoch: 30, Loss: 0.5397, Train: 60.00%, Valid: 25.40% Test: 24.70%\n",
      "Epoch: 31, Loss: 0.8074, Train: 60.71%, Valid: 24.00% Test: 24.40%\n",
      "Epoch: 32, Loss: 1.2775, Train: 62.14%, Valid: 23.60% Test: 24.20%\n",
      "Epoch: 33, Loss: 0.0674, Train: 62.14%, Valid: 24.00% Test: 24.20%\n",
      "Epoch: 34, Loss: 0.1537, Train: 63.57%, Valid: 23.00% Test: 24.20%\n",
      "Epoch: 35, Loss: 3.5983, Train: 63.57%, Valid: 23.60% Test: 22.70%\n",
      "Epoch: 36, Loss: 1.9423, Train: 63.57%, Valid: 22.80% Test: 22.30%\n",
      "Epoch: 37, Loss: 0.9177, Train: 64.29%, Valid: 22.60% Test: 22.40%\n",
      "Epoch: 38, Loss: 0.7738, Train: 62.86%, Valid: 23.20% Test: 23.00%\n",
      "Epoch: 39, Loss: 0.3807, Train: 63.57%, Valid: 23.20% Test: 22.70%\n",
      "Epoch: 40, Loss: 0.0784, Train: 62.86%, Valid: 23.00% Test: 21.70%\n",
      "Epoch: 41, Loss: 0.1317, Train: 62.14%, Valid: 22.00% Test: 21.50%\n",
      "Epoch: 42, Loss: 0.4174, Train: 61.43%, Valid: 22.60% Test: 22.00%\n",
      "Epoch: 43, Loss: 0.2039, Train: 61.43%, Valid: 22.00% Test: 21.40%\n",
      "Epoch: 44, Loss: 0.0113, Train: 60.71%, Valid: 22.40% Test: 21.80%\n",
      "Epoch: 45, Loss: 0.1132, Train: 59.29%, Valid: 22.20% Test: 23.10%\n",
      "Epoch: 46, Loss: 0.0191, Train: 57.86%, Valid: 21.60% Test: 22.70%\n",
      "Epoch: 47, Loss: 0.3633, Train: 58.57%, Valid: 21.00% Test: 22.20%\n",
      "Epoch: 48, Loss: 1.3849, Train: 60.00%, Valid: 21.00% Test: 22.10%\n",
      "Epoch: 49, Loss: 1.2543, Train: 60.00%, Valid: 20.60% Test: 21.60%\n",
      "Epoch: 50, Loss: 1.0633, Train: 62.14%, Valid: 21.60% Test: 22.40%\n",
      "Epoch: 51, Loss: 0.0971, Train: 63.57%, Valid: 21.20% Test: 21.10%\n",
      "Epoch: 52, Loss: 0.0493, Train: 66.43%, Valid: 21.80% Test: 21.70%\n",
      "Epoch: 53, Loss: 0.0381, Train: 68.57%, Valid: 23.00% Test: 22.30%\n",
      "Epoch: 54, Loss: 0.1172, Train: 69.29%, Valid: 22.00% Test: 22.60%\n",
      "Epoch: 55, Loss: 1.2652, Train: 71.43%, Valid: 23.00% Test: 22.00%\n",
      "Epoch: 56, Loss: 1.1982, Train: 71.43%, Valid: 23.00% Test: 22.40%\n",
      "Epoch: 57, Loss: 0.5517, Train: 72.86%, Valid: 22.80% Test: 22.40%\n",
      "Epoch: 58, Loss: 0.6969, Train: 73.57%, Valid: 23.60% Test: 22.80%\n",
      "Epoch: 59, Loss: 0.0020, Train: 75.71%, Valid: 23.00% Test: 23.50%\n",
      "Epoch: 60, Loss: 0.0728, Train: 75.71%, Valid: 25.20% Test: 23.50%\n",
      "Epoch: 61, Loss: 0.2064, Train: 76.43%, Valid: 25.40% Test: 23.60%\n",
      "Epoch: 62, Loss: 2.8426, Train: 77.14%, Valid: 25.20% Test: 23.00%\n",
      "Epoch: 63, Loss: 2.8600, Train: 78.57%, Valid: 24.60% Test: 23.50%\n",
      "Epoch: 64, Loss: 0.0521, Train: 82.86%, Valid: 25.20% Test: 24.00%\n",
      "Epoch: 65, Loss: 0.0136, Train: 88.57%, Valid: 25.40% Test: 24.40%\n",
      "Epoch: 66, Loss: 0.0015, Train: 90.00%, Valid: 26.20% Test: 24.70%\n",
      "Epoch: 67, Loss: 0.0205, Train: 90.71%, Valid: 27.00% Test: 25.20%\n",
      "Epoch: 68, Loss: 0.0269, Train: 90.71%, Valid: 27.40% Test: 25.20%\n",
      "Epoch: 69, Loss: 0.0266, Train: 90.71%, Valid: 27.20% Test: 25.70%\n",
      "Epoch: 70, Loss: 0.0098, Train: 90.71%, Valid: 27.40% Test: 26.00%\n",
      "Epoch: 71, Loss: 0.3775, Train: 91.43%, Valid: 28.00% Test: 25.70%\n",
      "Epoch: 72, Loss: 0.1572, Train: 91.43%, Valid: 27.80% Test: 26.60%\n",
      "Epoch: 73, Loss: 0.0032, Train: 89.29%, Valid: 27.40% Test: 26.70%\n",
      "Epoch: 74, Loss: 0.3374, Train: 88.57%, Valid: 27.40% Test: 26.60%\n",
      "Epoch: 75, Loss: 0.2338, Train: 89.29%, Valid: 27.60% Test: 26.90%\n",
      "Epoch: 76, Loss: 0.1065, Train: 88.57%, Valid: 26.40% Test: 26.90%\n",
      "Epoch: 77, Loss: 0.2928, Train: 88.57%, Valid: 26.80% Test: 27.00%\n",
      "Epoch: 78, Loss: 0.2569, Train: 88.57%, Valid: 27.00% Test: 26.70%\n",
      "Epoch: 79, Loss: 0.3178, Train: 88.57%, Valid: 27.80% Test: 26.60%\n",
      "Epoch: 80, Loss: 0.3515, Train: 88.57%, Valid: 27.40% Test: 26.80%\n",
      "Epoch: 81, Loss: 0.0235, Train: 88.57%, Valid: 27.60% Test: 27.10%\n",
      "Epoch: 82, Loss: 0.0026, Train: 88.57%, Valid: 27.40% Test: 27.40%\n",
      "Epoch: 83, Loss: 0.2650, Train: 87.86%, Valid: 28.00% Test: 28.40%\n",
      "Epoch: 84, Loss: 0.0211, Train: 88.57%, Valid: 28.80% Test: 28.70%\n",
      "Epoch: 85, Loss: 0.0001, Train: 88.57%, Valid: 29.00% Test: 28.80%\n",
      "Epoch: 86, Loss: 0.2237, Train: 87.86%, Valid: 29.40% Test: 27.80%\n",
      "Epoch: 87, Loss: 0.6320, Train: 88.57%, Valid: 29.40% Test: 28.00%\n",
      "Epoch: 88, Loss: 0.2201, Train: 88.57%, Valid: 29.40% Test: 27.40%\n",
      "Epoch: 89, Loss: 0.0103, Train: 89.29%, Valid: 29.40% Test: 27.90%\n",
      "Epoch: 90, Loss: 0.0263, Train: 89.29%, Valid: 29.80% Test: 28.40%\n",
      "Epoch: 91, Loss: 0.1669, Train: 88.57%, Valid: 29.20% Test: 27.20%\n",
      "Epoch: 92, Loss: 0.3563, Train: 88.57%, Valid: 28.80% Test: 27.30%\n",
      "Epoch: 93, Loss: 0.0351, Train: 89.29%, Valid: 28.20% Test: 26.60%\n",
      "Epoch: 94, Loss: 0.0007, Train: 89.29%, Valid: 28.40% Test: 27.10%\n",
      "Epoch: 95, Loss: 0.0080, Train: 89.29%, Valid: 28.40% Test: 27.40%\n",
      "Epoch: 96, Loss: 0.0006, Train: 89.29%, Valid: 28.80% Test: 28.30%\n",
      "Epoch: 97, Loss: 0.0906, Train: 88.57%, Valid: 28.20% Test: 28.10%\n",
      "Epoch: 98, Loss: 0.0142, Train: 87.86%, Valid: 28.00% Test: 27.90%\n",
      "Epoch: 99, Loss: 0.0121, Train: 88.57%, Valid: 28.60% Test: 28.10%\n",
      "Epoch: 100, Loss: 0.0863, Train: 87.86%, Valid: 29.00% Test: 27.90%\n",
      "Epoch: 101, Loss: 0.0599, Train: 87.86%, Valid: 28.00% Test: 27.90%\n",
      "Epoch: 102, Loss: 0.0553, Train: 88.57%, Valid: 27.60% Test: 27.10%\n",
      "Epoch: 103, Loss: 0.0604, Train: 88.57%, Valid: 27.80% Test: 27.10%\n",
      "Epoch: 104, Loss: 0.0701, Train: 88.57%, Valid: 27.00% Test: 26.80%\n",
      "Epoch: 105, Loss: 0.0103, Train: 88.57%, Valid: 27.40% Test: 26.70%\n",
      "Epoch: 106, Loss: 0.0000, Train: 87.86%, Valid: 27.20% Test: 26.70%\n",
      "Epoch: 107, Loss: 0.0442, Train: 87.86%, Valid: 27.60% Test: 26.90%\n",
      "Epoch: 108, Loss: 0.0684, Train: 87.86%, Valid: 26.60% Test: 27.10%\n",
      "Epoch: 109, Loss: 0.2174, Train: 87.14%, Valid: 27.40% Test: 27.10%\n",
      "Epoch: 110, Loss: 0.1319, Train: 87.14%, Valid: 26.80% Test: 27.60%\n",
      "Epoch: 111, Loss: 0.2224, Train: 87.86%, Valid: 26.60% Test: 27.70%\n",
      "Epoch: 112, Loss: 0.0484, Train: 88.57%, Valid: 26.60% Test: 27.80%\n",
      "Epoch: 113, Loss: 0.0123, Train: 88.57%, Valid: 27.40% Test: 28.10%\n",
      "Epoch: 114, Loss: 0.0010, Train: 88.57%, Valid: 28.00% Test: 28.20%\n",
      "Epoch: 115, Loss: 0.0336, Train: 88.57%, Valid: 27.20% Test: 28.10%\n",
      "Epoch: 116, Loss: 0.0672, Train: 88.57%, Valid: 27.80% Test: 28.10%\n",
      "Epoch: 117, Loss: 0.0029, Train: 88.57%, Valid: 28.40% Test: 28.80%\n",
      "Epoch: 118, Loss: 0.0110, Train: 88.57%, Valid: 29.00% Test: 28.90%\n",
      "Epoch: 119, Loss: 0.1142, Train: 88.57%, Valid: 29.00% Test: 29.00%\n",
      "Epoch: 120, Loss: 0.0030, Train: 88.57%, Valid: 29.60% Test: 29.30%\n",
      "Epoch: 121, Loss: 0.0219, Train: 88.57%, Valid: 30.00% Test: 29.40%\n",
      "Epoch: 122, Loss: 0.0955, Train: 88.57%, Valid: 30.80% Test: 30.00%\n"
     ]
    },
    {
     "name": "stdout",
     "output_type": "stream",
     "text": [
      "Epoch: 123, Loss: 0.0519, Train: 88.57%, Valid: 30.60% Test: 29.80%\n",
      "Epoch: 124, Loss: 0.0283, Train: 89.29%, Valid: 31.20% Test: 29.60%\n",
      "Epoch: 125, Loss: 0.1582, Train: 88.57%, Valid: 31.00% Test: 29.20%\n",
      "Epoch: 126, Loss: 0.0683, Train: 88.57%, Valid: 30.60% Test: 29.20%\n",
      "Epoch: 127, Loss: 0.0309, Train: 88.57%, Valid: 30.00% Test: 28.80%\n",
      "Epoch: 128, Loss: 0.0411, Train: 88.57%, Valid: 29.60% Test: 29.00%\n",
      "Epoch: 129, Loss: 0.0005, Train: 89.29%, Valid: 29.60% Test: 29.10%\n",
      "Epoch: 130, Loss: 0.0183, Train: 90.00%, Valid: 29.80% Test: 29.20%\n",
      "Epoch: 131, Loss: 0.0903, Train: 89.29%, Valid: 29.60% Test: 29.50%\n",
      "Epoch: 132, Loss: 0.0517, Train: 89.29%, Valid: 29.20% Test: 29.60%\n",
      "Epoch: 133, Loss: 0.0356, Train: 90.71%, Valid: 29.20% Test: 29.00%\n",
      "Epoch: 134, Loss: 0.0011, Train: 90.00%, Valid: 28.40% Test: 28.70%\n",
      "Epoch: 135, Loss: 0.0002, Train: 88.57%, Valid: 28.80% Test: 29.00%\n",
      "Epoch: 136, Loss: 0.0008, Train: 89.29%, Valid: 29.00% Test: 29.30%\n",
      "Epoch: 137, Loss: 0.4071, Train: 90.00%, Valid: 29.00% Test: 29.40%\n",
      "Epoch: 138, Loss: 0.0004, Train: 90.00%, Valid: 29.20% Test: 28.90%\n",
      "Epoch: 139, Loss: 0.0001, Train: 90.00%, Valid: 28.40% Test: 28.50%\n",
      "Epoch: 140, Loss: 0.0043, Train: 90.71%, Valid: 28.20% Test: 28.80%\n",
      "Epoch: 141, Loss: 0.0011, Train: 90.71%, Valid: 27.80% Test: 29.00%\n",
      "Epoch: 142, Loss: 0.0915, Train: 91.43%, Valid: 28.00% Test: 28.90%\n",
      "Epoch: 143, Loss: 0.0001, Train: 90.00%, Valid: 28.60% Test: 29.40%\n",
      "Epoch: 144, Loss: 0.0313, Train: 90.71%, Valid: 28.60% Test: 29.40%\n",
      "Epoch: 145, Loss: 0.0000, Train: 90.00%, Valid: 29.00% Test: 29.70%\n",
      "Epoch: 146, Loss: 0.0281, Train: 91.43%, Valid: 28.40% Test: 29.40%\n",
      "Epoch: 147, Loss: 0.0003, Train: 91.43%, Valid: 28.40% Test: 29.40%\n",
      "Epoch: 148, Loss: 0.0053, Train: 90.71%, Valid: 28.40% Test: 29.50%\n",
      "Epoch: 149, Loss: 0.0440, Train: 90.71%, Valid: 28.60% Test: 29.30%\n",
      "Epoch: 150, Loss: 0.0035, Train: 91.43%, Valid: 28.60% Test: 29.40%\n",
      "Best model: Train: 42.86%, Valid: 34.00% Test: 31.80%\n"
     ]
    }
   ],
   "source": [
    "model = GNN(graph_train.num_node_features, args['hidden_size'], graph_train.num_node_labels, args).to(args['device'])\n",
    "optimizer = torch.optim.Adam(model.parameters(), lr=args['lr'])\n",
    "greedy_best_model, greedy_accs = train(graphs, [graph_train, graph_val, graph_test], args, model, optimizer, mode=\"community\")\n",
    "train_acc, val_acc, test_acc = test([graph_train, graph_val, graph_test], greedy_best_model)\n",
    "print('Best model:',\n",
    "      f'Train: {100 * train_acc:.2f}%, '\n",
    "      f'Valid: {100 * val_acc:.2f}% '\n",
    "      f'Test: {100 * test_acc:.2f}%')"
   ]
  },
  {
   "cell_type": "markdown",
   "metadata": {
    "id": "D5edKKT6Vk1C"
   },
   "source": [
    "## Full-Batch Training"
   ]
  },
  {
   "cell_type": "code",
   "execution_count": 29,
   "metadata": {
    "id": "N5tIXxC8ViFD"
   },
   "outputs": [
    {
     "name": "stdout",
     "output_type": "stream",
     "text": [
      "Index fields: train_mask ignored.\n",
      "Index fields: val_mask ignored.\n",
      "Index fields: test_mask ignored.\n",
      "Epoch: 01, Loss: 1.9664, Train: 42.14%, Valid: 41.20% Test: 42.40%\n",
      "Epoch: 02, Loss: 1.0886, Train: 78.57%, Valid: 47.60% Test: 48.70%\n",
      "Epoch: 03, Loss: 0.5815, Train: 97.14%, Valid: 56.60% Test: 57.90%\n",
      "Epoch: 04, Loss: 0.3035, Train: 99.29%, Valid: 65.60% Test: 65.50%\n",
      "Epoch: 05, Loss: 0.1337, Train: 100.00%, Valid: 69.80% Test: 70.70%\n",
      "Epoch: 06, Loss: 0.0801, Train: 100.00%, Valid: 72.40% Test: 73.90%\n",
      "Epoch: 07, Loss: 0.0518, Train: 100.00%, Valid: 73.00% Test: 76.50%\n",
      "Epoch: 08, Loss: 0.0196, Train: 100.00%, Valid: 74.00% Test: 76.70%\n",
      "Epoch: 09, Loss: 0.0085, Train: 100.00%, Valid: 75.80% Test: 76.60%\n",
      "Epoch: 10, Loss: 0.0091, Train: 100.00%, Valid: 76.00% Test: 76.90%\n",
      "Epoch: 11, Loss: 0.0045, Train: 100.00%, Valid: 76.00% Test: 77.00%\n",
      "Epoch: 12, Loss: 0.0024, Train: 100.00%, Valid: 75.80% Test: 76.90%\n",
      "Epoch: 13, Loss: 0.0047, Train: 100.00%, Valid: 75.20% Test: 77.00%\n",
      "Epoch: 14, Loss: 0.0016, Train: 100.00%, Valid: 75.60% Test: 76.90%\n",
      "Epoch: 15, Loss: 0.0029, Train: 100.00%, Valid: 75.80% Test: 76.90%\n",
      "Epoch: 16, Loss: 0.0009, Train: 100.00%, Valid: 75.60% Test: 76.80%\n",
      "Epoch: 17, Loss: 0.0014, Train: 100.00%, Valid: 75.80% Test: 77.00%\n",
      "Epoch: 18, Loss: 0.0003, Train: 100.00%, Valid: 75.20% Test: 76.80%\n",
      "Epoch: 19, Loss: 0.0008, Train: 100.00%, Valid: 74.40% Test: 76.80%\n",
      "Epoch: 20, Loss: 0.0008, Train: 100.00%, Valid: 74.20% Test: 76.80%\n",
      "Epoch: 21, Loss: 0.0001, Train: 100.00%, Valid: 74.40% Test: 76.90%\n",
      "Epoch: 22, Loss: 0.0010, Train: 100.00%, Valid: 74.40% Test: 76.60%\n",
      "Epoch: 23, Loss: 0.0001, Train: 100.00%, Valid: 74.40% Test: 76.50%\n",
      "Epoch: 24, Loss: 0.0004, Train: 100.00%, Valid: 74.40% Test: 76.10%\n",
      "Epoch: 25, Loss: 0.0003, Train: 100.00%, Valid: 74.40% Test: 76.10%\n",
      "Epoch: 26, Loss: 0.0000, Train: 100.00%, Valid: 74.40% Test: 76.00%\n",
      "Epoch: 27, Loss: 0.0002, Train: 100.00%, Valid: 74.40% Test: 76.00%\n",
      "Epoch: 28, Loss: 0.0002, Train: 100.00%, Valid: 74.00% Test: 76.10%\n",
      "Epoch: 29, Loss: 0.0000, Train: 100.00%, Valid: 74.00% Test: 76.00%\n",
      "Epoch: 30, Loss: 0.0014, Train: 100.00%, Valid: 73.80% Test: 75.90%\n",
      "Epoch: 31, Loss: 0.0001, Train: 100.00%, Valid: 73.60% Test: 76.00%\n",
      "Epoch: 32, Loss: 0.0010, Train: 100.00%, Valid: 73.60% Test: 76.00%\n",
      "Epoch: 33, Loss: 0.0001, Train: 100.00%, Valid: 73.40% Test: 75.80%\n",
      "Epoch: 34, Loss: 0.0001, Train: 100.00%, Valid: 73.20% Test: 76.00%\n",
      "Epoch: 35, Loss: 0.0000, Train: 100.00%, Valid: 73.20% Test: 76.00%\n",
      "Epoch: 36, Loss: 0.0001, Train: 100.00%, Valid: 73.20% Test: 76.00%\n",
      "Epoch: 37, Loss: 0.0002, Train: 100.00%, Valid: 73.20% Test: 76.00%\n",
      "Epoch: 38, Loss: 0.0001, Train: 100.00%, Valid: 73.20% Test: 76.00%\n",
      "Epoch: 39, Loss: 0.0000, Train: 100.00%, Valid: 73.20% Test: 76.00%\n",
      "Epoch: 40, Loss: 0.0000, Train: 100.00%, Valid: 73.20% Test: 76.00%\n",
      "Epoch: 41, Loss: 0.0001, Train: 100.00%, Valid: 73.20% Test: 76.00%\n",
      "Epoch: 42, Loss: 0.0000, Train: 100.00%, Valid: 73.20% Test: 76.00%\n",
      "Epoch: 43, Loss: 0.0001, Train: 100.00%, Valid: 73.20% Test: 76.10%\n",
      "Epoch: 44, Loss: 0.0002, Train: 100.00%, Valid: 73.20% Test: 76.10%\n",
      "Epoch: 45, Loss: 0.0000, Train: 100.00%, Valid: 73.20% Test: 76.20%\n",
      "Epoch: 46, Loss: 0.0000, Train: 100.00%, Valid: 73.20% Test: 76.30%\n",
      "Epoch: 47, Loss: 0.0000, Train: 100.00%, Valid: 73.40% Test: 76.30%\n",
      "Epoch: 48, Loss: 0.0000, Train: 100.00%, Valid: 73.40% Test: 76.30%\n",
      "Epoch: 49, Loss: 0.0001, Train: 100.00%, Valid: 73.40% Test: 76.40%\n",
      "Epoch: 50, Loss: 0.0000, Train: 100.00%, Valid: 73.20% Test: 76.40%\n",
      "Epoch: 51, Loss: 0.0000, Train: 100.00%, Valid: 73.20% Test: 76.40%\n",
      "Epoch: 52, Loss: 0.0000, Train: 100.00%, Valid: 73.20% Test: 76.40%\n",
      "Epoch: 53, Loss: 0.0000, Train: 100.00%, Valid: 73.20% Test: 76.50%\n",
      "Epoch: 54, Loss: 0.0000, Train: 100.00%, Valid: 73.20% Test: 76.50%\n",
      "Epoch: 55, Loss: 0.0000, Train: 100.00%, Valid: 73.20% Test: 76.50%\n",
      "Epoch: 56, Loss: 0.0001, Train: 100.00%, Valid: 73.20% Test: 76.50%\n",
      "Epoch: 57, Loss: 0.0001, Train: 100.00%, Valid: 73.20% Test: 76.50%\n",
      "Epoch: 58, Loss: 0.0000, Train: 100.00%, Valid: 73.20% Test: 76.50%\n",
      "Epoch: 59, Loss: 0.0001, Train: 100.00%, Valid: 73.20% Test: 76.60%\n",
      "Epoch: 60, Loss: 0.0001, Train: 100.00%, Valid: 73.20% Test: 76.60%\n",
      "Epoch: 61, Loss: 0.0002, Train: 100.00%, Valid: 73.20% Test: 76.50%\n",
      "Epoch: 62, Loss: 0.0001, Train: 100.00%, Valid: 73.20% Test: 76.50%\n",
      "Epoch: 63, Loss: 0.0000, Train: 100.00%, Valid: 73.20% Test: 76.50%\n",
      "Epoch: 64, Loss: 0.0000, Train: 100.00%, Valid: 73.20% Test: 76.50%\n",
      "Epoch: 65, Loss: 0.0000, Train: 100.00%, Valid: 73.20% Test: 76.50%\n",
      "Epoch: 66, Loss: 0.0000, Train: 100.00%, Valid: 73.00% Test: 76.50%\n",
      "Epoch: 67, Loss: 0.0000, Train: 100.00%, Valid: 73.00% Test: 76.50%\n",
      "Epoch: 68, Loss: 0.0000, Train: 100.00%, Valid: 73.00% Test: 76.50%\n",
      "Epoch: 69, Loss: 0.0000, Train: 100.00%, Valid: 73.00% Test: 76.60%\n",
      "Epoch: 70, Loss: 0.0001, Train: 100.00%, Valid: 73.00% Test: 76.60%\n",
      "Epoch: 71, Loss: 0.0000, Train: 100.00%, Valid: 73.00% Test: 76.60%\n",
      "Epoch: 72, Loss: 0.0000, Train: 100.00%, Valid: 73.00% Test: 76.60%\n",
      "Epoch: 73, Loss: 0.0015, Train: 100.00%, Valid: 73.00% Test: 76.50%\n",
      "Epoch: 74, Loss: 0.0000, Train: 100.00%, Valid: 73.00% Test: 76.60%\n",
      "Epoch: 75, Loss: 0.0000, Train: 100.00%, Valid: 73.20% Test: 76.60%\n",
      "Epoch: 76, Loss: 0.0001, Train: 100.00%, Valid: 73.20% Test: 76.70%\n",
      "Epoch: 77, Loss: 0.0000, Train: 100.00%, Valid: 73.40% Test: 76.60%\n",
      "Epoch: 78, Loss: 0.0000, Train: 100.00%, Valid: 73.40% Test: 76.60%\n",
      "Epoch: 79, Loss: 0.0000, Train: 100.00%, Valid: 73.40% Test: 76.60%\n",
      "Epoch: 80, Loss: 0.0001, Train: 100.00%, Valid: 73.40% Test: 76.70%\n",
      "Epoch: 81, Loss: 0.0000, Train: 100.00%, Valid: 73.00% Test: 76.70%\n",
      "Epoch: 82, Loss: 0.0000, Train: 100.00%, Valid: 72.80% Test: 76.70%\n",
      "Epoch: 83, Loss: 0.0000, Train: 100.00%, Valid: 72.80% Test: 76.70%\n",
      "Epoch: 84, Loss: 0.0000, Train: 100.00%, Valid: 72.80% Test: 76.80%\n",
      "Epoch: 85, Loss: 0.0000, Train: 100.00%, Valid: 72.80% Test: 76.90%\n",
      "Epoch: 86, Loss: 0.0021, Train: 100.00%, Valid: 73.20% Test: 76.90%\n",
      "Epoch: 87, Loss: 0.0000, Train: 100.00%, Valid: 73.00% Test: 77.00%\n",
      "Epoch: 88, Loss: 0.0000, Train: 100.00%, Valid: 73.00% Test: 77.00%\n",
      "Epoch: 89, Loss: 0.0000, Train: 100.00%, Valid: 73.40% Test: 77.00%\n",
      "Epoch: 90, Loss: 0.0001, Train: 100.00%, Valid: 73.60% Test: 77.00%\n",
      "Epoch: 91, Loss: 0.0000, Train: 100.00%, Valid: 74.00% Test: 77.10%\n",
      "Epoch: 92, Loss: 0.0000, Train: 100.00%, Valid: 74.20% Test: 77.20%\n",
      "Epoch: 93, Loss: 0.0002, Train: 100.00%, Valid: 74.00% Test: 77.00%\n",
      "Epoch: 94, Loss: 0.0000, Train: 100.00%, Valid: 74.00% Test: 76.90%\n",
      "Epoch: 95, Loss: 0.0002, Train: 100.00%, Valid: 74.00% Test: 76.90%\n",
      "Epoch: 96, Loss: 0.0000, Train: 100.00%, Valid: 74.00% Test: 77.00%\n",
      "Epoch: 97, Loss: 0.0009, Train: 100.00%, Valid: 73.80% Test: 77.00%\n",
      "Epoch: 98, Loss: 0.0001, Train: 100.00%, Valid: 73.80% Test: 77.00%\n",
      "Epoch: 99, Loss: 0.0000, Train: 100.00%, Valid: 73.80% Test: 76.90%\n",
      "Epoch: 100, Loss: 0.0000, Train: 100.00%, Valid: 73.80% Test: 76.90%\n",
      "Epoch: 101, Loss: 0.0000, Train: 100.00%, Valid: 73.80% Test: 77.00%\n",
      "Epoch: 102, Loss: 0.0008, Train: 100.00%, Valid: 73.60% Test: 76.90%\n",
      "Epoch: 103, Loss: 0.0002, Train: 100.00%, Valid: 73.60% Test: 76.90%\n",
      "Epoch: 104, Loss: 0.0000, Train: 100.00%, Valid: 74.00% Test: 76.80%\n",
      "Epoch: 105, Loss: 0.0003, Train: 100.00%, Valid: 74.00% Test: 76.90%\n",
      "Epoch: 106, Loss: 0.0001, Train: 100.00%, Valid: 73.80% Test: 76.90%\n",
      "Epoch: 107, Loss: 0.0001, Train: 100.00%, Valid: 73.60% Test: 76.70%\n",
      "Epoch: 108, Loss: 0.0000, Train: 100.00%, Valid: 73.60% Test: 76.60%\n",
      "Epoch: 109, Loss: 0.0001, Train: 100.00%, Valid: 73.80% Test: 76.60%\n",
      "Epoch: 110, Loss: 0.0000, Train: 100.00%, Valid: 73.80% Test: 76.50%\n",
      "Epoch: 111, Loss: 0.0000, Train: 100.00%, Valid: 73.80% Test: 76.50%\n",
      "Epoch: 112, Loss: 0.0001, Train: 100.00%, Valid: 73.80% Test: 76.50%\n",
      "Epoch: 113, Loss: 0.0001, Train: 100.00%, Valid: 73.80% Test: 76.50%\n",
      "Epoch: 114, Loss: 0.0001, Train: 100.00%, Valid: 73.80% Test: 76.40%\n",
      "Epoch: 115, Loss: 0.0001, Train: 100.00%, Valid: 73.80% Test: 76.40%\n",
      "Epoch: 116, Loss: 0.0000, Train: 100.00%, Valid: 73.80% Test: 76.40%\n",
      "Epoch: 117, Loss: 0.0001, Train: 100.00%, Valid: 73.80% Test: 76.40%\n",
      "Epoch: 118, Loss: 0.0001, Train: 100.00%, Valid: 73.80% Test: 76.30%\n",
      "Epoch: 119, Loss: 0.0000, Train: 100.00%, Valid: 73.80% Test: 76.20%\n"
     ]
    },
    {
     "name": "stdout",
     "output_type": "stream",
     "text": [
      "Epoch: 120, Loss: 0.0000, Train: 100.00%, Valid: 73.60% Test: 76.20%\n",
      "Epoch: 121, Loss: 0.0005, Train: 100.00%, Valid: 73.60% Test: 76.20%\n",
      "Epoch: 122, Loss: 0.0000, Train: 100.00%, Valid: 73.60% Test: 76.20%\n",
      "Epoch: 123, Loss: 0.0009, Train: 100.00%, Valid: 73.80% Test: 76.30%\n",
      "Epoch: 124, Loss: 0.0000, Train: 100.00%, Valid: 74.00% Test: 76.30%\n",
      "Epoch: 125, Loss: 0.0000, Train: 100.00%, Valid: 74.00% Test: 76.30%\n",
      "Epoch: 126, Loss: 0.0001, Train: 100.00%, Valid: 74.00% Test: 76.30%\n",
      "Epoch: 127, Loss: 0.0000, Train: 100.00%, Valid: 74.00% Test: 76.30%\n",
      "Epoch: 128, Loss: 0.0001, Train: 100.00%, Valid: 74.00% Test: 76.30%\n",
      "Epoch: 129, Loss: 0.0001, Train: 100.00%, Valid: 74.00% Test: 76.30%\n",
      "Epoch: 130, Loss: 0.0000, Train: 100.00%, Valid: 74.00% Test: 76.20%\n",
      "Epoch: 131, Loss: 0.0002, Train: 100.00%, Valid: 74.00% Test: 76.40%\n",
      "Epoch: 132, Loss: 0.0000, Train: 100.00%, Valid: 74.00% Test: 76.40%\n",
      "Epoch: 133, Loss: 0.0001, Train: 100.00%, Valid: 74.00% Test: 76.50%\n",
      "Epoch: 134, Loss: 0.0000, Train: 100.00%, Valid: 74.00% Test: 76.50%\n",
      "Epoch: 135, Loss: 0.0000, Train: 100.00%, Valid: 74.00% Test: 76.60%\n",
      "Epoch: 136, Loss: 0.0001, Train: 100.00%, Valid: 74.00% Test: 76.50%\n",
      "Epoch: 137, Loss: 0.0000, Train: 100.00%, Valid: 74.00% Test: 76.50%\n",
      "Epoch: 138, Loss: 0.0000, Train: 100.00%, Valid: 74.00% Test: 76.50%\n",
      "Epoch: 139, Loss: 0.0001, Train: 100.00%, Valid: 74.00% Test: 76.50%\n",
      "Epoch: 140, Loss: 0.0001, Train: 100.00%, Valid: 74.00% Test: 76.50%\n",
      "Epoch: 141, Loss: 0.0000, Train: 100.00%, Valid: 74.00% Test: 76.50%\n",
      "Epoch: 142, Loss: 0.0000, Train: 100.00%, Valid: 74.00% Test: 76.60%\n",
      "Epoch: 143, Loss: 0.0036, Train: 100.00%, Valid: 73.80% Test: 76.70%\n",
      "Epoch: 144, Loss: 0.0000, Train: 100.00%, Valid: 73.80% Test: 76.70%\n",
      "Epoch: 145, Loss: 0.0001, Train: 100.00%, Valid: 74.00% Test: 76.60%\n",
      "Epoch: 146, Loss: 0.0000, Train: 100.00%, Valid: 74.40% Test: 76.50%\n",
      "Epoch: 147, Loss: 0.0012, Train: 100.00%, Valid: 74.60% Test: 77.00%\n",
      "Epoch: 148, Loss: 0.0001, Train: 100.00%, Valid: 74.60% Test: 77.10%\n",
      "Epoch: 149, Loss: 0.0006, Train: 100.00%, Valid: 74.60% Test: 77.00%\n",
      "Epoch: 150, Loss: 0.0001, Train: 100.00%, Valid: 74.60% Test: 76.80%\n",
      "Best model: Train: 100.00%, Valid: 76.00% Test: 76.90%\n"
     ]
    }
   ],
   "source": [
    "graphs_train, graphs_val, graphs_test = \\\n",
    "    GraphDataset.pyg_to_graphs(pyg_dataset, verbose=True, fixed_split=True)\n",
    "\n",
    "graph_train = graphs_train[0]\n",
    "graph_val = graphs_val[0]\n",
    "graph_test = graphs_test[0]\n",
    "\n",
    "model = GNN(graph_train.num_node_features, args['hidden_size'], graph_train.num_node_labels, args).to(args['device'])\n",
    "optimizer = torch.optim.Adam(model.parameters(), lr=args['lr'])\n",
    "graphs = [graph_train, graph_val, graph_test]\n",
    "all_best_model, all_accs = train(graphs, graphs, args, model, optimizer, mode=\"all\")\n",
    "train_acc, val_acc, test_acc = test([graph_train, graph_val, graph_test], all_best_model)\n",
    "print('Best model:',\n",
    "      f'Train: {100 * train_acc:.2f}%, '\n",
    "      f'Valid: {100 * val_acc:.2f}% '\n",
    "      f'Test: {100 * test_acc:.2f}%')"
   ]
  },
  {
   "cell_type": "markdown",
   "metadata": {
    "id": "6RpuETv7Vpx0"
   },
   "source": [
    "## Visualization"
   ]
  },
  {
   "cell_type": "code",
   "execution_count": 30,
   "metadata": {
    "id": "PMK33kY5VmF5"
   },
   "outputs": [
    {
     "data": {
      "image/png": "[encoded data removed]",
      "text/plain": [
       "<Figure size 648x504 with 1 Axes>"
      ]
     },
     "metadata": {
      "needs_background": "light"
     },
     "output_type": "display_data"
    }
   ],
   "source": [
    "import numpy as np\n",
    "from matplotlib import pyplot as plt\n",
    "\n",
    "louvain_results = np.array(louvain_accs)\n",
    "bisection_results = np.array(bisection_accs)\n",
    "greedy_results = np.array(greedy_accs)\n",
    "all_results = np.array(all_accs)\n",
    "\n",
    "x = np.arange(1, 151)\n",
    "\n",
    "plt.figure(figsize=(9, 7))\n",
    "\n",
    "plt.plot(x, louvain_results[:, 1], label=\"Louvain Validation\")\n",
    "plt.plot(x, louvain_results[:, 2], label=\"Louvain Test\")\n",
    "plt.plot(x, bisection_results[:, 1], label=\"Bisection Validation\")\n",
    "plt.plot(x, bisection_results[:, 2], label=\"Bisection Test\")\n",
    "plt.plot(x, greedy_results[:, 1], label=\"Greedy Validation\")\n",
    "plt.plot(x, greedy_results[:, 2], label=\"Greedy Test\")\n",
    "plt.plot(x, all_results[:, 1], label=\"All Validation\")\n",
    "plt.plot(x, all_results[:, 2], label=\"All Test\")\n",
    "plt.title('Model Accuracy')\n",
    "plt.ylabel('Accuracy')\n",
    "plt.xlabel('Epoch')\n",
    "plt.legend()\n",
    "plt.show()"
   ]
  },
  {
   "cell_type": "code",
   "execution_count": null,
   "metadata": {},
   "outputs": [],
   "source": []
  }
 ],
 "metadata": {
  "accelerator": "GPU",
  "colab": {
   "collapsed_sections": [],
   "machine_shape": "hm",
   "name": "CS224W - Colab 5.ipynb",
   "provenance": [],
   "toc_visible": true
  },
  "kernelspec": {
   "display_name": "Python 3",
   "language": "python",
   "name": "python3"
  },
  "language_info": {
   "codemirror_mode": {
    "name": "ipython",
    "version": 3
   },
   "file_extension": ".py",
   "mimetype": "text/x-python",
   "name": "python",
   "nbconvert_exporter": "python",
   "pygments_lexer": "ipython3",
   "version": "3.6.13"
  }
 },
 "nbformat": 4,
 "nbformat_minor": 1
}
